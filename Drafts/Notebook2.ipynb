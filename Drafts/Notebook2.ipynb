{
 "cells": [
  {
   "cell_type": "markdown",
   "metadata": {},
   "source": [
    "Imports:"
   ]
  },
  {
   "cell_type": "code",
   "execution_count": 1,
   "metadata": {},
   "outputs": [],
   "source": [
    "import pandas as pd\n",
    "import numpy as np\n",
    "import matplotlib.pyplot as plt"
   ]
  },
  {
   "cell_type": "code",
   "execution_count": 2,
   "metadata": {},
   "outputs": [],
   "source": [
    "df_main = pd.read_csv('data/main.csv')\n",
    "df_cat = pd.read_csv('data/categories.csv')\n",
    "df_sim = pd.read_csv('data/similars.csv')\n",
    "df_rev = pd.read_csv('data/reviews.csv')"
   ]
  },
  {
   "cell_type": "code",
   "execution_count": 3,
   "metadata": {},
   "outputs": [],
   "source": [
    "nodes = pd.read_csv(\"data/nodes.csv\")\n",
    "links = pd.read_csv(\"data/links_type.csv\")\n",
    "bilinks = pd.read_csv(\"data/bilinks.csv\")"
   ]
  },
  {
   "cell_type": "markdown",
   "metadata": {},
   "source": [
    "Products-Customers relationships:"
   ]
  },
  {
   "cell_type": "code",
   "execution_count": 4,
   "metadata": {},
   "outputs": [
    {
     "data": {
      "text/html": [
       "<div>\n",
       "<style scoped>\n",
       "    .dataframe tbody tr th:only-of-type {\n",
       "        vertical-align: middle;\n",
       "    }\n",
       "\n",
       "    .dataframe tbody tr th {\n",
       "        vertical-align: top;\n",
       "    }\n",
       "\n",
       "    .dataframe thead th {\n",
       "        text-align: right;\n",
       "    }\n",
       "</style>\n",
       "<table border=\"1\" class=\"dataframe\">\n",
       "  <thead>\n",
       "    <tr style=\"text-align: right;\">\n",
       "      <th></th>\n",
       "      <th>Id</th>\n",
       "      <th>CId</th>\n",
       "      <th>Rating</th>\n",
       "    </tr>\n",
       "  </thead>\n",
       "  <tbody>\n",
       "    <tr>\n",
       "      <th>0</th>\n",
       "      <td>1</td>\n",
       "      <td>110643</td>\n",
       "      <td>5.0</td>\n",
       "    </tr>\n",
       "    <tr>\n",
       "      <th>1</th>\n",
       "      <td>2</td>\n",
       "      <td>133242</td>\n",
       "      <td>5.0</td>\n",
       "    </tr>\n",
       "    <tr>\n",
       "      <th>2</th>\n",
       "      <td>3</td>\n",
       "      <td>3314</td>\n",
       "      <td>5.0</td>\n",
       "    </tr>\n",
       "    <tr>\n",
       "      <th>3</th>\n",
       "      <td>4</td>\n",
       "      <td>217326</td>\n",
       "      <td>4.0</td>\n",
       "    </tr>\n",
       "    <tr>\n",
       "      <th>4</th>\n",
       "      <td>5</td>\n",
       "      <td>7580</td>\n",
       "      <td>5.0</td>\n",
       "    </tr>\n",
       "  </tbody>\n",
       "</table>\n",
       "</div>"
      ],
      "text/plain": [
       "   Id     CId  Rating\n",
       "0   1  110643     5.0\n",
       "1   2  133242     5.0\n",
       "2   3    3314     5.0\n",
       "3   4  217326     4.0\n",
       "4   5    7580     5.0"
      ]
     },
     "execution_count": 4,
     "metadata": {},
     "output_type": "execute_result"
    }
   ],
   "source": [
    "bilinks.head()"
   ]
  },
  {
   "cell_type": "code",
   "execution_count": 5,
   "metadata": {},
   "outputs": [
    {
     "data": {
      "text/plain": [
       "array([5., 4., 1., 2., 3.])"
      ]
     },
     "execution_count": 5,
     "metadata": {},
     "output_type": "execute_result"
    }
   ],
   "source": [
    "bilinks.Rating.unique()"
   ]
  },
  {
   "cell_type": "markdown",
   "metadata": {},
   "source": [
    "- toode-toode erinevus 0 -> sarnasus 4 -> (1)\n",
    "- toode-klient-toode erinevus 0 kuni 4 -> sarnasus 4 kuni 0 -> (1-0)\n",
    "\n",
    "juh toode\n",
    "- naaber 1: 0 -> 4 -> 0.5\n",
    "- naaber 2: 1 -> 3 -> 0.375\n",
    "- naaber 3: 3 -> 1 -> 0.125"
   ]
  },
  {
   "cell_type": "code",
   "execution_count": 6,
   "metadata": {},
   "outputs": [
    {
     "name": "stdout",
     "output_type": "stream",
     "text": [
      "Nbr of Products:  410480\n",
      "Nbr of Customers:  229313\n"
     ]
    }
   ],
   "source": [
    "print(\"Nbr of Products: \",bilinks.Id.nunique())\n",
    "print(\"Nbr of Customers: \", bilinks.CId.nunique())"
   ]
  },
  {
   "cell_type": "markdown",
   "metadata": {},
   "source": [
    "We can see that each product has exactly one relation with one customer:"
   ]
  },
  {
   "cell_type": "code",
   "execution_count": 7,
   "metadata": {},
   "outputs": [
    {
     "data": {
      "text/plain": [
       "1    410480\n",
       "dtype: int64"
      ]
     },
     "execution_count": 7,
     "metadata": {},
     "output_type": "execute_result"
    }
   ],
   "source": [
    "bilinks.groupby(\"Id\").size().value_counts()"
   ]
  },
  {
   "cell_type": "markdown",
   "metadata": {},
   "source": [
    "Customers may have lot of relations with different products:"
   ]
  },
  {
   "cell_type": "code",
   "execution_count": 8,
   "metadata": {},
   "outputs": [],
   "source": [
    "counts = pd.DataFrame(bilinks.groupby(\"CId\").size(),columns=[\"cnt\"])\n",
    "counts.cnt = counts.cnt.astype(\"int\")"
   ]
  },
  {
   "cell_type": "code",
   "execution_count": 9,
   "metadata": {},
   "outputs": [
    {
     "data": {
      "image/png": "[encoded data removed]",
      "text/plain": [
       "<Figure size 1296x288 with 1 Axes>"
      ]
     },
     "metadata": {
      "needs_background": "light"
     },
     "output_type": "display_data"
    }
   ],
   "source": [
    "plt.figure(figsize=(18,4))\n",
    "counts.cnt.value_counts(sort=False).plot(kind=\"bar\")\n",
    "plt.yscale(\"log\")"
   ]
  },
  {
   "cell_type": "markdown",
   "metadata": {},
   "source": [
    "## Idea of the Graph Neural Network\n",
    "### Graph Convolutional Network\n",
    "#### PinSAGE? Pins and Boards vs Items and Users vs Products and Customers\n",
    "\n",
    "1. Collecting **neighbourhood** of item and presenting the item through its neighbourhood. -> We need to define the neighbourhood of item in bipartite graph.\n",
    "2. Items **initial representation** should be embeddings created based on its features. -> We need to determine features for the items.\n",
    "3. ...\n",
    "4. PinSAGE creates embeddings based on item and its neighbourhood features.\n"
   ]
  },
  {
   "cell_type": "markdown",
   "metadata": {},
   "source": [
    "Generate random product - find related customer - collect customer's all products\n",
    "- Execute the following many times\n",
    "- We can see the random product and its one hop neighbourhood products\n",
    "- So, the neighbourhood of product would be the products of same related customer"
   ]
  },
  {
   "cell_type": "code",
   "execution_count": 10,
   "metadata": {},
   "outputs": [
    {
     "name": "stdout",
     "output_type": "stream",
     "text": [
      "Random product:  286285\n"
     ]
    }
   ],
   "source": [
    "random_product = np.random.choice(range(bilinks.Id.nunique()))\n",
    "print(\"Random product: \", random_product)\n",
    "related_customers = list(bilinks[bilinks.Id==random_product][\"CId\"])\n",
    "for customer in related_customers:\n",
    "    customer_products = bilinks[bilinks.CId==customer]\n",
    "    print(customer_products)"
   ]
  },
  {
   "cell_type": "code",
   "execution_count": 11,
   "metadata": {},
   "outputs": [
    {
     "name": "stdout",
     "output_type": "stream",
     "text": [
      "Random product:  100098\n",
      "           Id     CId  Rating\n",
      "95309  123080  256337     3.0\n",
      "[123080]\n",
      "[3.0]\n",
      "3.0\n"
     ]
    }
   ],
   "source": [
    "random_product = np.random.choice(range(bilinks.Id.nunique()))\n",
    "print(\"Random product: \", random_product)\n",
    "related_customers = list(bilinks[bilinks.Id==random_product][\"CId\"])\n",
    "for customer in related_customers:\n",
    "    df = bilinks[(bilinks.CId==customer) & (bilinks.Id != random_product)]\n",
    "    print(df)\n",
    "    print(list(df.Id.values))\n",
    "    print(list(df.Rating.values))\n",
    "\n",
    "print(bilinks[bilinks.Id==random_product][\"Rating\"].mean())"
   ]
  },
  {
   "cell_type": "code",
   "execution_count": 31,
   "metadata": {},
   "outputs": [],
   "source": [
    "def find_neighbourhood(Product,bilinks=bilinks):\n",
    "    \"\"\"\n",
    "    Finds 1-hop neighbours through common customer.\n",
    "    \"\"\"\n",
    "    #if Product not in bilinks.Id.values: return\n",
    "    Neighbourhood = []\n",
    "    Similarities = []\n",
    "    ProdRating = bilinks[bilinks.Id==Product][\"Rating\"].mean()\n",
    "    related_customers = list(bilinks[bilinks.Id==Product][\"CId\"])\n",
    "    for customer in related_customers:\n",
    "        df = bilinks[(bilinks.CId==customer) & (bilinks.Id != Product)]\n",
    "        Neighbourhood += list(df.Id.values)\n",
    "        Similarities += list(4.0-np.abs(df.Rating.values-ProdRating))\n",
    "    return Neighbourhood, Similarities"
   ]
  },
  {
   "cell_type": "code",
   "execution_count": 32,
   "metadata": {},
   "outputs": [
    {
     "name": "stdout",
     "output_type": "stream",
     "text": [
      "([222290, 306430, 356428, 365115, 371825, 381584, 397849], [3.0, 2.0, 2.0, 2.0, 4.0, 4.0, 2.0])\n"
     ]
    }
   ],
   "source": [
    "print(find_neighbourhood(370470))"
   ]
  },
  {
   "cell_type": "code",
   "execution_count": 14,
   "metadata": {},
   "outputs": [
    {
     "name": "stdout",
     "output_type": "stream",
     "text": [
      "229217\n"
     ]
    },
    {
     "data": {
      "text/plain": [
       "[137760]"
      ]
     },
     "execution_count": 14,
     "metadata": {},
     "output_type": "execute_result"
    }
   ],
   "source": [
    "one_hop_neighbourhood,_ = find_neighbourhood(137760)\n",
    "two_hop_neighbourhood = []\n",
    "for neighbour in one_hop_neighbourhood:\n",
    "    print(neighbour)\n",
    "    next_neighbours,_ = find_neighbourhood(neighbour)\n",
    "    two_hop_neighbourhood += next_neighbours\n",
    "\n",
    "two_hop_neighbourhood"
   ]
  },
  {
   "cell_type": "code",
   "execution_count": 15,
   "metadata": {},
   "outputs": [
    {
     "data": {
      "text/html": [
       "<div>\n",
       "<style scoped>\n",
       "    .dataframe tbody tr th:only-of-type {\n",
       "        vertical-align: middle;\n",
       "    }\n",
       "\n",
       "    .dataframe tbody tr th {\n",
       "        vertical-align: top;\n",
       "    }\n",
       "\n",
       "    .dataframe thead th {\n",
       "        text-align: right;\n",
       "    }\n",
       "</style>\n",
       "<table border=\"1\" class=\"dataframe\">\n",
       "  <thead>\n",
       "    <tr style=\"text-align: right;\">\n",
       "      <th></th>\n",
       "      <th>from</th>\n",
       "      <th>to</th>\n",
       "      <th>conn_type</th>\n",
       "    </tr>\n",
       "  </thead>\n",
       "  <tbody>\n",
       "    <tr>\n",
       "      <th>0</th>\n",
       "      <td>500600</td>\n",
       "      <td>1</td>\n",
       "      <td>BookBook</td>\n",
       "    </tr>\n",
       "    <tr>\n",
       "      <th>1</th>\n",
       "      <td>454888</td>\n",
       "      <td>2</td>\n",
       "      <td>BookBook</td>\n",
       "    </tr>\n",
       "    <tr>\n",
       "      <th>2</th>\n",
       "      <td>355935</td>\n",
       "      <td>7</td>\n",
       "      <td>MusicMusic</td>\n",
       "    </tr>\n",
       "    <tr>\n",
       "      <th>3</th>\n",
       "      <td>55461</td>\n",
       "      <td>8</td>\n",
       "      <td>BookBook</td>\n",
       "    </tr>\n",
       "    <tr>\n",
       "      <th>4</th>\n",
       "      <td>445607</td>\n",
       "      <td>8</td>\n",
       "      <td>BookBook</td>\n",
       "    </tr>\n",
       "  </tbody>\n",
       "</table>\n",
       "</div>"
      ],
      "text/plain": [
       "     from  to   conn_type\n",
       "0  500600   1    BookBook\n",
       "1  454888   2    BookBook\n",
       "2  355935   7  MusicMusic\n",
       "3   55461   8    BookBook\n",
       "4  445607   8    BookBook"
      ]
     },
     "execution_count": 15,
     "metadata": {},
     "output_type": "execute_result"
    }
   ],
   "source": [
    "links.head()"
   ]
  },
  {
   "cell_type": "code",
   "execution_count": 33,
   "metadata": {},
   "outputs": [],
   "source": [
    "def get_neighbourhood(Product, links=links):\n",
    "    \"\"\"\n",
    "    Gets all 1-hop neighbours (through common customer and direct neighbours).\n",
    "    \"\"\"\n",
    "    Neighbourhood = []\n",
    "    Similarities = []\n",
    "    N, S = find_neighbourhood(Product)\n",
    "    Neighbourhood += N\n",
    "    Similarities += S\n",
    "    Neighbourhood += list(links[links[\"from\"]==Product][\"to\"]) \n",
    "    Neighbourhood += list(links[links[\"to\"]==Product][\"from\"])\n",
    "    n = len(Neighbourhood)-len(Similarities)\n",
    "    if n>0: Similarities += n*[4.0]\n",
    "    summa = np.maximum(sum(Similarities),0.1)\n",
    "    Probabilities = list(np.array(Similarities)/summa)\n",
    "    return Neighbourhood, Probabilities"
   ]
  },
  {
   "cell_type": "code",
   "execution_count": 34,
   "metadata": {},
   "outputs": [
    {
     "data": {
      "text/plain": [
       "([222290, 306430, 356428, 365115, 371825, 381584, 397849],\n",
       " [0.15789473684210525,\n",
       "  0.10526315789473684,\n",
       "  0.10526315789473684,\n",
       "  0.10526315789473684,\n",
       "  0.21052631578947367,\n",
       "  0.21052631578947367,\n",
       "  0.10526315789473684])"
      ]
     },
     "execution_count": 34,
     "metadata": {},
     "output_type": "execute_result"
    }
   ],
   "source": [
    "N, S = get_neighbourhood(370470)\n",
    "N, S"
   ]
  },
  {
   "cell_type": "code",
   "execution_count": 18,
   "metadata": {},
   "outputs": [
    {
     "data": {
      "text/html": [
       "<div>\n",
       "<style scoped>\n",
       "    .dataframe tbody tr th:only-of-type {\n",
       "        vertical-align: middle;\n",
       "    }\n",
       "\n",
       "    .dataframe tbody tr th {\n",
       "        vertical-align: top;\n",
       "    }\n",
       "\n",
       "    .dataframe thead th {\n",
       "        text-align: right;\n",
       "    }\n",
       "</style>\n",
       "<table border=\"1\" class=\"dataframe\">\n",
       "  <thead>\n",
       "    <tr style=\"text-align: right;\">\n",
       "      <th></th>\n",
       "      <th>Id</th>\n",
       "      <th>CId</th>\n",
       "      <th>Rating</th>\n",
       "    </tr>\n",
       "  </thead>\n",
       "  <tbody>\n",
       "  </tbody>\n",
       "</table>\n",
       "</div>"
      ],
      "text/plain": [
       "Empty DataFrame\n",
       "Columns: [Id, CId, Rating]\n",
       "Index: []"
      ]
     },
     "execution_count": 18,
     "metadata": {},
     "output_type": "execute_result"
    }
   ],
   "source": [
    "bilinks[bilinks.Id==363401]"
   ]
  },
  {
   "cell_type": "code",
   "execution_count": 19,
   "metadata": {},
   "outputs": [
    {
     "name": "stdout",
     "output_type": "stream",
     "text": [
      "Random product:  366931\n",
      "1-hop neighbourhood:  [94599, 117273, 172177, 195956, 242411, 243669, 248775, 328520, 345921, 362785, 369982, 413886, 425925, 434027, 469864, 189234]\n",
      "2-hop neighbourhood:  [117273, 172177, 195956, 242411, 243669, 248775, 328520, 345921, 362785, 366931, 369982, 413886, 425925, 434027, 469864, 156091, 243753, 94599, 172177, 195956, 242411, 243669, 248775, 328520, 345921, 362785, 366931, 369982, 413886, 425925, 434027, 469864, 94599, 117273, 195956, 242411, 243669, 248775, 328520, 345921, 362785, 366931, 369982, 413886, 425925, 434027, 469864, 94599, 117273, 172177, 242411, 243669, 248775, 328520, 345921, 362785, 366931, 369982, 413886, 425925, 434027, 469864, 94599, 117273, 172177, 195956, 243669, 248775, 328520, 345921, 362785, 366931, 369982, 413886, 425925, 434027, 469864, 212237, 212237, 94599, 117273, 172177, 195956, 242411, 248775, 328520, 345921, 362785, 366931, 369982, 413886, 425925, 434027, 469864, 281127, 94599, 117273, 172177, 195956, 242411, 243669, 328520, 345921, 362785, 366931, 369982, 413886, 425925, 434027, 469864, 84915, 94599, 117273, 172177, 195956, 242411, 243669, 248775, 345921, 362785, 366931, 369982, 413886, 425925, 434027, 469864, 94599, 117273, 172177, 195956, 242411, 243669, 248775, 328520, 362785, 366931, 369982, 413886, 425925, 434027, 469864, 115703, 80629, 472997, 94599, 117273, 172177, 195956, 242411, 243669, 248775, 328520, 345921, 366931, 369982, 413886, 425925, 434027, 469864, 366914, 19817, 238077, 342672, 387445, 414520, 505296, 94599, 117273, 172177, 195956, 242411, 243669, 248775, 328520, 345921, 362785, 366931, 413886, 425925, 434027, 469864, 94599, 117273, 172177, 195956, 242411, 243669, 248775, 328520, 345921, 362785, 366931, 369982, 425925, 434027, 469864, 51481, 94599, 117273, 172177, 195956, 242411, 243669, 248775, 328520, 345921, 362785, 366931, 369982, 413886, 434027, 469864, 21372, 94599, 117273, 172177, 195956, 242411, 243669, 248775, 328520, 345921, 362785, 366931, 369982, 413886, 425925, 469864, 166075, 94599, 117273, 172177, 195956, 242411, 243669, 248775, 328520, 345921, 362785, 366931, 369982, 413886, 425925, 434027, 438669, 78496, 506474, 16790, 16790, 141825, 162536, 307797, 366931, 426791]\n"
     ]
    }
   ],
   "source": [
    "random_product = np.random.choice(range(bilinks.Id.nunique()))\n",
    "print(\"Random product: \", random_product)\n",
    "one_hop,_ = get_neighbourhood(random_product)\n",
    "print(\"1-hop neighbourhood: \", one_hop)\n",
    "two_hop = []\n",
    "for neighbour in one_hop:\n",
    "    N, _ = get_neighbourhood(neighbour)\n",
    "    two_hop += N\n",
    "print(\"2-hop neighbourhood: \", two_hop)\n",
    "# three_hop = []\n",
    "# for neighbour in two_hop:\n",
    "#     N, _ = get_neighbourhood(neighbour)\n",
    "#     three_hop += N\n",
    "# print(\"3-hop neighbourhood: \", three_hop)"
   ]
  },
  {
   "cell_type": "code",
   "execution_count": 20,
   "metadata": {},
   "outputs": [
    {
     "data": {
      "text/plain": [
       "([], [])"
      ]
     },
     "execution_count": 20,
     "metadata": {},
     "output_type": "execute_result"
    }
   ],
   "source": [
    "find_neighbourhood(316872)"
   ]
  },
  {
   "cell_type": "code",
   "execution_count": 21,
   "metadata": {},
   "outputs": [],
   "source": [
    "def get_receptive_field(Product, K=2):\n",
    "    Neighbourhood,Probabilities = get_neighbourhood(Product)\n",
    "    if len(Neighbourhood)>0: \n",
    "        Field = list(np.random.choice(Neighbourhood,size=K,replace=True,p=Probabilities))\n",
    "        return Field\n",
    "    else:\n",
    "        return None"
   ]
  },
  {
   "cell_type": "code",
   "execution_count": 22,
   "metadata": {},
   "outputs": [
    {
     "data": {
      "text/plain": [
       "391714"
      ]
     },
     "execution_count": 22,
     "metadata": {},
     "output_type": "execute_result"
    }
   ],
   "source": [
    "get_receptive_field(309577,1)[0]"
   ]
  },
  {
   "cell_type": "code",
   "execution_count": 23,
   "metadata": {},
   "outputs": [],
   "source": [
    "def generate_random_walk(Product, H=5):\n",
    "    random_walk = [Product]\n",
    "    for hop in range(H):\n",
    "        step = get_receptive_field(random_walk[hop],1)\n",
    "        if step != None: random_walk.append(step[0])\n",
    "        else: break\n",
    "    return random_walk[1:]"
   ]
  },
  {
   "cell_type": "code",
   "execution_count": 24,
   "metadata": {},
   "outputs": [
    {
     "data": {
      "text/html": [
       "<div>\n",
       "<style scoped>\n",
       "    .dataframe tbody tr th:only-of-type {\n",
       "        vertical-align: middle;\n",
       "    }\n",
       "\n",
       "    .dataframe tbody tr th {\n",
       "        vertical-align: top;\n",
       "    }\n",
       "\n",
       "    .dataframe thead th {\n",
       "        text-align: right;\n",
       "    }\n",
       "</style>\n",
       "<table border=\"1\" class=\"dataframe\">\n",
       "  <thead>\n",
       "    <tr style=\"text-align: right;\">\n",
       "      <th></th>\n",
       "      <th>Id</th>\n",
       "      <th>CId</th>\n",
       "      <th>Rating</th>\n",
       "    </tr>\n",
       "  </thead>\n",
       "  <tbody>\n",
       "    <tr>\n",
       "      <th>9665</th>\n",
       "      <td>11945</td>\n",
       "      <td>68022</td>\n",
       "      <td>5.0</td>\n",
       "    </tr>\n",
       "    <tr>\n",
       "      <th>82877</th>\n",
       "      <td>106116</td>\n",
       "      <td>149342</td>\n",
       "      <td>5.0</td>\n",
       "    </tr>\n",
       "  </tbody>\n",
       "</table>\n",
       "</div>"
      ],
      "text/plain": [
       "           Id     CId  Rating\n",
       "9665    11945   68022     5.0\n",
       "82877  106116  149342     5.0"
      ]
     },
     "execution_count": 24,
     "metadata": {},
     "output_type": "execute_result"
    }
   ],
   "source": [
    "bilinks[(bilinks.Id==11945) | (bilinks.Id==106116)]"
   ]
  },
  {
   "cell_type": "code",
   "execution_count": 25,
   "metadata": {},
   "outputs": [
    {
     "data": {
      "text/plain": [
       "([106116], [1.0])"
      ]
     },
     "execution_count": 25,
     "metadata": {},
     "output_type": "execute_result"
    }
   ],
   "source": [
    "get_neighbourhood(11945)"
   ]
  },
  {
   "cell_type": "code",
   "execution_count": 26,
   "metadata": {},
   "outputs": [
    {
     "data": {
      "text/plain": [
       "[106116, 11945, 106116, 11945, 106116]"
      ]
     },
     "execution_count": 26,
     "metadata": {},
     "output_type": "execute_result"
    }
   ],
   "source": [
    "generate_random_walk(11945)"
   ]
  },
  {
   "cell_type": "code",
   "execution_count": 27,
   "metadata": {},
   "outputs": [
    {
     "name": "stdout",
     "output_type": "stream",
     "text": [
      "Random product:  224507\n"
     ]
    },
    {
     "data": {
      "text/plain": [
       "[15469, 349556, 15469, 224507, 15469, 224507, 15469]"
      ]
     },
     "execution_count": 27,
     "metadata": {},
     "output_type": "execute_result"
    }
   ],
   "source": [
    "random_product = np.random.choice(range(bilinks.Id.nunique()))\n",
    "print(\"Random product: \", random_product)\n",
    "generate_random_walk(random_product,H=7)"
   ]
  },
  {
   "cell_type": "code",
   "execution_count": 28,
   "metadata": {},
   "outputs": [],
   "source": [
    "def L1_norm(dictionary):\n",
    "    s = sum(list(dictionary.values()))\n",
    "    N = {k: v/s for k, v in sorted(dictionary.items(), key=lambda item: item[1],reverse=True)}\n",
    "    return N"
   ]
  },
  {
   "cell_type": "code",
   "execution_count": 29,
   "metadata": {},
   "outputs": [],
   "source": [
    "def importance_pooling(Product,T):\n",
    "    Neighbourhood = {}\n",
    "    for times in range(T):\n",
    "        collect = generate_random_walk(Product,H=T)\n",
    "        for neighbour in collect:\n",
    "            if neighbour in Neighbourhood: Neighbourhood[neighbour] += 1\n",
    "            else: Neighbourhood[neighbour] = 1\n",
    "    Neighbourhood = L1_norm(Neighbourhood)\n",
    "    Neighbourhood = dict(list(Neighbourhood.items())[:T])\n",
    "    return Neighbourhood"
   ]
  },
  {
   "cell_type": "code",
   "execution_count": 30,
   "metadata": {},
   "outputs": [
    {
     "name": "stdout",
     "output_type": "stream",
     "text": [
      "{373631: 0.12, 373618: 0.06, 82902: 0.05, 441095: 0.03, 262152: 0.02, 387378: 0.02, 30023: 0.02, 423643: 0.02, 141290: 0.02, 66486: 0.02}\n"
     ]
    }
   ],
   "source": [
    "N = importance_pooling(373618,T=10)\n",
    "print(N)"
   ]
  },
  {
   "cell_type": "markdown",
   "metadata": {},
   "source": [
    "### Features"
   ]
  },
  {
   "cell_type": "code",
   "execution_count": 38,
   "metadata": {},
   "outputs": [
    {
     "data": {
      "text/html": [
       "<div>\n",
       "<style scoped>\n",
       "    .dataframe tbody tr th:only-of-type {\n",
       "        vertical-align: middle;\n",
       "    }\n",
       "\n",
       "    .dataframe tbody tr th {\n",
       "        vertical-align: top;\n",
       "    }\n",
       "\n",
       "    .dataframe thead th {\n",
       "        text-align: right;\n",
       "    }\n",
       "</style>\n",
       "<table border=\"1\" class=\"dataframe\">\n",
       "  <thead>\n",
       "    <tr style=\"text-align: right;\">\n",
       "      <th></th>\n",
       "      <th>Id</th>\n",
       "      <th>ASIN</th>\n",
       "      <th>Title</th>\n",
       "      <th>Group</th>\n",
       "      <th>Salesrank</th>\n",
       "      <th>NbrOfSimilar</th>\n",
       "      <th>NbrOfCategories</th>\n",
       "      <th>TotalReviews</th>\n",
       "      <th>Downloaded</th>\n",
       "      <th>AvgRating</th>\n",
       "    </tr>\n",
       "  </thead>\n",
       "  <tbody>\n",
       "    <tr>\n",
       "      <th>0</th>\n",
       "      <td>1</td>\n",
       "      <td>0827229534</td>\n",
       "      <td>Patterns of Preaching: A Sermon Sampler</td>\n",
       "      <td>Book</td>\n",
       "      <td>396585</td>\n",
       "      <td>5</td>\n",
       "      <td>2</td>\n",
       "      <td>2</td>\n",
       "      <td>2</td>\n",
       "      <td>5.0</td>\n",
       "    </tr>\n",
       "    <tr>\n",
       "      <th>1</th>\n",
       "      <td>2</td>\n",
       "      <td>0738700797</td>\n",
       "      <td>Candlemas: Feast of Flames</td>\n",
       "      <td>Book</td>\n",
       "      <td>168596</td>\n",
       "      <td>5</td>\n",
       "      <td>2</td>\n",
       "      <td>12</td>\n",
       "      <td>12</td>\n",
       "      <td>4.5</td>\n",
       "    </tr>\n",
       "    <tr>\n",
       "      <th>2</th>\n",
       "      <td>3</td>\n",
       "      <td>0486287785</td>\n",
       "      <td>World War II Allied Fighter Planes Trading Cards</td>\n",
       "      <td>Book</td>\n",
       "      <td>1270652</td>\n",
       "      <td>0</td>\n",
       "      <td>1</td>\n",
       "      <td>1</td>\n",
       "      <td>1</td>\n",
       "      <td>5.0</td>\n",
       "    </tr>\n",
       "    <tr>\n",
       "      <th>3</th>\n",
       "      <td>4</td>\n",
       "      <td>0842328327</td>\n",
       "      <td>Life Application Bible Commentary: 1 and 2 Tim...</td>\n",
       "      <td>Book</td>\n",
       "      <td>631289</td>\n",
       "      <td>5</td>\n",
       "      <td>5</td>\n",
       "      <td>1</td>\n",
       "      <td>1</td>\n",
       "      <td>4.0</td>\n",
       "    </tr>\n",
       "    <tr>\n",
       "      <th>4</th>\n",
       "      <td>5</td>\n",
       "      <td>1577943082</td>\n",
       "      <td>Prayers That Avail Much for Business: Executive</td>\n",
       "      <td>Book</td>\n",
       "      <td>455160</td>\n",
       "      <td>5</td>\n",
       "      <td>2</td>\n",
       "      <td>0</td>\n",
       "      <td>0</td>\n",
       "      <td>0.0</td>\n",
       "    </tr>\n",
       "  </tbody>\n",
       "</table>\n",
       "</div>"
      ],
      "text/plain": [
       "   Id        ASIN                                              Title Group  \\\n",
       "0   1  0827229534            Patterns of Preaching: A Sermon Sampler  Book   \n",
       "1   2  0738700797                         Candlemas: Feast of Flames  Book   \n",
       "2   3  0486287785   World War II Allied Fighter Planes Trading Cards  Book   \n",
       "3   4  0842328327  Life Application Bible Commentary: 1 and 2 Tim...  Book   \n",
       "4   5  1577943082    Prayers That Avail Much for Business: Executive  Book   \n",
       "\n",
       "   Salesrank  NbrOfSimilar  NbrOfCategories  TotalReviews  Downloaded  \\\n",
       "0     396585             5                2             2           2   \n",
       "1     168596             5                2            12          12   \n",
       "2    1270652             0                1             1           1   \n",
       "3     631289             5                5             1           1   \n",
       "4     455160             5                2             0           0   \n",
       "\n",
       "   AvgRating  \n",
       "0        5.0  \n",
       "1        4.5  \n",
       "2        5.0  \n",
       "3        4.0  \n",
       "4        0.0  "
      ]
     },
     "execution_count": 38,
     "metadata": {},
     "output_type": "execute_result"
    }
   ],
   "source": [
    "nodes.head()"
   ]
  },
  {
   "cell_type": "markdown",
   "metadata": {},
   "source": [
    "Group, Salesrank, AvgRating"
   ]
  },
  {
   "cell_type": "code",
   "execution_count": 39,
   "metadata": {},
   "outputs": [
    {
     "data": {
      "text/plain": [
       "<AxesSubplot:>"
      ]
     },
     "execution_count": 39,
     "metadata": {},
     "output_type": "execute_result"
    },
    {
     "data": {
      "image/png": "[encoded data removed]",
      "text/plain": [
       "<Figure size 432x288 with 1 Axes>"
      ]
     },
     "metadata": {
      "needs_background": "light"
     },
     "output_type": "display_data"
    }
   ],
   "source": [
    "nodes.Salesrank.hist()"
   ]
  },
  {
   "cell_type": "code",
   "execution_count": 40,
   "metadata": {},
   "outputs": [
    {
     "data": {
      "text/html": [
       "<div>\n",
       "<style scoped>\n",
       "    .dataframe tbody tr th:only-of-type {\n",
       "        vertical-align: middle;\n",
       "    }\n",
       "\n",
       "    .dataframe tbody tr th {\n",
       "        vertical-align: top;\n",
       "    }\n",
       "\n",
       "    .dataframe thead th {\n",
       "        text-align: right;\n",
       "    }\n",
       "</style>\n",
       "<table border=\"1\" class=\"dataframe\">\n",
       "  <thead>\n",
       "    <tr style=\"text-align: right;\">\n",
       "      <th></th>\n",
       "      <th>Id</th>\n",
       "      <th>ASIN</th>\n",
       "      <th>L1</th>\n",
       "      <th>L2</th>\n",
       "      <th>L3</th>\n",
       "      <th>L4</th>\n",
       "    </tr>\n",
       "  </thead>\n",
       "  <tbody>\n",
       "    <tr>\n",
       "      <th>0</th>\n",
       "      <td>1</td>\n",
       "      <td>0827229534</td>\n",
       "      <td>Books[283155]</td>\n",
       "      <td>Subjects[1000]</td>\n",
       "      <td>Religion &amp; Spirituality[22]</td>\n",
       "      <td>Christianity[12290]</td>\n",
       "    </tr>\n",
       "    <tr>\n",
       "      <th>1</th>\n",
       "      <td>1</td>\n",
       "      <td>0827229534</td>\n",
       "      <td>Books[283155]</td>\n",
       "      <td>Subjects[1000]</td>\n",
       "      <td>Religion &amp; Spirituality[22]</td>\n",
       "      <td>Christianity[12290]</td>\n",
       "    </tr>\n",
       "    <tr>\n",
       "      <th>2</th>\n",
       "      <td>2</td>\n",
       "      <td>0738700797</td>\n",
       "      <td>Books[283155]</td>\n",
       "      <td>Subjects[1000]</td>\n",
       "      <td>Religion &amp; Spirituality[22]</td>\n",
       "      <td>Earth-Based Religions[12472]</td>\n",
       "    </tr>\n",
       "    <tr>\n",
       "      <th>3</th>\n",
       "      <td>2</td>\n",
       "      <td>0738700797</td>\n",
       "      <td>Books[283155]</td>\n",
       "      <td>Subjects[1000]</td>\n",
       "      <td>Religion &amp; Spirituality[22]</td>\n",
       "      <td>Earth-Based Religions[12472]</td>\n",
       "    </tr>\n",
       "    <tr>\n",
       "      <th>4</th>\n",
       "      <td>3</td>\n",
       "      <td>0486287785</td>\n",
       "      <td>Books[283155]</td>\n",
       "      <td>Subjects[1000]</td>\n",
       "      <td>Home &amp; Garden[48]</td>\n",
       "      <td>Crafts &amp; Hobbies[5126]</td>\n",
       "    </tr>\n",
       "  </tbody>\n",
       "</table>\n",
       "</div>"
      ],
      "text/plain": [
       "   Id        ASIN             L1               L2  \\\n",
       "0   1  0827229534  Books[283155]   Subjects[1000]   \n",
       "1   1  0827229534  Books[283155]   Subjects[1000]   \n",
       "2   2  0738700797  Books[283155]   Subjects[1000]   \n",
       "3   2  0738700797  Books[283155]   Subjects[1000]   \n",
       "4   3  0486287785  Books[283155]   Subjects[1000]   \n",
       "\n",
       "                             L3                             L4  \n",
       "0   Religion & Spirituality[22]            Christianity[12290]  \n",
       "1   Religion & Spirituality[22]            Christianity[12290]  \n",
       "2   Religion & Spirituality[22]   Earth-Based Religions[12472]  \n",
       "3   Religion & Spirituality[22]   Earth-Based Religions[12472]  \n",
       "4             Home & Garden[48]         Crafts & Hobbies[5126]  "
      ]
     },
     "execution_count": 40,
     "metadata": {},
     "output_type": "execute_result"
    }
   ],
   "source": [
    "df_cat = pd.read_csv('data/categories.csv')\n",
    "df_cat.head()"
   ]
  },
  {
   "cell_type": "code",
   "execution_count": 41,
   "metadata": {},
   "outputs": [
    {
     "data": {
      "text/html": [
       "<div>\n",
       "<style scoped>\n",
       "    .dataframe tbody tr th:only-of-type {\n",
       "        vertical-align: middle;\n",
       "    }\n",
       "\n",
       "    .dataframe tbody tr th {\n",
       "        vertical-align: top;\n",
       "    }\n",
       "\n",
       "    .dataframe thead th {\n",
       "        text-align: right;\n",
       "    }\n",
       "</style>\n",
       "<table border=\"1\" class=\"dataframe\">\n",
       "  <thead>\n",
       "    <tr style=\"text-align: right;\">\n",
       "      <th></th>\n",
       "      <th>Id</th>\n",
       "      <th>L1</th>\n",
       "      <th>L2</th>\n",
       "      <th>L3</th>\n",
       "      <th>L4</th>\n",
       "    </tr>\n",
       "  </thead>\n",
       "  <tbody>\n",
       "    <tr>\n",
       "      <th>0</th>\n",
       "      <td>1</td>\n",
       "      <td>Books[283155]</td>\n",
       "      <td>Subjects[1000]</td>\n",
       "      <td>Religion &amp; Spirituality[22]</td>\n",
       "      <td>Christianity[12290]</td>\n",
       "    </tr>\n",
       "    <tr>\n",
       "      <th>1</th>\n",
       "      <td>1</td>\n",
       "      <td>Books[283155]</td>\n",
       "      <td>Subjects[1000]</td>\n",
       "      <td>Religion &amp; Spirituality[22]</td>\n",
       "      <td>Christianity[12290]</td>\n",
       "    </tr>\n",
       "    <tr>\n",
       "      <th>2</th>\n",
       "      <td>2</td>\n",
       "      <td>Books[283155]</td>\n",
       "      <td>Subjects[1000]</td>\n",
       "      <td>Religion &amp; Spirituality[22]</td>\n",
       "      <td>Earth-Based Religions[12472]</td>\n",
       "    </tr>\n",
       "    <tr>\n",
       "      <th>3</th>\n",
       "      <td>2</td>\n",
       "      <td>Books[283155]</td>\n",
       "      <td>Subjects[1000]</td>\n",
       "      <td>Religion &amp; Spirituality[22]</td>\n",
       "      <td>Earth-Based Religions[12472]</td>\n",
       "    </tr>\n",
       "    <tr>\n",
       "      <th>4</th>\n",
       "      <td>3</td>\n",
       "      <td>Books[283155]</td>\n",
       "      <td>Subjects[1000]</td>\n",
       "      <td>Home &amp; Garden[48]</td>\n",
       "      <td>Crafts &amp; Hobbies[5126]</td>\n",
       "    </tr>\n",
       "    <tr>\n",
       "      <th>...</th>\n",
       "      <td>...</td>\n",
       "      <td>...</td>\n",
       "      <td>...</td>\n",
       "      <td>...</td>\n",
       "      <td>...</td>\n",
       "    </tr>\n",
       "    <tr>\n",
       "      <th>2538464</th>\n",
       "      <td>548551</td>\n",
       "      <td>Music[5174]</td>\n",
       "      <td>Styles[301668]</td>\n",
       "      <td>Broadway &amp; Vocalists[265640]</td>\n",
       "      <td>Classic Vocalists[67178]</td>\n",
       "    </tr>\n",
       "    <tr>\n",
       "      <th>2538465</th>\n",
       "      <td>548551</td>\n",
       "      <td>Music[5174]</td>\n",
       "      <td>Styles[301668]</td>\n",
       "      <td>Broadway &amp; Vocalists[265640]</td>\n",
       "      <td>Traditional Vocal Pop[513060]</td>\n",
       "    </tr>\n",
       "    <tr>\n",
       "      <th>2538466</th>\n",
       "      <td>548551</td>\n",
       "      <td>Music[5174]</td>\n",
       "      <td>Styles[301668]</td>\n",
       "      <td>Pop[37]</td>\n",
       "      <td>Vocal Pop[406646]</td>\n",
       "    </tr>\n",
       "    <tr>\n",
       "      <th>2538467</th>\n",
       "      <td>548551</td>\n",
       "      <td>Music[5174]</td>\n",
       "      <td>Styles[301668]</td>\n",
       "      <td>Pop[37]</td>\n",
       "      <td>Vocal Pop[406646]</td>\n",
       "    </tr>\n",
       "    <tr>\n",
       "      <th>2538468</th>\n",
       "      <td>548551</td>\n",
       "      <td>Music[5174]</td>\n",
       "      <td>Styles[301668]</td>\n",
       "      <td>Broadway &amp; Vocalists[265640]</td>\n",
       "      <td>General[912012]</td>\n",
       "    </tr>\n",
       "  </tbody>\n",
       "</table>\n",
       "<p>2538469 rows × 5 columns</p>\n",
       "</div>"
      ],
      "text/plain": [
       "             Id             L1               L2  \\\n",
       "0             1  Books[283155]   Subjects[1000]   \n",
       "1             1  Books[283155]   Subjects[1000]   \n",
       "2             2  Books[283155]   Subjects[1000]   \n",
       "3             2  Books[283155]   Subjects[1000]   \n",
       "4             3  Books[283155]   Subjects[1000]   \n",
       "...         ...            ...              ...   \n",
       "2538464  548551    Music[5174]   Styles[301668]   \n",
       "2538465  548551    Music[5174]   Styles[301668]   \n",
       "2538466  548551    Music[5174]   Styles[301668]   \n",
       "2538467  548551    Music[5174]   Styles[301668]   \n",
       "2538468  548551    Music[5174]   Styles[301668]   \n",
       "\n",
       "                                    L3                              L4  \n",
       "0          Religion & Spirituality[22]             Christianity[12290]  \n",
       "1          Religion & Spirituality[22]             Christianity[12290]  \n",
       "2          Religion & Spirituality[22]    Earth-Based Religions[12472]  \n",
       "3          Religion & Spirituality[22]    Earth-Based Religions[12472]  \n",
       "4                    Home & Garden[48]          Crafts & Hobbies[5126]  \n",
       "...                                ...                             ...  \n",
       "2538464   Broadway & Vocalists[265640]        Classic Vocalists[67178]  \n",
       "2538465   Broadway & Vocalists[265640]   Traditional Vocal Pop[513060]  \n",
       "2538466                        Pop[37]               Vocal Pop[406646]  \n",
       "2538467                        Pop[37]               Vocal Pop[406646]  \n",
       "2538468   Broadway & Vocalists[265640]                 General[912012]  \n",
       "\n",
       "[2538469 rows x 5 columns]"
      ]
     },
     "execution_count": 41,
     "metadata": {},
     "output_type": "execute_result"
    }
   ],
   "source": [
    "df_cat.drop(\"ASIN\",axis=1,inplace=True)\n",
    "df_cat"
   ]
  },
  {
   "cell_type": "code",
   "execution_count": 42,
   "metadata": {},
   "outputs": [
    {
     "data": {
      "text/html": [
       "<div>\n",
       "<style scoped>\n",
       "    .dataframe tbody tr th:only-of-type {\n",
       "        vertical-align: middle;\n",
       "    }\n",
       "\n",
       "    .dataframe tbody tr th {\n",
       "        vertical-align: top;\n",
       "    }\n",
       "\n",
       "    .dataframe thead th {\n",
       "        text-align: right;\n",
       "    }\n",
       "</style>\n",
       "<table border=\"1\" class=\"dataframe\">\n",
       "  <thead>\n",
       "    <tr style=\"text-align: right;\">\n",
       "      <th></th>\n",
       "      <th>Id</th>\n",
       "      <th>L1</th>\n",
       "      <th>L2</th>\n",
       "      <th>L3</th>\n",
       "      <th>L4</th>\n",
       "    </tr>\n",
       "  </thead>\n",
       "  <tbody>\n",
       "    <tr>\n",
       "      <th>0</th>\n",
       "      <td>1</td>\n",
       "      <td>Books[283155]</td>\n",
       "      <td>Subjects[1000]</td>\n",
       "      <td>Religion &amp; Spirituality[22]</td>\n",
       "      <td>Christianity[12290]</td>\n",
       "    </tr>\n",
       "    <tr>\n",
       "      <th>1</th>\n",
       "      <td>2</td>\n",
       "      <td>Books[283155]</td>\n",
       "      <td>Subjects[1000]</td>\n",
       "      <td>Religion &amp; Spirituality[22]</td>\n",
       "      <td>Earth-Based Religions[12472]</td>\n",
       "    </tr>\n",
       "    <tr>\n",
       "      <th>2</th>\n",
       "      <td>3</td>\n",
       "      <td>Books[283155]</td>\n",
       "      <td>Subjects[1000]</td>\n",
       "      <td>Home &amp; Garden[48]</td>\n",
       "      <td>Crafts &amp; Hobbies[5126]</td>\n",
       "    </tr>\n",
       "    <tr>\n",
       "      <th>3</th>\n",
       "      <td>4</td>\n",
       "      <td>Books[283155]</td>\n",
       "      <td>Subjects[1000]</td>\n",
       "      <td>Religion &amp; Spirituality[22]</td>\n",
       "      <td>Christianity[12290]</td>\n",
       "    </tr>\n",
       "    <tr>\n",
       "      <th>4</th>\n",
       "      <td>4</td>\n",
       "      <td>Books[283155]</td>\n",
       "      <td>Subjects[1000]</td>\n",
       "      <td>Religion &amp; Spirituality[22]</td>\n",
       "      <td>Bible &amp; Other Sacred Texts[12056]</td>\n",
       "    </tr>\n",
       "    <tr>\n",
       "      <th>...</th>\n",
       "      <td>...</td>\n",
       "      <td>...</td>\n",
       "      <td>...</td>\n",
       "      <td>...</td>\n",
       "      <td>...</td>\n",
       "    </tr>\n",
       "    <tr>\n",
       "      <th>1760510</th>\n",
       "      <td>548551</td>\n",
       "      <td>Music[5174]</td>\n",
       "      <td>Styles[301668]</td>\n",
       "      <td>Miscellaneous[35]</td>\n",
       "      <td>Nostalgia[67175]</td>\n",
       "    </tr>\n",
       "    <tr>\n",
       "      <th>1760511</th>\n",
       "      <td>548551</td>\n",
       "      <td>Music[5174]</td>\n",
       "      <td>Styles[301668]</td>\n",
       "      <td>Broadway &amp; Vocalists[265640]</td>\n",
       "      <td>Classic Vocalists[67178]</td>\n",
       "    </tr>\n",
       "    <tr>\n",
       "      <th>1760512</th>\n",
       "      <td>548551</td>\n",
       "      <td>Music[5174]</td>\n",
       "      <td>Styles[301668]</td>\n",
       "      <td>Broadway &amp; Vocalists[265640]</td>\n",
       "      <td>Traditional Vocal Pop[513060]</td>\n",
       "    </tr>\n",
       "    <tr>\n",
       "      <th>1760513</th>\n",
       "      <td>548551</td>\n",
       "      <td>Music[5174]</td>\n",
       "      <td>Styles[301668]</td>\n",
       "      <td>Pop[37]</td>\n",
       "      <td>Vocal Pop[406646]</td>\n",
       "    </tr>\n",
       "    <tr>\n",
       "      <th>1760514</th>\n",
       "      <td>548551</td>\n",
       "      <td>Music[5174]</td>\n",
       "      <td>Styles[301668]</td>\n",
       "      <td>Broadway &amp; Vocalists[265640]</td>\n",
       "      <td>General[912012]</td>\n",
       "    </tr>\n",
       "  </tbody>\n",
       "</table>\n",
       "<p>1760515 rows × 5 columns</p>\n",
       "</div>"
      ],
      "text/plain": [
       "             Id             L1               L2  \\\n",
       "0             1  Books[283155]   Subjects[1000]   \n",
       "1             2  Books[283155]   Subjects[1000]   \n",
       "2             3  Books[283155]   Subjects[1000]   \n",
       "3             4  Books[283155]   Subjects[1000]   \n",
       "4             4  Books[283155]   Subjects[1000]   \n",
       "...         ...            ...              ...   \n",
       "1760510  548551    Music[5174]   Styles[301668]   \n",
       "1760511  548551    Music[5174]   Styles[301668]   \n",
       "1760512  548551    Music[5174]   Styles[301668]   \n",
       "1760513  548551    Music[5174]   Styles[301668]   \n",
       "1760514  548551    Music[5174]   Styles[301668]   \n",
       "\n",
       "                                    L3                                  L4  \n",
       "0          Religion & Spirituality[22]                 Christianity[12290]  \n",
       "1          Religion & Spirituality[22]        Earth-Based Religions[12472]  \n",
       "2                    Home & Garden[48]              Crafts & Hobbies[5126]  \n",
       "3          Religion & Spirituality[22]                 Christianity[12290]  \n",
       "4          Religion & Spirituality[22]   Bible & Other Sacred Texts[12056]  \n",
       "...                                ...                                 ...  \n",
       "1760510              Miscellaneous[35]                    Nostalgia[67175]  \n",
       "1760511   Broadway & Vocalists[265640]            Classic Vocalists[67178]  \n",
       "1760512   Broadway & Vocalists[265640]       Traditional Vocal Pop[513060]  \n",
       "1760513                        Pop[37]                   Vocal Pop[406646]  \n",
       "1760514   Broadway & Vocalists[265640]                     General[912012]  \n",
       "\n",
       "[1760515 rows x 5 columns]"
      ]
     },
     "execution_count": 42,
     "metadata": {},
     "output_type": "execute_result"
    }
   ],
   "source": [
    "df_cat.drop_duplicates(inplace=True)\n",
    "df_cat.reset_index(drop=True,inplace=True)\n",
    "df_cat"
   ]
  },
  {
   "cell_type": "code",
   "execution_count": null,
   "metadata": {},
   "outputs": [],
   "source": [
    "df_cat[\"Category\"] = df_cat.apply(lambda row: str(row[\"L1\"])+str(row[\"L2\"])+str(row[\"L3\"])+str(row[\"L4\"]),axis=1)\n",
    "df_cat.head()"
   ]
  },
  {
   "cell_type": "code",
   "execution_count": null,
   "metadata": {},
   "outputs": [
    {
     "data": {
      "text/html": [
       "<div>\n",
       "<style scoped>\n",
       "    .dataframe tbody tr th:only-of-type {\n",
       "        vertical-align: middle;\n",
       "    }\n",
       "\n",
       "    .dataframe tbody tr th {\n",
       "        vertical-align: top;\n",
       "    }\n",
       "\n",
       "    .dataframe thead th {\n",
       "        text-align: right;\n",
       "    }\n",
       "</style>\n",
       "<table border=\"1\" class=\"dataframe\">\n",
       "  <thead>\n",
       "    <tr style=\"text-align: right;\">\n",
       "      <th></th>\n",
       "      <th>CatId</th>\n",
       "    </tr>\n",
       "    <tr>\n",
       "      <th>Category</th>\n",
       "      <th></th>\n",
       "    </tr>\n",
       "  </thead>\n",
       "  <tbody>\n",
       "    <tr>\n",
       "      <th>Books[283155] Subjects[1000] Religion &amp; Spirituality[22] Christianity[12290]</th>\n",
       "      <td>0</td>\n",
       "    </tr>\n",
       "    <tr>\n",
       "      <th>Books[283155] Subjects[1000] Religion &amp; Spirituality[22] Earth-Based Religions[12472]</th>\n",
       "      <td>1</td>\n",
       "    </tr>\n",
       "    <tr>\n",
       "      <th>Books[283155] Subjects[1000] Home &amp; Garden[48] Crafts &amp; Hobbies[5126]</th>\n",
       "      <td>2</td>\n",
       "    </tr>\n",
       "    <tr>\n",
       "      <th>Books[283155] Subjects[1000] Religion &amp; Spirituality[22] Bible &amp; Other Sacred Texts[12056]</th>\n",
       "      <td>3</td>\n",
       "    </tr>\n",
       "    <tr>\n",
       "      <th>Books[283155] Subjects[1000] Arts &amp; Photography[1] Photography[2020]</th>\n",
       "      <td>4</td>\n",
       "    </tr>\n",
       "  </tbody>\n",
       "</table>\n",
       "</div>"
      ],
      "text/plain": [
       "                                                    CatId\n",
       "Category                                                 \n",
       "Books[283155] Subjects[1000] Religion & Spiritu...      0\n",
       "Books[283155] Subjects[1000] Religion & Spiritu...      1\n",
       "Books[283155] Subjects[1000] Home & Garden[48] ...      2\n",
       "Books[283155] Subjects[1000] Religion & Spiritu...      3\n",
       "Books[283155] Subjects[1000] Arts & Photography...      4"
      ]
     },
     "execution_count": 43,
     "metadata": {},
     "output_type": "execute_result"
    }
   ],
   "source": [
    "df_categories = df_cat[[\"Category\"]].drop_duplicates()\n",
    "df_categories.reset_index(drop=True,inplace=True)\n",
    "df_categories.reset_index(inplace=True)\n",
    "df_categories.columns = [\"CatId\",\"Category\"]\n",
    "df_categories.set_index(\"Category\",inplace=True)\n",
    "df_categories.head()"
   ]
  },
  {
   "cell_type": "code",
   "execution_count": null,
   "metadata": {},
   "outputs": [
    {
     "data": {
      "text/html": [
       "<div>\n",
       "<style scoped>\n",
       "    .dataframe tbody tr th:only-of-type {\n",
       "        vertical-align: middle;\n",
       "    }\n",
       "\n",
       "    .dataframe tbody tr th {\n",
       "        vertical-align: top;\n",
       "    }\n",
       "\n",
       "    .dataframe thead th {\n",
       "        text-align: right;\n",
       "    }\n",
       "</style>\n",
       "<table border=\"1\" class=\"dataframe\">\n",
       "  <thead>\n",
       "    <tr style=\"text-align: right;\">\n",
       "      <th></th>\n",
       "      <th>Id</th>\n",
       "      <th>L1</th>\n",
       "      <th>L2</th>\n",
       "      <th>L3</th>\n",
       "      <th>L4</th>\n",
       "    </tr>\n",
       "    <tr>\n",
       "      <th>Category</th>\n",
       "      <th></th>\n",
       "      <th></th>\n",
       "      <th></th>\n",
       "      <th></th>\n",
       "      <th></th>\n",
       "    </tr>\n",
       "  </thead>\n",
       "  <tbody>\n",
       "    <tr>\n",
       "      <th>Books[283155] Subjects[1000] Religion &amp; Spirituality[22] Christianity[12290]</th>\n",
       "      <td>1</td>\n",
       "      <td>Books[283155]</td>\n",
       "      <td>Subjects[1000]</td>\n",
       "      <td>Religion &amp; Spirituality[22]</td>\n",
       "      <td>Christianity[12290]</td>\n",
       "    </tr>\n",
       "    <tr>\n",
       "      <th>Books[283155] Subjects[1000] Religion &amp; Spirituality[22] Earth-Based Religions[12472]</th>\n",
       "      <td>2</td>\n",
       "      <td>Books[283155]</td>\n",
       "      <td>Subjects[1000]</td>\n",
       "      <td>Religion &amp; Spirituality[22]</td>\n",
       "      <td>Earth-Based Religions[12472]</td>\n",
       "    </tr>\n",
       "    <tr>\n",
       "      <th>Books[283155] Subjects[1000] Home &amp; Garden[48] Crafts &amp; Hobbies[5126]</th>\n",
       "      <td>3</td>\n",
       "      <td>Books[283155]</td>\n",
       "      <td>Subjects[1000]</td>\n",
       "      <td>Home &amp; Garden[48]</td>\n",
       "      <td>Crafts &amp; Hobbies[5126]</td>\n",
       "    </tr>\n",
       "    <tr>\n",
       "      <th>Books[283155] Subjects[1000] Religion &amp; Spirituality[22] Christianity[12290]</th>\n",
       "      <td>4</td>\n",
       "      <td>Books[283155]</td>\n",
       "      <td>Subjects[1000]</td>\n",
       "      <td>Religion &amp; Spirituality[22]</td>\n",
       "      <td>Christianity[12290]</td>\n",
       "    </tr>\n",
       "    <tr>\n",
       "      <th>Books[283155] Subjects[1000] Religion &amp; Spirituality[22] Bible &amp; Other Sacred Texts[12056]</th>\n",
       "      <td>4</td>\n",
       "      <td>Books[283155]</td>\n",
       "      <td>Subjects[1000]</td>\n",
       "      <td>Religion &amp; Spirituality[22]</td>\n",
       "      <td>Bible &amp; Other Sacred Texts[12056]</td>\n",
       "    </tr>\n",
       "  </tbody>\n",
       "</table>\n",
       "</div>"
      ],
      "text/plain": [
       "                                                    Id             L1  \\\n",
       "Category                                                                \n",
       "Books[283155] Subjects[1000] Religion & Spiritu...   1  Books[283155]   \n",
       "Books[283155] Subjects[1000] Religion & Spiritu...   2  Books[283155]   \n",
       "Books[283155] Subjects[1000] Home & Garden[48] ...   3  Books[283155]   \n",
       "Books[283155] Subjects[1000] Religion & Spiritu...   4  Books[283155]   \n",
       "Books[283155] Subjects[1000] Religion & Spiritu...   4  Books[283155]   \n",
       "\n",
       "                                                                 L2  \\\n",
       "Category                                                              \n",
       "Books[283155] Subjects[1000] Religion & Spiritu...   Subjects[1000]   \n",
       "Books[283155] Subjects[1000] Religion & Spiritu...   Subjects[1000]   \n",
       "Books[283155] Subjects[1000] Home & Garden[48] ...   Subjects[1000]   \n",
       "Books[283155] Subjects[1000] Religion & Spiritu...   Subjects[1000]   \n",
       "Books[283155] Subjects[1000] Religion & Spiritu...   Subjects[1000]   \n",
       "\n",
       "                                                                              L3  \\\n",
       "Category                                                                           \n",
       "Books[283155] Subjects[1000] Religion & Spiritu...   Religion & Spirituality[22]   \n",
       "Books[283155] Subjects[1000] Religion & Spiritu...   Religion & Spirituality[22]   \n",
       "Books[283155] Subjects[1000] Home & Garden[48] ...             Home & Garden[48]   \n",
       "Books[283155] Subjects[1000] Religion & Spiritu...   Religion & Spirituality[22]   \n",
       "Books[283155] Subjects[1000] Religion & Spiritu...   Religion & Spirituality[22]   \n",
       "\n",
       "                                                                                    L4  \n",
       "Category                                                                                \n",
       "Books[283155] Subjects[1000] Religion & Spiritu...                 Christianity[12290]  \n",
       "Books[283155] Subjects[1000] Religion & Spiritu...        Earth-Based Religions[12472]  \n",
       "Books[283155] Subjects[1000] Home & Garden[48] ...              Crafts & Hobbies[5126]  \n",
       "Books[283155] Subjects[1000] Religion & Spiritu...                 Christianity[12290]  \n",
       "Books[283155] Subjects[1000] Religion & Spiritu...   Bible & Other Sacred Texts[12056]  "
      ]
     },
     "execution_count": 47,
     "metadata": {},
     "output_type": "execute_result"
    }
   ],
   "source": [
    "df_cat.head()"
   ]
  },
  {
   "cell_type": "code",
   "execution_count": null,
   "metadata": {},
   "outputs": [
    {
     "data": {
      "text/html": [
       "<div>\n",
       "<style scoped>\n",
       "    .dataframe tbody tr th:only-of-type {\n",
       "        vertical-align: middle;\n",
       "    }\n",
       "\n",
       "    .dataframe tbody tr th {\n",
       "        vertical-align: top;\n",
       "    }\n",
       "\n",
       "    .dataframe thead th {\n",
       "        text-align: right;\n",
       "    }\n",
       "</style>\n",
       "<table border=\"1\" class=\"dataframe\">\n",
       "  <thead>\n",
       "    <tr style=\"text-align: right;\">\n",
       "      <th></th>\n",
       "      <th>Id</th>\n",
       "      <th>L1</th>\n",
       "      <th>L2</th>\n",
       "      <th>L3</th>\n",
       "      <th>L4</th>\n",
       "      <th>CatId</th>\n",
       "    </tr>\n",
       "  </thead>\n",
       "  <tbody>\n",
       "    <tr>\n",
       "      <th>0</th>\n",
       "      <td>2323</td>\n",
       "      <td>Books[283155]</td>\n",
       "      <td>By Publisher[298531]</td>\n",
       "      <td>\"OReilly[69860]\"</td>\n",
       "      <td>Internet Security[69889]</td>\n",
       "      <td>797</td>\n",
       "    </tr>\n",
       "    <tr>\n",
       "      <th>1</th>\n",
       "      <td>13716</td>\n",
       "      <td>Books[283155]</td>\n",
       "      <td>By Publisher[298531]</td>\n",
       "      <td>\"OReilly[69860]\"</td>\n",
       "      <td>Internet Security[69889]</td>\n",
       "      <td>797</td>\n",
       "    </tr>\n",
       "    <tr>\n",
       "      <th>2</th>\n",
       "      <td>24851</td>\n",
       "      <td>Books[283155]</td>\n",
       "      <td>By Publisher[298531]</td>\n",
       "      <td>\"OReilly[69860]\"</td>\n",
       "      <td>Internet Security[69889]</td>\n",
       "      <td>797</td>\n",
       "    </tr>\n",
       "    <tr>\n",
       "      <th>3</th>\n",
       "      <td>37205</td>\n",
       "      <td>Books[283155]</td>\n",
       "      <td>By Publisher[298531]</td>\n",
       "      <td>\"OReilly[69860]\"</td>\n",
       "      <td>Internet Security[69889]</td>\n",
       "      <td>797</td>\n",
       "    </tr>\n",
       "    <tr>\n",
       "      <th>4</th>\n",
       "      <td>64363</td>\n",
       "      <td>Books[283155]</td>\n",
       "      <td>By Publisher[298531]</td>\n",
       "      <td>\"OReilly[69860]\"</td>\n",
       "      <td>Internet Security[69889]</td>\n",
       "      <td>797</td>\n",
       "    </tr>\n",
       "    <tr>\n",
       "      <th>...</th>\n",
       "      <td>...</td>\n",
       "      <td>...</td>\n",
       "      <td>...</td>\n",
       "      <td>...</td>\n",
       "      <td>...</td>\n",
       "      <td>...</td>\n",
       "    </tr>\n",
       "    <tr>\n",
       "      <th>1760510</th>\n",
       "      <td>536720</td>\n",
       "      <td>a</td>\n",
       "      <td>NaN</td>\n",
       "      <td>NaN</td>\n",
       "      <td>NaN</td>\n",
       "      <td>109</td>\n",
       "    </tr>\n",
       "    <tr>\n",
       "      <th>1760511</th>\n",
       "      <td>537077</td>\n",
       "      <td>a</td>\n",
       "      <td>NaN</td>\n",
       "      <td>NaN</td>\n",
       "      <td>NaN</td>\n",
       "      <td>109</td>\n",
       "    </tr>\n",
       "    <tr>\n",
       "      <th>1760512</th>\n",
       "      <td>537275</td>\n",
       "      <td>a</td>\n",
       "      <td>NaN</td>\n",
       "      <td>NaN</td>\n",
       "      <td>NaN</td>\n",
       "      <td>109</td>\n",
       "    </tr>\n",
       "    <tr>\n",
       "      <th>1760513</th>\n",
       "      <td>542506</td>\n",
       "      <td>a</td>\n",
       "      <td>NaN</td>\n",
       "      <td>NaN</td>\n",
       "      <td>NaN</td>\n",
       "      <td>109</td>\n",
       "    </tr>\n",
       "    <tr>\n",
       "      <th>1760514</th>\n",
       "      <td>544078</td>\n",
       "      <td>a</td>\n",
       "      <td>NaN</td>\n",
       "      <td>NaN</td>\n",
       "      <td>NaN</td>\n",
       "      <td>109</td>\n",
       "    </tr>\n",
       "  </tbody>\n",
       "</table>\n",
       "<p>1760515 rows × 6 columns</p>\n",
       "</div>"
      ],
      "text/plain": [
       "             Id             L1                     L2                 L3  \\\n",
       "0          2323  Books[283155]   By Publisher[298531]   \"OReilly[69860]\"   \n",
       "1         13716  Books[283155]   By Publisher[298531]   \"OReilly[69860]\"   \n",
       "2         24851  Books[283155]   By Publisher[298531]   \"OReilly[69860]\"   \n",
       "3         37205  Books[283155]   By Publisher[298531]   \"OReilly[69860]\"   \n",
       "4         64363  Books[283155]   By Publisher[298531]   \"OReilly[69860]\"   \n",
       "...         ...            ...                    ...                ...   \n",
       "1760510  536720              a                    NaN                NaN   \n",
       "1760511  537077              a                    NaN                NaN   \n",
       "1760512  537275              a                    NaN                NaN   \n",
       "1760513  542506              a                    NaN                NaN   \n",
       "1760514  544078              a                    NaN                NaN   \n",
       "\n",
       "                                L4  CatId  \n",
       "0         Internet Security[69889]    797  \n",
       "1         Internet Security[69889]    797  \n",
       "2         Internet Security[69889]    797  \n",
       "3         Internet Security[69889]    797  \n",
       "4         Internet Security[69889]    797  \n",
       "...                            ...    ...  \n",
       "1760510                        NaN    109  \n",
       "1760511                        NaN    109  \n",
       "1760512                        NaN    109  \n",
       "1760513                        NaN    109  \n",
       "1760514                        NaN    109  \n",
       "\n",
       "[1760515 rows x 6 columns]"
      ]
     },
     "execution_count": 53,
     "metadata": {},
     "output_type": "execute_result"
    }
   ],
   "source": [
    "# df_cat.set_index(\"Category\",inplace=True)\n",
    "# df_cat = df_cat.join(df_categories)\n",
    "df_cat.reset_index(drop=True,inplace=True)\n",
    "df_cat"
   ]
  },
  {
   "cell_type": "code",
   "execution_count": null,
   "metadata": {},
   "outputs": [
    {
     "data": {
      "text/plain": [
       "array(['Books[283155]', 'Music[5174]', 'Sports & Outdoor[3375251]',\n",
       "       'Sportsrus.com[3489201]', '[1055398]', '[1064952]', '[139452]',\n",
       "       '[171280]', '[172282]', '[229220]', '[229534]', '[265523]',\n",
       "       '[468642]', '[540744]', '[700060]', 'a'], dtype=object)"
      ]
     },
     "execution_count": 54,
     "metadata": {},
     "output_type": "execute_result"
    }
   ],
   "source": [
    "df_cat.L1.unique()"
   ]
  },
  {
   "cell_type": "code",
   "execution_count": null,
   "metadata": {},
   "outputs": [],
   "source": [
    "df_cat = df_cat[df_cat.L1!='a']"
   ]
  },
  {
   "cell_type": "code",
   "execution_count": null,
   "metadata": {},
   "outputs": [
    {
     "data": {
      "text/plain": [
       "Id          0\n",
       "L1          0\n",
       "L2          0\n",
       "L3         18\n",
       "L4       7932\n",
       "CatId       0\n",
       "dtype: int64"
      ]
     },
     "execution_count": 57,
     "metadata": {},
     "output_type": "execute_result"
    }
   ],
   "source": [
    "df_cat.isnull().sum()"
   ]
  },
  {
   "cell_type": "code",
   "execution_count": null,
   "metadata": {},
   "outputs": [
    {
     "name": "stderr",
     "output_type": "stream",
     "text": [
      "/var/folders/hk/kbn1q_sj4jz4lh0m7x05vff80000gn/T/ipykernel_26611/2874000793.py:1: SettingWithCopyWarning: \n",
      "A value is trying to be set on a copy of a slice from a DataFrame.\n",
      "Try using .loc[row_indexer,col_indexer] = value instead\n",
      "\n",
      "See the caveats in the documentation: https://pandas.pydata.org/pandas-docs/stable/user_guide/indexing.html#returning-a-view-versus-a-copy\n",
      "  df_cat[\"count\"]=1\n"
     ]
    }
   ],
   "source": [
    "df_cat[\"count\"]=1"
   ]
  },
  {
   "cell_type": "code",
   "execution_count": null,
   "metadata": {},
   "outputs": [
    {
     "data": {
      "text/html": [
       "<div>\n",
       "<style scoped>\n",
       "    .dataframe tbody tr th:only-of-type {\n",
       "        vertical-align: middle;\n",
       "    }\n",
       "\n",
       "    .dataframe tbody tr th {\n",
       "        vertical-align: top;\n",
       "    }\n",
       "\n",
       "    .dataframe thead th {\n",
       "        text-align: right;\n",
       "    }\n",
       "</style>\n",
       "<table border=\"1\" class=\"dataframe\">\n",
       "  <thead>\n",
       "    <tr style=\"text-align: right;\">\n",
       "      <th></th>\n",
       "      <th>Id</th>\n",
       "      <th>L1</th>\n",
       "      <th>L2</th>\n",
       "      <th>L3</th>\n",
       "      <th>L4</th>\n",
       "      <th>CatId</th>\n",
       "      <th>count</th>\n",
       "    </tr>\n",
       "  </thead>\n",
       "  <tbody>\n",
       "    <tr>\n",
       "      <th>0</th>\n",
       "      <td>2323</td>\n",
       "      <td>Books[283155]</td>\n",
       "      <td>By Publisher[298531]</td>\n",
       "      <td>\"OReilly[69860]\"</td>\n",
       "      <td>Internet Security[69889]</td>\n",
       "      <td>797</td>\n",
       "      <td>1</td>\n",
       "    </tr>\n",
       "    <tr>\n",
       "      <th>1</th>\n",
       "      <td>13716</td>\n",
       "      <td>Books[283155]</td>\n",
       "      <td>By Publisher[298531]</td>\n",
       "      <td>\"OReilly[69860]\"</td>\n",
       "      <td>Internet Security[69889]</td>\n",
       "      <td>797</td>\n",
       "      <td>1</td>\n",
       "    </tr>\n",
       "    <tr>\n",
       "      <th>2</th>\n",
       "      <td>24851</td>\n",
       "      <td>Books[283155]</td>\n",
       "      <td>By Publisher[298531]</td>\n",
       "      <td>\"OReilly[69860]\"</td>\n",
       "      <td>Internet Security[69889]</td>\n",
       "      <td>797</td>\n",
       "      <td>1</td>\n",
       "    </tr>\n",
       "    <tr>\n",
       "      <th>3</th>\n",
       "      <td>37205</td>\n",
       "      <td>Books[283155]</td>\n",
       "      <td>By Publisher[298531]</td>\n",
       "      <td>\"OReilly[69860]\"</td>\n",
       "      <td>Internet Security[69889]</td>\n",
       "      <td>797</td>\n",
       "      <td>1</td>\n",
       "    </tr>\n",
       "    <tr>\n",
       "      <th>4</th>\n",
       "      <td>64363</td>\n",
       "      <td>Books[283155]</td>\n",
       "      <td>By Publisher[298531]</td>\n",
       "      <td>\"OReilly[69860]\"</td>\n",
       "      <td>Internet Security[69889]</td>\n",
       "      <td>797</td>\n",
       "      <td>1</td>\n",
       "    </tr>\n",
       "  </tbody>\n",
       "</table>\n",
       "</div>"
      ],
      "text/plain": [
       "      Id             L1                     L2                 L3  \\\n",
       "0   2323  Books[283155]   By Publisher[298531]   \"OReilly[69860]\"   \n",
       "1  13716  Books[283155]   By Publisher[298531]   \"OReilly[69860]\"   \n",
       "2  24851  Books[283155]   By Publisher[298531]   \"OReilly[69860]\"   \n",
       "3  37205  Books[283155]   By Publisher[298531]   \"OReilly[69860]\"   \n",
       "4  64363  Books[283155]   By Publisher[298531]   \"OReilly[69860]\"   \n",
       "\n",
       "                          L4  CatId  count  \n",
       "0   Internet Security[69889]    797      1  \n",
       "1   Internet Security[69889]    797      1  \n",
       "2   Internet Security[69889]    797      1  \n",
       "3   Internet Security[69889]    797      1  \n",
       "4   Internet Security[69889]    797      1  "
      ]
     },
     "execution_count": 62,
     "metadata": {},
     "output_type": "execute_result"
    }
   ],
   "source": [
    "df_cat.head()"
   ]
  },
  {
   "cell_type": "code",
   "execution_count": null,
   "metadata": {},
   "outputs": [
    {
     "data": {
      "text/html": [
       "<div>\n",
       "<style scoped>\n",
       "    .dataframe tbody tr th:only-of-type {\n",
       "        vertical-align: middle;\n",
       "    }\n",
       "\n",
       "    .dataframe tbody tr th {\n",
       "        vertical-align: top;\n",
       "    }\n",
       "\n",
       "    .dataframe thead th {\n",
       "        text-align: right;\n",
       "    }\n",
       "</style>\n",
       "<table border=\"1\" class=\"dataframe\">\n",
       "  <thead>\n",
       "    <tr style=\"text-align: right;\">\n",
       "      <th>CatId</th>\n",
       "      <th>0</th>\n",
       "      <th>1</th>\n",
       "      <th>2</th>\n",
       "      <th>3</th>\n",
       "      <th>4</th>\n",
       "      <th>5</th>\n",
       "      <th>6</th>\n",
       "      <th>7</th>\n",
       "      <th>8</th>\n",
       "      <th>9</th>\n",
       "      <th>...</th>\n",
       "      <th>1245</th>\n",
       "      <th>1246</th>\n",
       "      <th>1247</th>\n",
       "      <th>1248</th>\n",
       "      <th>1249</th>\n",
       "      <th>1250</th>\n",
       "      <th>1251</th>\n",
       "      <th>1252</th>\n",
       "      <th>1253</th>\n",
       "      <th>1254</th>\n",
       "    </tr>\n",
       "    <tr>\n",
       "      <th>Id</th>\n",
       "      <th></th>\n",
       "      <th></th>\n",
       "      <th></th>\n",
       "      <th></th>\n",
       "      <th></th>\n",
       "      <th></th>\n",
       "      <th></th>\n",
       "      <th></th>\n",
       "      <th></th>\n",
       "      <th></th>\n",
       "      <th></th>\n",
       "      <th></th>\n",
       "      <th></th>\n",
       "      <th></th>\n",
       "      <th></th>\n",
       "      <th></th>\n",
       "      <th></th>\n",
       "      <th></th>\n",
       "      <th></th>\n",
       "      <th></th>\n",
       "      <th></th>\n",
       "    </tr>\n",
       "  </thead>\n",
       "  <tbody>\n",
       "    <tr>\n",
       "      <th>1</th>\n",
       "      <td>1</td>\n",
       "      <td>0</td>\n",
       "      <td>0</td>\n",
       "      <td>0</td>\n",
       "      <td>0</td>\n",
       "      <td>0</td>\n",
       "      <td>0</td>\n",
       "      <td>0</td>\n",
       "      <td>0</td>\n",
       "      <td>0</td>\n",
       "      <td>...</td>\n",
       "      <td>0</td>\n",
       "      <td>0</td>\n",
       "      <td>0</td>\n",
       "      <td>0</td>\n",
       "      <td>0</td>\n",
       "      <td>0</td>\n",
       "      <td>0</td>\n",
       "      <td>0</td>\n",
       "      <td>0</td>\n",
       "      <td>0</td>\n",
       "    </tr>\n",
       "    <tr>\n",
       "      <th>2</th>\n",
       "      <td>0</td>\n",
       "      <td>1</td>\n",
       "      <td>0</td>\n",
       "      <td>0</td>\n",
       "      <td>0</td>\n",
       "      <td>0</td>\n",
       "      <td>0</td>\n",
       "      <td>0</td>\n",
       "      <td>0</td>\n",
       "      <td>0</td>\n",
       "      <td>...</td>\n",
       "      <td>0</td>\n",
       "      <td>0</td>\n",
       "      <td>0</td>\n",
       "      <td>0</td>\n",
       "      <td>0</td>\n",
       "      <td>0</td>\n",
       "      <td>0</td>\n",
       "      <td>0</td>\n",
       "      <td>0</td>\n",
       "      <td>0</td>\n",
       "    </tr>\n",
       "    <tr>\n",
       "      <th>3</th>\n",
       "      <td>0</td>\n",
       "      <td>0</td>\n",
       "      <td>1</td>\n",
       "      <td>0</td>\n",
       "      <td>0</td>\n",
       "      <td>0</td>\n",
       "      <td>0</td>\n",
       "      <td>0</td>\n",
       "      <td>0</td>\n",
       "      <td>0</td>\n",
       "      <td>...</td>\n",
       "      <td>0</td>\n",
       "      <td>0</td>\n",
       "      <td>0</td>\n",
       "      <td>0</td>\n",
       "      <td>0</td>\n",
       "      <td>0</td>\n",
       "      <td>0</td>\n",
       "      <td>0</td>\n",
       "      <td>0</td>\n",
       "      <td>0</td>\n",
       "    </tr>\n",
       "    <tr>\n",
       "      <th>4</th>\n",
       "      <td>1</td>\n",
       "      <td>0</td>\n",
       "      <td>0</td>\n",
       "      <td>1</td>\n",
       "      <td>0</td>\n",
       "      <td>0</td>\n",
       "      <td>0</td>\n",
       "      <td>0</td>\n",
       "      <td>0</td>\n",
       "      <td>0</td>\n",
       "      <td>...</td>\n",
       "      <td>0</td>\n",
       "      <td>0</td>\n",
       "      <td>0</td>\n",
       "      <td>0</td>\n",
       "      <td>0</td>\n",
       "      <td>0</td>\n",
       "      <td>0</td>\n",
       "      <td>0</td>\n",
       "      <td>0</td>\n",
       "      <td>0</td>\n",
       "    </tr>\n",
       "    <tr>\n",
       "      <th>5</th>\n",
       "      <td>1</td>\n",
       "      <td>0</td>\n",
       "      <td>0</td>\n",
       "      <td>0</td>\n",
       "      <td>0</td>\n",
       "      <td>0</td>\n",
       "      <td>0</td>\n",
       "      <td>0</td>\n",
       "      <td>0</td>\n",
       "      <td>0</td>\n",
       "      <td>...</td>\n",
       "      <td>0</td>\n",
       "      <td>0</td>\n",
       "      <td>0</td>\n",
       "      <td>0</td>\n",
       "      <td>0</td>\n",
       "      <td>0</td>\n",
       "      <td>0</td>\n",
       "      <td>0</td>\n",
       "      <td>0</td>\n",
       "      <td>0</td>\n",
       "    </tr>\n",
       "    <tr>\n",
       "      <th>...</th>\n",
       "      <td>...</td>\n",
       "      <td>...</td>\n",
       "      <td>...</td>\n",
       "      <td>...</td>\n",
       "      <td>...</td>\n",
       "      <td>...</td>\n",
       "      <td>...</td>\n",
       "      <td>...</td>\n",
       "      <td>...</td>\n",
       "      <td>...</td>\n",
       "      <td>...</td>\n",
       "      <td>...</td>\n",
       "      <td>...</td>\n",
       "      <td>...</td>\n",
       "      <td>...</td>\n",
       "      <td>...</td>\n",
       "      <td>...</td>\n",
       "      <td>...</td>\n",
       "      <td>...</td>\n",
       "      <td>...</td>\n",
       "      <td>...</td>\n",
       "    </tr>\n",
       "    <tr>\n",
       "      <th>548547</th>\n",
       "      <td>0</td>\n",
       "      <td>0</td>\n",
       "      <td>0</td>\n",
       "      <td>0</td>\n",
       "      <td>0</td>\n",
       "      <td>0</td>\n",
       "      <td>0</td>\n",
       "      <td>0</td>\n",
       "      <td>0</td>\n",
       "      <td>0</td>\n",
       "      <td>...</td>\n",
       "      <td>0</td>\n",
       "      <td>0</td>\n",
       "      <td>0</td>\n",
       "      <td>0</td>\n",
       "      <td>0</td>\n",
       "      <td>0</td>\n",
       "      <td>0</td>\n",
       "      <td>0</td>\n",
       "      <td>0</td>\n",
       "      <td>0</td>\n",
       "    </tr>\n",
       "    <tr>\n",
       "      <th>548548</th>\n",
       "      <td>0</td>\n",
       "      <td>0</td>\n",
       "      <td>0</td>\n",
       "      <td>0</td>\n",
       "      <td>0</td>\n",
       "      <td>0</td>\n",
       "      <td>0</td>\n",
       "      <td>0</td>\n",
       "      <td>0</td>\n",
       "      <td>0</td>\n",
       "      <td>...</td>\n",
       "      <td>0</td>\n",
       "      <td>0</td>\n",
       "      <td>0</td>\n",
       "      <td>0</td>\n",
       "      <td>0</td>\n",
       "      <td>0</td>\n",
       "      <td>0</td>\n",
       "      <td>0</td>\n",
       "      <td>0</td>\n",
       "      <td>0</td>\n",
       "    </tr>\n",
       "    <tr>\n",
       "      <th>548549</th>\n",
       "      <td>1</td>\n",
       "      <td>0</td>\n",
       "      <td>0</td>\n",
       "      <td>0</td>\n",
       "      <td>0</td>\n",
       "      <td>0</td>\n",
       "      <td>0</td>\n",
       "      <td>1</td>\n",
       "      <td>0</td>\n",
       "      <td>0</td>\n",
       "      <td>...</td>\n",
       "      <td>0</td>\n",
       "      <td>0</td>\n",
       "      <td>0</td>\n",
       "      <td>0</td>\n",
       "      <td>0</td>\n",
       "      <td>0</td>\n",
       "      <td>0</td>\n",
       "      <td>0</td>\n",
       "      <td>0</td>\n",
       "      <td>0</td>\n",
       "    </tr>\n",
       "    <tr>\n",
       "      <th>548550</th>\n",
       "      <td>0</td>\n",
       "      <td>0</td>\n",
       "      <td>0</td>\n",
       "      <td>0</td>\n",
       "      <td>0</td>\n",
       "      <td>0</td>\n",
       "      <td>0</td>\n",
       "      <td>0</td>\n",
       "      <td>0</td>\n",
       "      <td>0</td>\n",
       "      <td>...</td>\n",
       "      <td>0</td>\n",
       "      <td>0</td>\n",
       "      <td>0</td>\n",
       "      <td>0</td>\n",
       "      <td>0</td>\n",
       "      <td>0</td>\n",
       "      <td>0</td>\n",
       "      <td>0</td>\n",
       "      <td>0</td>\n",
       "      <td>0</td>\n",
       "    </tr>\n",
       "    <tr>\n",
       "      <th>548551</th>\n",
       "      <td>0</td>\n",
       "      <td>0</td>\n",
       "      <td>0</td>\n",
       "      <td>0</td>\n",
       "      <td>0</td>\n",
       "      <td>0</td>\n",
       "      <td>0</td>\n",
       "      <td>0</td>\n",
       "      <td>0</td>\n",
       "      <td>0</td>\n",
       "      <td>...</td>\n",
       "      <td>0</td>\n",
       "      <td>0</td>\n",
       "      <td>0</td>\n",
       "      <td>0</td>\n",
       "      <td>0</td>\n",
       "      <td>0</td>\n",
       "      <td>0</td>\n",
       "      <td>0</td>\n",
       "      <td>0</td>\n",
       "      <td>0</td>\n",
       "    </tr>\n",
       "  </tbody>\n",
       "</table>\n",
       "<p>519781 rows × 1254 columns</p>\n",
       "</div>"
      ],
      "text/plain": [
       "CatId   0     1     2     3     4     5     6     7     8     9     ...  1245  \\\n",
       "Id                                                                  ...         \n",
       "1          1     0     0     0     0     0     0     0     0     0  ...     0   \n",
       "2          0     1     0     0     0     0     0     0     0     0  ...     0   \n",
       "3          0     0     1     0     0     0     0     0     0     0  ...     0   \n",
       "4          1     0     0     1     0     0     0     0     0     0  ...     0   \n",
       "5          1     0     0     0     0     0     0     0     0     0  ...     0   \n",
       "...      ...   ...   ...   ...   ...   ...   ...   ...   ...   ...  ...   ...   \n",
       "548547     0     0     0     0     0     0     0     0     0     0  ...     0   \n",
       "548548     0     0     0     0     0     0     0     0     0     0  ...     0   \n",
       "548549     1     0     0     0     0     0     0     1     0     0  ...     0   \n",
       "548550     0     0     0     0     0     0     0     0     0     0  ...     0   \n",
       "548551     0     0     0     0     0     0     0     0     0     0  ...     0   \n",
       "\n",
       "CatId   1246  1247  1248  1249  1250  1251  1252  1253  1254  \n",
       "Id                                                            \n",
       "1          0     0     0     0     0     0     0     0     0  \n",
       "2          0     0     0     0     0     0     0     0     0  \n",
       "3          0     0     0     0     0     0     0     0     0  \n",
       "4          0     0     0     0     0     0     0     0     0  \n",
       "5          0     0     0     0     0     0     0     0     0  \n",
       "...      ...   ...   ...   ...   ...   ...   ...   ...   ...  \n",
       "548547     0     0     0     0     0     0     0     0     0  \n",
       "548548     0     0     0     0     0     0     0     0     0  \n",
       "548549     0     0     0     0     0     0     0     0     0  \n",
       "548550     0     0     0     0     0     0     0     0     0  \n",
       "548551     0     0     0     0     0     0     0     0     0  \n",
       "\n",
       "[519781 rows x 1254 columns]"
      ]
     },
     "execution_count": 63,
     "metadata": {},
     "output_type": "execute_result"
    }
   ],
   "source": [
    "#cat_vocab = \n",
    "pd.pivot_table(data=df_cat,index=\"Id\",columns=\"CatId\",values=\"count\",aggfunc=np.sum,fill_value=0)"
   ]
  },
  {
   "cell_type": "code",
   "execution_count": null,
   "metadata": {},
   "outputs": [],
   "source": [
    "df_L1_2 = df_cat[[\"L1\",\"L2\"]].drop_duplicates()\n",
    "df_L1_2.columns = [\"from\",\"to\"]\n",
    "df_L2_3 = df_cat[[\"L2\",\"L3\"]].drop_duplicates()\n",
    "df_L2_3.columns = [\"from\",\"to\"]\n",
    "df_L3_4 = df_cat[[\"L3\",\"L4\"]].drop_duplicates()\n",
    "df_L3_4.columns = [\"from\",\"to\"]\n",
    "df_cat_connections = pd.concat([df_L1_2,df_L2_3,df_L3_4],axis=0)"
   ]
  },
  {
   "cell_type": "code",
   "execution_count": null,
   "metadata": {},
   "outputs": [
    {
     "data": {
      "text/plain": [
       "(1461, 2)"
      ]
     },
     "execution_count": 9,
     "metadata": {},
     "output_type": "execute_result"
    }
   ],
   "source": [
    "df_cat_connections.shape"
   ]
  },
  {
   "cell_type": "code",
   "execution_count": null,
   "metadata": {},
   "outputs": [
    {
     "data": {
      "text/html": [
       "<div>\n",
       "<style scoped>\n",
       "    .dataframe tbody tr th:only-of-type {\n",
       "        vertical-align: middle;\n",
       "    }\n",
       "\n",
       "    .dataframe tbody tr th {\n",
       "        vertical-align: top;\n",
       "    }\n",
       "\n",
       "    .dataframe thead th {\n",
       "        text-align: right;\n",
       "    }\n",
       "</style>\n",
       "<table border=\"1\" class=\"dataframe\">\n",
       "  <thead>\n",
       "    <tr style=\"text-align: right;\">\n",
       "      <th></th>\n",
       "      <th>from</th>\n",
       "      <th>to</th>\n",
       "    </tr>\n",
       "  </thead>\n",
       "  <tbody>\n",
       "    <tr>\n",
       "      <th>0</th>\n",
       "      <td>Books[283155]</td>\n",
       "      <td>Subjects[1000]</td>\n",
       "    </tr>\n",
       "    <tr>\n",
       "      <th>16</th>\n",
       "      <td>[172282]</td>\n",
       "      <td>Categories[493964]</td>\n",
       "    </tr>\n",
       "    <tr>\n",
       "      <th>17</th>\n",
       "      <td>Music[5174]</td>\n",
       "      <td>Styles[301668]</td>\n",
       "    </tr>\n",
       "    <tr>\n",
       "      <th>19</th>\n",
       "      <td>Music[5174]</td>\n",
       "      <td>Specialty Stores[468040]</td>\n",
       "    </tr>\n",
       "    <tr>\n",
       "      <th>31</th>\n",
       "      <td>Books[283155]</td>\n",
       "      <td>Specialty Stores[504360]</td>\n",
       "    </tr>\n",
       "  </tbody>\n",
       "</table>\n",
       "</div>"
      ],
      "text/plain": [
       "             from                         to\n",
       "0   Books[283155]             Subjects[1000]\n",
       "16       [172282]         Categories[493964]\n",
       "17    Music[5174]             Styles[301668]\n",
       "19    Music[5174]   Specialty Stores[468040]\n",
       "31  Books[283155]   Specialty Stores[504360]"
      ]
     },
     "execution_count": 10,
     "metadata": {},
     "output_type": "execute_result"
    }
   ],
   "source": [
    "df_cat_connections.head()"
   ]
  },
  {
   "cell_type": "code",
   "execution_count": null,
   "metadata": {},
   "outputs": [],
   "source": [
    "import networkx as nx \n",
    "\n",
    "G = nx.from_pandas_edgelist(df_cat_connections, source='from', target='to')"
   ]
  },
  {
   "cell_type": "code",
   "execution_count": null,
   "metadata": {},
   "outputs": [
    {
     "data": {
      "text/plain": [
       "'Graph with 1424 nodes and 1460 edges'"
      ]
     },
     "execution_count": 12,
     "metadata": {},
     "output_type": "execute_result"
    }
   ],
   "source": [
    "nx.info(G)"
   ]
  },
  {
   "cell_type": "code",
   "execution_count": null,
   "metadata": {},
   "outputs": [
    {
     "data": {
      "text/plain": [
       "{'no_of_nodes': 1424,\n",
       " 'no_of_edges': 1460,\n",
       " 'transitivity': 0.00025870989996550536,\n",
       " 'average_clustering': 3.327853432057854e-05,\n",
       " 'edge_density': 0.0014410132099457547,\n",
       " 'average_degree': 2.050561797752809,\n",
       " 'total_triangles': 3,\n",
       " 'number_connected_components': 9}"
      ]
     },
     "execution_count": 13,
     "metadata": {},
     "output_type": "execute_result"
    }
   ],
   "source": [
    "import graphmethods as gr\n",
    "\n",
    "gr.net_prop_dict(G)"
   ]
  },
  {
   "cell_type": "code",
   "execution_count": null,
   "metadata": {},
   "outputs": [
    {
     "data": {
      "image/png": "[encoded data removed]",
      "text/plain": [
       "<Figure size 864x864 with 1 Axes>"
      ]
     },
     "metadata": {},
     "output_type": "display_data"
    }
   ],
   "source": [
    "plt.figure(figsize=(12,12))\n",
    "nx.draw_networkx(G,pos=nx.spring_layout(G), with_labels=False,node_size=50)"
   ]
  },
  {
   "cell_type": "code",
   "execution_count": null,
   "metadata": {},
   "outputs": [
    {
     "data": {
      "text/plain": [
       "False"
      ]
     },
     "execution_count": 19,
     "metadata": {},
     "output_type": "execute_result"
    }
   ],
   "source": [
    "nx.is_tree(G)"
   ]
  },
  {
   "cell_type": "code",
   "execution_count": 20,
   "metadata": {},
   "outputs": [
    {
     "data": {
      "text/plain": [
       "False"
      ]
     },
     "execution_count": 20,
     "metadata": {},
     "output_type": "execute_result"
    }
   ],
   "source": [
    "nx.is_forest(G)"
   ]
  }
 ],
 "metadata": {
  "interpreter": {
   "hash": "722d0d88aa9a267f74f6ce4019e656054862c95b26904de541466056aedb2cbf"
  },
  "kernelspec": {
   "display_name": "Python 3.8.13 ('BPM')",
   "language": "python",
   "name": "python3"
  },
  "language_info": {
   "codemirror_mode": {
    "name": "ipython",
    "version": 3
   },
   "file_extension": ".py",
   "mimetype": "text/x-python",
   "name": "python",
   "nbconvert_exporter": "python",
   "pygments_lexer": "ipython3",
   "version": "3.8.13"
  },
  "orig_nbformat": 4
 },
 "nbformat": 4,
 "nbformat_minor": 2
}

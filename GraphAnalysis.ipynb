{
 "cells": [
  {
   "cell_type": "code",
   "execution_count": 1,
   "metadata": {},
   "outputs": [
    {
     "name": "stderr",
     "output_type": "stream",
     "text": [
      "[nltk_data] Downloading package stopwords to /Users/heidi/nltk_data...\n",
      "[nltk_data]   Package stopwords is already up-to-date!\n",
      "2022-05-19 12:28:57.928387: I tensorflow/core/platform/cpu_feature_guard.cc:151] This TensorFlow binary is optimized with oneAPI Deep Neural Network Library (oneDNN) to use the following CPU instructions in performance-critical operations:  AVX2 AVX512F FMA\n",
      "To enable them in other operations, rebuild TensorFlow with the appropriate compiler flags.\n"
     ]
    }
   ],
   "source": [
    "import graphmethods as gr\n",
    "from preprocessor import *\n",
    "from recommender import *\n",
    "import pandas as pd\n",
    "import numpy as np\n",
    "import matplotlib.pyplot as plt\n",
    "import networkx as nx\n",
    "from sklearn.preprocessing import LabelEncoder\n",
    "from stellargraph import StellarGraph\n",
    "from stellargraph.mapper import Attri2VecNodeGenerator, GraphSAGENodeGenerator\n",
    "import tensorflow as tf\n",
    "from sklearn.decomposition import PCA\n",
    "from sklearn.manifold import TSNE\n",
    "from sklearn.neighbors import NearestNeighbors"
   ]
  },
  {
   "cell_type": "code",
   "execution_count": 2,
   "metadata": {},
   "outputs": [],
   "source": [
    "nodes = pd.read_csv(\"data/nodes.csv\")\n",
    "nodes = nodes.set_index(\"Id\")\n",
    "alinks = pd.read_csv(\"data/alinks.csv\")\n",
    "bilinks = pd.read_csv(\"data/bilinks.csv\")\n",
    "clinks = create_clinks(bilinks,nodes)"
   ]
  },
  {
   "cell_type": "markdown",
   "metadata": {},
   "source": [
    "## Product graph\n",
    "with links connecting similar products giveb by Amazon's (`alinks`)"
   ]
  },
  {
   "cell_type": "code",
   "execution_count": 3,
   "metadata": {},
   "outputs": [],
   "source": [
    "G = nx.from_pandas_edgelist(alinks, source='source', target='target')"
   ]
  },
  {
   "cell_type": "code",
   "execution_count": 4,
   "metadata": {},
   "outputs": [],
   "source": [
    "missing_nodes = list(set(nodes.index)-set(G.nodes()))\n",
    "len(missing_nodes)\n",
    "G.add_nodes_from(missing_nodes)"
   ]
  },
  {
   "cell_type": "code",
   "execution_count": 5,
   "metadata": {},
   "outputs": [
    {
     "data": {
      "text/plain": [
       "{'no_of_nodes': 542664,\n",
       " 'no_of_edges': 236429,\n",
       " 'transitivity': 0.007141223411014257,\n",
       " 'average_clustering': 0.003951630468176218,\n",
       " 'edge_density': 1.6057188950565498e-06,\n",
       " 'average_degree': 0.8713642327480725,\n",
       " 'total_triangles': 3372,\n",
       " 'number_connected_components': 307498}"
      ]
     },
     "execution_count": 5,
     "metadata": {},
     "output_type": "execute_result"
    }
   ],
   "source": [
    "gr.net_prop_dict(G)\n"
   ]
  },
  {
   "cell_type": "code",
   "execution_count": 6,
   "metadata": {},
   "outputs": [
    {
     "data": {
      "image/png": "[encoded data removed]",
      "text/plain": [
       "<Figure size 432x288 with 1 Axes>"
      ]
     },
     "metadata": {
      "needs_background": "light"
     },
     "output_type": "display_data"
    }
   ],
   "source": [
    "degrees = [G.degree(n) for n in G.nodes()]\n",
    "plt.hist(degrees)\n",
    "plt.yscale(\"log\")\n",
    "plt.show()"
   ]
  },
  {
   "cell_type": "code",
   "execution_count": 7,
   "metadata": {},
   "outputs": [],
   "source": [
    "degree_centrality = nx.degree_centrality(G)"
   ]
  },
  {
   "cell_type": "code",
   "execution_count": 8,
   "metadata": {},
   "outputs": [],
   "source": [
    "closeness_centrality = nx.closeness_centrality(G)"
   ]
  },
  {
   "cell_type": "code",
   "execution_count": 9,
   "metadata": {},
   "outputs": [],
   "source": [
    "eigenvector_centrality = nx.eigenvector_centrality(G)"
   ]
  },
  {
   "cell_type": "code",
   "execution_count": 10,
   "metadata": {},
   "outputs": [],
   "source": [
    "katz_centrality = nx.katz_centrality(G)"
   ]
  },
  {
   "cell_type": "code",
   "execution_count": 11,
   "metadata": {},
   "outputs": [],
   "source": [
    "pagerank_centrality = nx.pagerank(G)"
   ]
  },
  {
   "cell_type": "code",
   "execution_count": 42,
   "metadata": {},
   "outputs": [],
   "source": [
    "#proximity_prestige = gr.proximity_prestige(G) # bug: zero division?!"
   ]
  },
  {
   "cell_type": "code",
   "execution_count": 43,
   "metadata": {},
   "outputs": [],
   "source": [
    "centralities = {\"degree\": degree_centrality, \"closeness\": closeness_centrality, \"eigen\": eigenvector_centrality, \n",
    "                \"katz\": katz_centrality, \"pagerank\": pagerank_centrality}\n",
    "top = pd.DataFrame(columns=[\"Id\",\"measure\",\"value\"])\n",
    "for centr in centralities:\n",
    "    sorted_centrality = {k: v for k, v in sorted(centralities[centr].items(), key=lambda item: item[1], reverse=True)}\n",
    "    top10_ids = list(sorted_centrality.keys())[:10]\n",
    "    top10_vals = list(sorted_centrality.values())[:10]\n",
    "    top = pd.concat([top, pd.DataFrame({\"Id\": top10_ids, \"measure\": centr, \"value\": top10_vals})],axis=0)"
   ]
  },
  {
   "cell_type": "code",
   "execution_count": 45,
   "metadata": {},
   "outputs": [
    {
     "name": "stderr",
     "output_type": "stream",
     "text": [
      "/opt/anaconda3/envs/NS/lib/python3.8/site-packages/pandas/core/indexes/base.py:6982: FutureWarning: In a future version, the Index constructor will not infer numeric dtypes when passed object-dtype sequences (matching Series behavior)\n",
      "  return Index(sequences[0], name=names)\n"
     ]
    },
    {
     "data": {
      "text/html": [
       "<div>\n",
       "<style scoped>\n",
       "    .dataframe tbody tr th:only-of-type {\n",
       "        vertical-align: middle;\n",
       "    }\n",
       "\n",
       "    .dataframe tbody tr th {\n",
       "        vertical-align: top;\n",
       "    }\n",
       "\n",
       "    .dataframe thead th {\n",
       "        text-align: right;\n",
       "    }\n",
       "</style>\n",
       "<table border=\"1\" class=\"dataframe\">\n",
       "  <thead>\n",
       "    <tr style=\"text-align: right;\">\n",
       "      <th></th>\n",
       "      <th>measure</th>\n",
       "      <th>value</th>\n",
       "      <th>Title</th>\n",
       "      <th>Group</th>\n",
       "    </tr>\n",
       "    <tr>\n",
       "      <th>Id</th>\n",
       "      <th></th>\n",
       "      <th></th>\n",
       "      <th></th>\n",
       "      <th></th>\n",
       "    </tr>\n",
       "  </thead>\n",
       "  <tbody>\n",
       "    <tr>\n",
       "      <th>27832</th>\n",
       "      <td>degree</td>\n",
       "      <td>0.000103</td>\n",
       "      <td>The Winter's Tale (Folger Shakespeare Library)</td>\n",
       "      <td>Book</td>\n",
       "    </tr>\n",
       "    <tr>\n",
       "      <th>27832</th>\n",
       "      <td>closeness</td>\n",
       "      <td>0.000185</td>\n",
       "      <td>The Winter's Tale (Folger Shakespeare Library)</td>\n",
       "      <td>Book</td>\n",
       "    </tr>\n",
       "    <tr>\n",
       "      <th>27832</th>\n",
       "      <td>katz</td>\n",
       "      <td>0.023843</td>\n",
       "      <td>The Winter's Tale (Folger Shakespeare Library)</td>\n",
       "      <td>Book</td>\n",
       "    </tr>\n",
       "    <tr>\n",
       "      <th>27832</th>\n",
       "      <td>pagerank</td>\n",
       "      <td>0.000051</td>\n",
       "      <td>The Winter's Tale (Folger Shakespeare Library)</td>\n",
       "      <td>Book</td>\n",
       "    </tr>\n",
       "    <tr>\n",
       "      <th>45146</th>\n",
       "      <td>degree</td>\n",
       "      <td>0.000111</td>\n",
       "      <td>Taber's Cyclopedic Medical Dictionary -Thumb-I...</td>\n",
       "      <td>Book</td>\n",
       "    </tr>\n",
       "    <tr>\n",
       "      <th>45146</th>\n",
       "      <td>katz</td>\n",
       "      <td>0.021201</td>\n",
       "      <td>Taber's Cyclopedic Medical Dictionary -Thumb-I...</td>\n",
       "      <td>Book</td>\n",
       "    </tr>\n",
       "    <tr>\n",
       "      <th>45146</th>\n",
       "      <td>pagerank</td>\n",
       "      <td>0.000054</td>\n",
       "      <td>Taber's Cyclopedic Medical Dictionary -Thumb-I...</td>\n",
       "      <td>Book</td>\n",
       "    </tr>\n",
       "    <tr>\n",
       "      <th>50483</th>\n",
       "      <td>eigen</td>\n",
       "      <td>0.0728</td>\n",
       "      <td>Gilda</td>\n",
       "      <td>DVD</td>\n",
       "    </tr>\n",
       "    <tr>\n",
       "      <th>55387</th>\n",
       "      <td>degree</td>\n",
       "      <td>0.000105</td>\n",
       "      <td>Getting to Yes: Negotiating Agreement Without ...</td>\n",
       "      <td>Book</td>\n",
       "    </tr>\n",
       "    <tr>\n",
       "      <th>55387</th>\n",
       "      <td>pagerank</td>\n",
       "      <td>0.000052</td>\n",
       "      <td>Getting to Yes: Negotiating Agreement Without ...</td>\n",
       "      <td>Book</td>\n",
       "    </tr>\n",
       "    <tr>\n",
       "      <th>98756</th>\n",
       "      <td>closeness</td>\n",
       "      <td>0.000171</td>\n",
       "      <td>The Catcher in the Rye</td>\n",
       "      <td>Book</td>\n",
       "    </tr>\n",
       "    <tr>\n",
       "      <th>109835</th>\n",
       "      <td>eigen</td>\n",
       "      <td>0.074519</td>\n",
       "      <td>The Bride Wore Black</td>\n",
       "      <td>DVD</td>\n",
       "    </tr>\n",
       "    <tr>\n",
       "      <th>151389</th>\n",
       "      <td>closeness</td>\n",
       "      <td>0.000188</td>\n",
       "      <td>The Republic (Dover Thrift Editions)</td>\n",
       "      <td>Book</td>\n",
       "    </tr>\n",
       "    <tr>\n",
       "      <th>199628</th>\n",
       "      <td>closeness</td>\n",
       "      <td>0.000201</td>\n",
       "      <td>The Great Gatsby</td>\n",
       "      <td>Book</td>\n",
       "    </tr>\n",
       "    <tr>\n",
       "      <th>207439</th>\n",
       "      <td>eigen</td>\n",
       "      <td>0.075414</td>\n",
       "      <td>The Blue Gardenia</td>\n",
       "      <td>DVD</td>\n",
       "    </tr>\n",
       "    <tr>\n",
       "      <th>222074</th>\n",
       "      <td>degree</td>\n",
       "      <td>0.000116</td>\n",
       "      <td>Publication Manual of the American Psychologic...</td>\n",
       "      <td>Book</td>\n",
       "    </tr>\n",
       "    <tr>\n",
       "      <th>222074</th>\n",
       "      <td>katz</td>\n",
       "      <td>0.023727</td>\n",
       "      <td>Publication Manual of the American Psychologic...</td>\n",
       "      <td>Book</td>\n",
       "    </tr>\n",
       "    <tr>\n",
       "      <th>222074</th>\n",
       "      <td>pagerank</td>\n",
       "      <td>0.000056</td>\n",
       "      <td>Publication Manual of the American Psychologic...</td>\n",
       "      <td>Book</td>\n",
       "    </tr>\n",
       "    <tr>\n",
       "      <th>231855</th>\n",
       "      <td>closeness</td>\n",
       "      <td>0.00019</td>\n",
       "      <td>The Communist Manifesto</td>\n",
       "      <td>Book</td>\n",
       "    </tr>\n",
       "    <tr>\n",
       "      <th>239107</th>\n",
       "      <td>degree</td>\n",
       "      <td>0.000127</td>\n",
       "      <td>The Prince</td>\n",
       "      <td>Book</td>\n",
       "    </tr>\n",
       "    <tr>\n",
       "      <th>239107</th>\n",
       "      <td>closeness</td>\n",
       "      <td>0.000229</td>\n",
       "      <td>The Prince</td>\n",
       "      <td>Book</td>\n",
       "    </tr>\n",
       "    <tr>\n",
       "      <th>239107</th>\n",
       "      <td>eigen</td>\n",
       "      <td>0.09156</td>\n",
       "      <td>The Prince</td>\n",
       "      <td>Book</td>\n",
       "    </tr>\n",
       "    <tr>\n",
       "      <th>239107</th>\n",
       "      <td>katz</td>\n",
       "      <td>0.037855</td>\n",
       "      <td>The Prince</td>\n",
       "      <td>Book</td>\n",
       "    </tr>\n",
       "    <tr>\n",
       "      <th>239107</th>\n",
       "      <td>pagerank</td>\n",
       "      <td>0.000063</td>\n",
       "      <td>The Prince</td>\n",
       "      <td>Book</td>\n",
       "    </tr>\n",
       "    <tr>\n",
       "      <th>239327</th>\n",
       "      <td>degree</td>\n",
       "      <td>0.000109</td>\n",
       "      <td>Confessions (Oxford World's Classics)</td>\n",
       "      <td>Book</td>\n",
       "    </tr>\n",
       "    <tr>\n",
       "      <th>239327</th>\n",
       "      <td>katz</td>\n",
       "      <td>0.021327</td>\n",
       "      <td>Confessions (Oxford World's Classics)</td>\n",
       "      <td>Book</td>\n",
       "    </tr>\n",
       "    <tr>\n",
       "      <th>239327</th>\n",
       "      <td>pagerank</td>\n",
       "      <td>0.000054</td>\n",
       "      <td>Confessions (Oxford World's Classics)</td>\n",
       "      <td>Book</td>\n",
       "    </tr>\n",
       "    <tr>\n",
       "      <th>277567</th>\n",
       "      <td>degree</td>\n",
       "      <td>0.000101</td>\n",
       "      <td>The Secret Garden</td>\n",
       "      <td>Book</td>\n",
       "    </tr>\n",
       "    <tr>\n",
       "      <th>293126</th>\n",
       "      <td>eigen</td>\n",
       "      <td>0.0728</td>\n",
       "      <td>The Man Who Never Was</td>\n",
       "      <td>Video</td>\n",
       "    </tr>\n",
       "    <tr>\n",
       "      <th>300322</th>\n",
       "      <td>pagerank</td>\n",
       "      <td>0.00005</td>\n",
       "      <td>The New Strong's Exhaustive Concordance of the...</td>\n",
       "      <td>Book</td>\n",
       "    </tr>\n",
       "    <tr>\n",
       "      <th>305046</th>\n",
       "      <td>eigen</td>\n",
       "      <td>0.073645</td>\n",
       "      <td>Clash by Night</td>\n",
       "      <td>Video</td>\n",
       "    </tr>\n",
       "    <tr>\n",
       "      <th>317053</th>\n",
       "      <td>closeness</td>\n",
       "      <td>0.000176</td>\n",
       "      <td>The Scarlet Letter</td>\n",
       "      <td>Book</td>\n",
       "    </tr>\n",
       "    <tr>\n",
       "      <th>336948</th>\n",
       "      <td>eigen</td>\n",
       "      <td>0.0728</td>\n",
       "      <td>Dead of Night/The Queen of Spades</td>\n",
       "      <td>DVD</td>\n",
       "    </tr>\n",
       "    <tr>\n",
       "      <th>424153</th>\n",
       "      <td>katz</td>\n",
       "      <td>0.020023</td>\n",
       "      <td>Othello (Dover Thrift Editions)</td>\n",
       "      <td>Book</td>\n",
       "    </tr>\n",
       "    <tr>\n",
       "      <th>436020</th>\n",
       "      <td>degree</td>\n",
       "      <td>0.000101</td>\n",
       "      <td>The TEMPEST</td>\n",
       "      <td>Book</td>\n",
       "    </tr>\n",
       "    <tr>\n",
       "      <th>436020</th>\n",
       "      <td>closeness</td>\n",
       "      <td>0.000195</td>\n",
       "      <td>The TEMPEST</td>\n",
       "      <td>Book</td>\n",
       "    </tr>\n",
       "    <tr>\n",
       "      <th>436020</th>\n",
       "      <td>katz</td>\n",
       "      <td>0.025144</td>\n",
       "      <td>The TEMPEST</td>\n",
       "      <td>Book</td>\n",
       "    </tr>\n",
       "    <tr>\n",
       "      <th>436020</th>\n",
       "      <td>pagerank</td>\n",
       "      <td>0.00005</td>\n",
       "      <td>The TEMPEST</td>\n",
       "      <td>Book</td>\n",
       "    </tr>\n",
       "    <tr>\n",
       "      <th>445439</th>\n",
       "      <td>closeness</td>\n",
       "      <td>0.000185</td>\n",
       "      <td>The Art of War</td>\n",
       "      <td>Book</td>\n",
       "    </tr>\n",
       "    <tr>\n",
       "      <th>458358</th>\n",
       "      <td>degree</td>\n",
       "      <td>0.00014</td>\n",
       "      <td>Diagnostic and Statistical Manual of Mental Di...</td>\n",
       "      <td>Book</td>\n",
       "    </tr>\n",
       "    <tr>\n",
       "      <th>458358</th>\n",
       "      <td>eigen</td>\n",
       "      <td>0.174045</td>\n",
       "      <td>Diagnostic and Statistical Manual of Mental Di...</td>\n",
       "      <td>Book</td>\n",
       "    </tr>\n",
       "    <tr>\n",
       "      <th>458358</th>\n",
       "      <td>katz</td>\n",
       "      <td>0.045565</td>\n",
       "      <td>Diagnostic and Statistical Manual of Mental Di...</td>\n",
       "      <td>Book</td>\n",
       "    </tr>\n",
       "    <tr>\n",
       "      <th>458358</th>\n",
       "      <td>pagerank</td>\n",
       "      <td>0.000069</td>\n",
       "      <td>Diagnostic and Statistical Manual of Mental Di...</td>\n",
       "      <td>Book</td>\n",
       "    </tr>\n",
       "    <tr>\n",
       "      <th>515301</th>\n",
       "      <td>closeness</td>\n",
       "      <td>0.000189</td>\n",
       "      <td>1001 Most Useful Spanish Words (Beginners' Gui...</td>\n",
       "      <td>Book</td>\n",
       "    </tr>\n",
       "    <tr>\n",
       "      <th>515301</th>\n",
       "      <td>katz</td>\n",
       "      <td>0.020624</td>\n",
       "      <td>1001 Most Useful Spanish Words (Beginners' Gui...</td>\n",
       "      <td>Book</td>\n",
       "    </tr>\n",
       "    <tr>\n",
       "      <th>547529</th>\n",
       "      <td>eigen</td>\n",
       "      <td>0.074519</td>\n",
       "      <td>Sorry, Wrong Number</td>\n",
       "      <td>DVD</td>\n",
       "    </tr>\n",
       "    <tr>\n",
       "      <th>548091</th>\n",
       "      <td>degree</td>\n",
       "      <td>0.00016</td>\n",
       "      <td>Laura</td>\n",
       "      <td>DVD</td>\n",
       "    </tr>\n",
       "    <tr>\n",
       "      <th>548091</th>\n",
       "      <td>eigen</td>\n",
       "      <td>0.679422</td>\n",
       "      <td>Laura</td>\n",
       "      <td>DVD</td>\n",
       "    </tr>\n",
       "    <tr>\n",
       "      <th>548091</th>\n",
       "      <td>katz</td>\n",
       "      <td>0.08905</td>\n",
       "      <td>Laura</td>\n",
       "      <td>DVD</td>\n",
       "    </tr>\n",
       "    <tr>\n",
       "      <th>548091</th>\n",
       "      <td>pagerank</td>\n",
       "      <td>0.000077</td>\n",
       "      <td>Laura</td>\n",
       "      <td>DVD</td>\n",
       "    </tr>\n",
       "  </tbody>\n",
       "</table>\n",
       "</div>"
      ],
      "text/plain": [
       "          measure     value  \\\n",
       "Id                            \n",
       "27832      degree  0.000103   \n",
       "27832   closeness  0.000185   \n",
       "27832        katz  0.023843   \n",
       "27832    pagerank  0.000051   \n",
       "45146      degree  0.000111   \n",
       "45146        katz  0.021201   \n",
       "45146    pagerank  0.000054   \n",
       "50483       eigen    0.0728   \n",
       "55387      degree  0.000105   \n",
       "55387    pagerank  0.000052   \n",
       "98756   closeness  0.000171   \n",
       "109835      eigen  0.074519   \n",
       "151389  closeness  0.000188   \n",
       "199628  closeness  0.000201   \n",
       "207439      eigen  0.075414   \n",
       "222074     degree  0.000116   \n",
       "222074       katz  0.023727   \n",
       "222074   pagerank  0.000056   \n",
       "231855  closeness   0.00019   \n",
       "239107     degree  0.000127   \n",
       "239107  closeness  0.000229   \n",
       "239107      eigen   0.09156   \n",
       "239107       katz  0.037855   \n",
       "239107   pagerank  0.000063   \n",
       "239327     degree  0.000109   \n",
       "239327       katz  0.021327   \n",
       "239327   pagerank  0.000054   \n",
       "277567     degree  0.000101   \n",
       "293126      eigen    0.0728   \n",
       "300322   pagerank   0.00005   \n",
       "305046      eigen  0.073645   \n",
       "317053  closeness  0.000176   \n",
       "336948      eigen    0.0728   \n",
       "424153       katz  0.020023   \n",
       "436020     degree  0.000101   \n",
       "436020  closeness  0.000195   \n",
       "436020       katz  0.025144   \n",
       "436020   pagerank   0.00005   \n",
       "445439  closeness  0.000185   \n",
       "458358     degree   0.00014   \n",
       "458358      eigen  0.174045   \n",
       "458358       katz  0.045565   \n",
       "458358   pagerank  0.000069   \n",
       "515301  closeness  0.000189   \n",
       "515301       katz  0.020624   \n",
       "547529      eigen  0.074519   \n",
       "548091     degree   0.00016   \n",
       "548091      eigen  0.679422   \n",
       "548091       katz   0.08905   \n",
       "548091   pagerank  0.000077   \n",
       "\n",
       "                                                    Title  Group  \n",
       "Id                                                                \n",
       "27832      The Winter's Tale (Folger Shakespeare Library)   Book  \n",
       "27832      The Winter's Tale (Folger Shakespeare Library)   Book  \n",
       "27832      The Winter's Tale (Folger Shakespeare Library)   Book  \n",
       "27832      The Winter's Tale (Folger Shakespeare Library)   Book  \n",
       "45146   Taber's Cyclopedic Medical Dictionary -Thumb-I...   Book  \n",
       "45146   Taber's Cyclopedic Medical Dictionary -Thumb-I...   Book  \n",
       "45146   Taber's Cyclopedic Medical Dictionary -Thumb-I...   Book  \n",
       "50483                                               Gilda    DVD  \n",
       "55387   Getting to Yes: Negotiating Agreement Without ...   Book  \n",
       "55387   Getting to Yes: Negotiating Agreement Without ...   Book  \n",
       "98756                              The Catcher in the Rye   Book  \n",
       "109835                               The Bride Wore Black    DVD  \n",
       "151389               The Republic (Dover Thrift Editions)   Book  \n",
       "199628                                   The Great Gatsby   Book  \n",
       "207439                                  The Blue Gardenia    DVD  \n",
       "222074  Publication Manual of the American Psychologic...   Book  \n",
       "222074  Publication Manual of the American Psychologic...   Book  \n",
       "222074  Publication Manual of the American Psychologic...   Book  \n",
       "231855                            The Communist Manifesto   Book  \n",
       "239107                                         The Prince   Book  \n",
       "239107                                         The Prince   Book  \n",
       "239107                                         The Prince   Book  \n",
       "239107                                         The Prince   Book  \n",
       "239107                                         The Prince   Book  \n",
       "239327              Confessions (Oxford World's Classics)   Book  \n",
       "239327              Confessions (Oxford World's Classics)   Book  \n",
       "239327              Confessions (Oxford World's Classics)   Book  \n",
       "277567                                  The Secret Garden   Book  \n",
       "293126                              The Man Who Never Was  Video  \n",
       "300322  The New Strong's Exhaustive Concordance of the...   Book  \n",
       "305046                                     Clash by Night  Video  \n",
       "317053                                 The Scarlet Letter   Book  \n",
       "336948                  Dead of Night/The Queen of Spades    DVD  \n",
       "424153                    Othello (Dover Thrift Editions)   Book  \n",
       "436020                                        The TEMPEST   Book  \n",
       "436020                                        The TEMPEST   Book  \n",
       "436020                                        The TEMPEST   Book  \n",
       "436020                                        The TEMPEST   Book  \n",
       "445439                                     The Art of War   Book  \n",
       "458358  Diagnostic and Statistical Manual of Mental Di...   Book  \n",
       "458358  Diagnostic and Statistical Manual of Mental Di...   Book  \n",
       "458358  Diagnostic and Statistical Manual of Mental Di...   Book  \n",
       "458358  Diagnostic and Statistical Manual of Mental Di...   Book  \n",
       "515301  1001 Most Useful Spanish Words (Beginners' Gui...   Book  \n",
       "515301  1001 Most Useful Spanish Words (Beginners' Gui...   Book  \n",
       "547529                                Sorry, Wrong Number    DVD  \n",
       "548091                                              Laura    DVD  \n",
       "548091                                              Laura    DVD  \n",
       "548091                                              Laura    DVD  \n",
       "548091                                              Laura    DVD  "
      ]
     },
     "execution_count": 45,
     "metadata": {},
     "output_type": "execute_result"
    }
   ],
   "source": [
    "top = top.set_index(\"Id\")\n",
    "top = top.join(nodes[[\"Title\",\"Group\"]])\n",
    "top"
   ]
  },
  {
   "cell_type": "markdown",
   "metadata": {},
   "source": [
    "## Bipartite graph of products and customers\n",
    "with only links between products and customers (`bilinks`)"
   ]
  },
  {
   "cell_type": "code",
   "execution_count": 14,
   "metadata": {},
   "outputs": [
    {
     "data": {
      "text/html": [
       "<div>\n",
       "<style scoped>\n",
       "    .dataframe tbody tr th:only-of-type {\n",
       "        vertical-align: middle;\n",
       "    }\n",
       "\n",
       "    .dataframe tbody tr th {\n",
       "        vertical-align: top;\n",
       "    }\n",
       "\n",
       "    .dataframe thead th {\n",
       "        text-align: right;\n",
       "    }\n",
       "</style>\n",
       "<table border=\"1\" class=\"dataframe\">\n",
       "  <thead>\n",
       "    <tr style=\"text-align: right;\">\n",
       "      <th></th>\n",
       "      <th>Id</th>\n",
       "      <th>CId</th>\n",
       "      <th>Rating</th>\n",
       "    </tr>\n",
       "  </thead>\n",
       "  <tbody>\n",
       "    <tr>\n",
       "      <th>0</th>\n",
       "      <td>1</td>\n",
       "      <td>C110643</td>\n",
       "      <td>5.0</td>\n",
       "    </tr>\n",
       "    <tr>\n",
       "      <th>1</th>\n",
       "      <td>2</td>\n",
       "      <td>C133242</td>\n",
       "      <td>5.0</td>\n",
       "    </tr>\n",
       "    <tr>\n",
       "      <th>2</th>\n",
       "      <td>3</td>\n",
       "      <td>C3314</td>\n",
       "      <td>5.0</td>\n",
       "    </tr>\n",
       "    <tr>\n",
       "      <th>3</th>\n",
       "      <td>4</td>\n",
       "      <td>C217326</td>\n",
       "      <td>4.0</td>\n",
       "    </tr>\n",
       "    <tr>\n",
       "      <th>4</th>\n",
       "      <td>5</td>\n",
       "      <td>C7580</td>\n",
       "      <td>5.0</td>\n",
       "    </tr>\n",
       "  </tbody>\n",
       "</table>\n",
       "</div>"
      ],
      "text/plain": [
       "   Id      CId  Rating\n",
       "0   1  C110643     5.0\n",
       "1   2  C133242     5.0\n",
       "2   3    C3314     5.0\n",
       "3   4  C217326     4.0\n",
       "4   5    C7580     5.0"
      ]
     },
     "execution_count": 14,
     "metadata": {},
     "output_type": "execute_result"
    }
   ],
   "source": [
    "bilinks.head()"
   ]
  },
  {
   "cell_type": "code",
   "execution_count": 15,
   "metadata": {},
   "outputs": [
    {
     "data": {
      "text/plain": [
       "(229313, 410480, 410480)"
      ]
     },
     "execution_count": 15,
     "metadata": {},
     "output_type": "execute_result"
    }
   ],
   "source": [
    "# collect bi-edge tuples into list\n",
    "biedges = []\n",
    "for i in range(bilinks.shape[0]):\n",
    "    biedges.append((bilinks.loc[i,\"CId\"],bilinks.loc[i,\"Id\"]))\n",
    "# collect ids of customer nodes and product nodes into lists\n",
    "customers = list(bilinks.CId.unique())\n",
    "products = list(bilinks.Id.unique())\n",
    "len(customers), len(products), len(biedges)"
   ]
  },
  {
   "cell_type": "code",
   "execution_count": 16,
   "metadata": {},
   "outputs": [
    {
     "data": {
      "text/plain": [
       "True"
      ]
     },
     "execution_count": 16,
     "metadata": {},
     "output_type": "execute_result"
    }
   ],
   "source": [
    "from networkx.algorithms import bipartite\n",
    "\n",
    "biG = nx.Graph()\n",
    "#nodes\n",
    "biG.add_nodes_from(customers, bipartite=\"customers\")\n",
    "biG.add_nodes_from(products, bipartite=\"products\")\n",
    "#edges\n",
    "biG.add_edges_from(biedges)\n",
    "bipartite.is_bipartite(biG)"
   ]
  },
  {
   "cell_type": "code",
   "execution_count": 17,
   "metadata": {},
   "outputs": [
    {
     "data": {
      "text/plain": [
       "{'no_of_nodes': 639793,\n",
       " 'no_of_edges': 410480,\n",
       " 'transitivity': 0,\n",
       " 'average_clustering': 0.0,\n",
       " 'edge_density': 2.005597168591275e-06,\n",
       " 'average_degree': 1.2831650236873489,\n",
       " 'total_triangles': 0,\n",
       " 'number_connected_components': 229313}"
      ]
     },
     "execution_count": 17,
     "metadata": {},
     "output_type": "execute_result"
    }
   ],
   "source": [
    "gr.net_prop_dict(biG)"
   ]
  },
  {
   "cell_type": "markdown",
   "metadata": {},
   "source": [
    "## Another product graph\n",
    "with edges connecting products of same customer (`clinks`)"
   ]
  },
  {
   "cell_type": "code",
   "execution_count": 18,
   "metadata": {},
   "outputs": [],
   "source": [
    "CG = nx.from_pandas_edgelist(clinks, source='source', target='target')"
   ]
  },
  {
   "cell_type": "code",
   "execution_count": 19,
   "metadata": {},
   "outputs": [
    {
     "name": "stdout",
     "output_type": "stream",
     "text": [
      "422303\n"
     ]
    }
   ],
   "source": [
    "missing_nodes = list(set(nodes.index)-set(CG.nodes()))\n",
    "print(len(missing_nodes))\n",
    "CG.add_nodes_from(missing_nodes)"
   ]
  },
  {
   "cell_type": "code",
   "execution_count": 21,
   "metadata": {},
   "outputs": [
    {
     "name": "stdout",
     "output_type": "stream",
     "text": [
      "Number of nodes:  542664\n",
      "Number of edges:  35046691\n"
     ]
    }
   ],
   "source": [
    "print(\"Number of nodes: \", nx.number_of_nodes(CG))\n",
    "print(\"Number of edges: \", nx.number_of_edges(CG))"
   ]
  },
  {
   "cell_type": "code",
   "execution_count": 22,
   "metadata": {},
   "outputs": [
    {
     "name": "stdout",
     "output_type": "stream",
     "text": [
      ".\n",
      ".\n",
      ".\n"
     ]
    }
   ],
   "source": [
    "sourceLinksCG = [link[0] for link in CG.edges()]\n",
    "print(\".\")\n",
    "targetLinksCG = [link[1] for link in CG.edges()]\n",
    "print(\".\")\n",
    "linksCG = pd.DataFrame({\"source\": sourceLinksCG, \"target\": targetLinksCG})\n",
    "print(\".\")\n",
    "linksCG.to_csv(\"data/clinks.csv\",index=False)"
   ]
  },
  {
   "cell_type": "code",
   "execution_count": null,
   "metadata": {},
   "outputs": [],
   "source": []
  }
 ],
 "metadata": {
  "interpreter": {
   "hash": "bdc8687d8d6dbe19d9fb3ab8a3c1b4cf8d9b0b1677a9be6df582fe49a179ef2b"
  },
  "kernelspec": {
   "display_name": "Python 3.8.13 ('NS')",
   "language": "python",
   "name": "python3"
  },
  "language_info": {
   "codemirror_mode": {
    "name": "ipython",
    "version": 3
   },
   "file_extension": ".py",
   "mimetype": "text/x-python",
   "name": "python",
   "nbconvert_exporter": "python",
   "pygments_lexer": "ipython3",
   "version": "3.8.13"
  },
  "orig_nbformat": 4
 },
 "nbformat": 4,
 "nbformat_minor": 2
}

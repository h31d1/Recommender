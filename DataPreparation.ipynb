{
 "cells": [
  {
   "cell_type": "code",
   "execution_count": 2,
   "metadata": {},
   "outputs": [],
   "source": [
    "import text2dictionary as t2d\n",
    "import graphmethods as gr\n",
    "import pandas as pd\n",
    "import numpy as np\n",
    "import matplotlib.pyplot as plt\n",
    "import networkx as nx\n",
    "from sklearn.preprocessing import LabelEncoder"
   ]
  },
  {
   "cell_type": "markdown",
   "metadata": {},
   "source": [
    "# Project Notebook\n",
    "\n",
    "## **Graph Neural Network for Recommendation System**\n",
    "Based on dataset of Amazon co-purchased products \n",
    "\n",
    "Heidi Carolina Martinsaari, Maris Häusler"
   ]
  },
  {
   "cell_type": "markdown",
   "metadata": {},
   "source": [
    "### **Extract the data**"
   ]
  },
  {
   "cell_type": "markdown",
   "metadata": {},
   "source": [
    "Source of the data:"
   ]
  },
  {
   "cell_type": "code",
   "execution_count": 2,
   "metadata": {},
   "outputs": [],
   "source": [
    "#!wget https://snap.stanford.edu/data/bigdata/amazon/amazon-meta.txt.gz"
   ]
  },
  {
   "cell_type": "code",
   "execution_count": 3,
   "metadata": {},
   "outputs": [],
   "source": [
    "filename = \"amazon-meta.txt\""
   ]
  },
  {
   "cell_type": "markdown",
   "metadata": {},
   "source": [
    "The data was collected by crawling Amazon website and contains product metadata and review information about 548,552 different products (Books, music CDs, DVDs and VHS video tapes).\n",
    "\n",
    "For each product the following information is available:\n",
    "\n",
    "- Title\n",
    "- Salesrank\n",
    "- List of similar products (that get co-purchased with the current product)\n",
    "- Detailed product categorization\n",
    "- Product reviews: time, customer, rating, number of votes, number of people that found the review helpful\n",
    "\n",
    "The data was collected in summer 2006."
   ]
  },
  {
   "cell_type": "code",
   "execution_count": 4,
   "metadata": {},
   "outputs": [
    {
     "name": "stdout",
     "output_type": "stream",
     "text": [
      "# Full information about Amazon Share the Love products\n",
      "Total items: 548552\n",
      "\n",
      "Id:   0\n",
      "ASIN: 0771044445\n",
      "  discontinued product\n",
      "\n",
      "Id:   1\n",
      "ASIN: 0827229534\n",
      "  title: Patterns of Preaching: A Sermon Sampler\n",
      "  group: Book\n",
      "  salesrank: 396585\n",
      "  similar: 5  0804215715  156101074X  0687023955  0687074231  082721619X\n",
      "  categories: 2\n",
      "   |Books[283155]|Subjects[1000]|Religion & Spirituality[22]|Christianity[12290]|Clergy[12360]|Preaching[12368]\n",
      "   |Books[283155]|Subjects[1000]|Religion & Spirituality[22]|Christianity[12290]|Clergy[12360]|Sermons[12370]\n",
      "  reviews: total: 2  downloaded: 2  avg rating: 5\n",
      "    2000-7-28  cutomer: A2JW67OY8U6HHK  rating: 5  votes:  10  helpful:   9\n",
      "    2003-12-14  cutomer: A2VE83MZF98ITY  rating: 5  votes:   6  helpful:   5\n",
      "\n"
     ]
    }
   ],
   "source": [
    "!head -20 amazon-meta.txt"
   ]
  },
  {
   "cell_type": "markdown",
   "metadata": {},
   "source": [
    "Collecting data with handmade function from text file to dictionary:"
   ]
  },
  {
   "cell_type": "code",
   "execution_count": 5,
   "metadata": {},
   "outputs": [],
   "source": [
    "collection = t2d.collect_objects(filename)"
   ]
  },
  {
   "cell_type": "markdown",
   "metadata": {},
   "source": [
    "Converting the dictionary to pandas dataframe:"
   ]
  },
  {
   "cell_type": "code",
   "execution_count": 6,
   "metadata": {},
   "outputs": [
    {
     "data": {
      "text/html": [
       "<div>\n",
       "<style scoped>\n",
       "    .dataframe tbody tr th:only-of-type {\n",
       "        vertical-align: middle;\n",
       "    }\n",
       "\n",
       "    .dataframe tbody tr th {\n",
       "        vertical-align: top;\n",
       "    }\n",
       "\n",
       "    .dataframe thead th {\n",
       "        text-align: right;\n",
       "    }\n",
       "</style>\n",
       "<table border=\"1\" class=\"dataframe\">\n",
       "  <thead>\n",
       "    <tr style=\"text-align: right;\">\n",
       "      <th></th>\n",
       "      <th>Id</th>\n",
       "      <th>ASIN</th>\n",
       "      <th>title</th>\n",
       "      <th>group</th>\n",
       "      <th>salesrank</th>\n",
       "      <th>no_sim</th>\n",
       "      <th>similar</th>\n",
       "      <th>categories</th>\n",
       "      <th>catlists</th>\n",
       "      <th>reviews</th>\n",
       "      <th>revdicts</th>\n",
       "    </tr>\n",
       "  </thead>\n",
       "  <tbody>\n",
       "    <tr>\n",
       "      <th>0</th>\n",
       "      <td>1</td>\n",
       "      <td>0827229534</td>\n",
       "      <td>Patterns of Preaching: A Sermon Sampler</td>\n",
       "      <td>Book</td>\n",
       "      <td>396585</td>\n",
       "      <td>5</td>\n",
       "      <td>[0804215715, 156101074X, 0687023955, 068707423...</td>\n",
       "      <td>2</td>\n",
       "      <td>[[Books[283155], Subjects[1000], Religion &amp; Sp...</td>\n",
       "      <td>{'total': 2.0, 'downloaded': 2.0, 'avg rating'...</td>\n",
       "      <td>[{'date': '2000-7-28', 'customer': 'A2JW67OY8U...</td>\n",
       "    </tr>\n",
       "    <tr>\n",
       "      <th>1</th>\n",
       "      <td>2</td>\n",
       "      <td>0738700797</td>\n",
       "      <td>Candlemas: Feast of Flames</td>\n",
       "      <td>Book</td>\n",
       "      <td>168596</td>\n",
       "      <td>5</td>\n",
       "      <td>[0738700827, 1567184960, 1567182836, 073870052...</td>\n",
       "      <td>2</td>\n",
       "      <td>[[Books[283155], Subjects[1000], Religion &amp; Sp...</td>\n",
       "      <td>{'total': 12.0, 'downloaded': 12.0, 'avg ratin...</td>\n",
       "      <td>[{'date': '2001-12-16', 'customer': 'A11NCO6YT...</td>\n",
       "    </tr>\n",
       "    <tr>\n",
       "      <th>2</th>\n",
       "      <td>3</td>\n",
       "      <td>0486287785</td>\n",
       "      <td>World War II Allied Fighter Planes Trading Cards</td>\n",
       "      <td>Book</td>\n",
       "      <td>1270652</td>\n",
       "      <td>0</td>\n",
       "      <td>[]</td>\n",
       "      <td>1</td>\n",
       "      <td>[[Books[283155], Subjects[1000], Home &amp; Garden...</td>\n",
       "      <td>{'total': 1.0, 'downloaded': 1.0, 'avg rating'...</td>\n",
       "      <td>[{'date': '2003-7-10', 'customer': 'A3IDGASRQA...</td>\n",
       "    </tr>\n",
       "    <tr>\n",
       "      <th>3</th>\n",
       "      <td>4</td>\n",
       "      <td>0842328327</td>\n",
       "      <td>Life Application Bible Commentary: 1 and 2 Tim...</td>\n",
       "      <td>Book</td>\n",
       "      <td>631289</td>\n",
       "      <td>5</td>\n",
       "      <td>[0842328130, 0830818138, 0842330313, 084232861...</td>\n",
       "      <td>5</td>\n",
       "      <td>[[Books[283155], Subjects[1000], Religion &amp; Sp...</td>\n",
       "      <td>{'total': 1.0, 'downloaded': 1.0, 'avg rating'...</td>\n",
       "      <td>[{'date': '2004-8-19', 'customer': 'A2591BUPXC...</td>\n",
       "    </tr>\n",
       "    <tr>\n",
       "      <th>4</th>\n",
       "      <td>5</td>\n",
       "      <td>1577943082</td>\n",
       "      <td>Prayers That Avail Much for Business: Executive</td>\n",
       "      <td>Book</td>\n",
       "      <td>455160</td>\n",
       "      <td>5</td>\n",
       "      <td>[157794349X, 0892749504, 1577941829, 089274956...</td>\n",
       "      <td>2</td>\n",
       "      <td>[[Books[283155], Subjects[1000], Religion &amp; Sp...</td>\n",
       "      <td>{'total': 0.0, 'downloaded': 0.0, 'avg rating'...</td>\n",
       "      <td>[]</td>\n",
       "    </tr>\n",
       "  </tbody>\n",
       "</table>\n",
       "</div>"
      ],
      "text/plain": [
       "   Id        ASIN                                              title group  \\\n",
       "0   1  0827229534            Patterns of Preaching: A Sermon Sampler  Book   \n",
       "1   2  0738700797                         Candlemas: Feast of Flames  Book   \n",
       "2   3  0486287785   World War II Allied Fighter Planes Trading Cards  Book   \n",
       "3   4  0842328327  Life Application Bible Commentary: 1 and 2 Tim...  Book   \n",
       "4   5  1577943082    Prayers That Avail Much for Business: Executive  Book   \n",
       "\n",
       "  salesrank no_sim                                            similar  \\\n",
       "0    396585      5  [0804215715, 156101074X, 0687023955, 068707423...   \n",
       "1    168596      5  [0738700827, 1567184960, 1567182836, 073870052...   \n",
       "2   1270652      0                                                 []   \n",
       "3    631289      5  [0842328130, 0830818138, 0842330313, 084232861...   \n",
       "4    455160      5  [157794349X, 0892749504, 1577941829, 089274956...   \n",
       "\n",
       "  categories                                           catlists  \\\n",
       "0          2  [[Books[283155], Subjects[1000], Religion & Sp...   \n",
       "1          2  [[Books[283155], Subjects[1000], Religion & Sp...   \n",
       "2          1  [[Books[283155], Subjects[1000], Home & Garden...   \n",
       "3          5  [[Books[283155], Subjects[1000], Religion & Sp...   \n",
       "4          2  [[Books[283155], Subjects[1000], Religion & Sp...   \n",
       "\n",
       "                                             reviews  \\\n",
       "0  {'total': 2.0, 'downloaded': 2.0, 'avg rating'...   \n",
       "1  {'total': 12.0, 'downloaded': 12.0, 'avg ratin...   \n",
       "2  {'total': 1.0, 'downloaded': 1.0, 'avg rating'...   \n",
       "3  {'total': 1.0, 'downloaded': 1.0, 'avg rating'...   \n",
       "4  {'total': 0.0, 'downloaded': 0.0, 'avg rating'...   \n",
       "\n",
       "                                            revdicts  \n",
       "0  [{'date': '2000-7-28', 'customer': 'A2JW67OY8U...  \n",
       "1  [{'date': '2001-12-16', 'customer': 'A11NCO6YT...  \n",
       "2  [{'date': '2003-7-10', 'customer': 'A3IDGASRQA...  \n",
       "3  [{'date': '2004-8-19', 'customer': 'A2591BUPXC...  \n",
       "4                                                 []  "
      ]
     },
     "execution_count": 6,
     "metadata": {},
     "output_type": "execute_result"
    }
   ],
   "source": [
    "df = pd.DataFrame(data=collection[2:])\n",
    "df.head()"
   ]
  },
  {
   "cell_type": "markdown",
   "metadata": {},
   "source": [
    "We can see that columns 'similar', 'catlists' and 'reviews' need to be exploded and cleaned:"
   ]
  },
  {
   "cell_type": "code",
   "execution_count": 7,
   "metadata": {},
   "outputs": [
    {
     "data": {
      "text/plain": [
       "13"
      ]
     },
     "execution_count": 7,
     "metadata": {},
     "output_type": "execute_result"
    }
   ],
   "source": [
    "pd.DataFrame(df.catlists.explode())[\"catlists\"].apply(lambda x: len(str(x).split(\",\"))).max()"
   ]
  },
  {
   "cell_type": "markdown",
   "metadata": {},
   "source": [
    "### **Transform the data**"
   ]
  },
  {
   "cell_type": "markdown",
   "metadata": {},
   "source": [
    "#### Table **df_main**:"
   ]
  },
  {
   "cell_type": "code",
   "execution_count": 8,
   "metadata": {},
   "outputs": [
    {
     "data": {
      "text/html": [
       "<div>\n",
       "<style scoped>\n",
       "    .dataframe tbody tr th:only-of-type {\n",
       "        vertical-align: middle;\n",
       "    }\n",
       "\n",
       "    .dataframe tbody tr th {\n",
       "        vertical-align: top;\n",
       "    }\n",
       "\n",
       "    .dataframe thead th {\n",
       "        text-align: right;\n",
       "    }\n",
       "</style>\n",
       "<table border=\"1\" class=\"dataframe\">\n",
       "  <thead>\n",
       "    <tr style=\"text-align: right;\">\n",
       "      <th></th>\n",
       "      <th>Id</th>\n",
       "      <th>ASIN</th>\n",
       "      <th>Title</th>\n",
       "      <th>Group</th>\n",
       "      <th>Salesrank</th>\n",
       "      <th>NbrOfSimilar</th>\n",
       "      <th>NbrOfCategories</th>\n",
       "      <th>TotalReviews</th>\n",
       "      <th>Downloaded</th>\n",
       "      <th>AvgRating</th>\n",
       "    </tr>\n",
       "  </thead>\n",
       "  <tbody>\n",
       "    <tr>\n",
       "      <th>0</th>\n",
       "      <td>1</td>\n",
       "      <td>0827229534</td>\n",
       "      <td>Patterns of Preaching: A Sermon Sampler</td>\n",
       "      <td>Book</td>\n",
       "      <td>396585</td>\n",
       "      <td>5</td>\n",
       "      <td>2</td>\n",
       "      <td>2</td>\n",
       "      <td>2</td>\n",
       "      <td>5.0</td>\n",
       "    </tr>\n",
       "    <tr>\n",
       "      <th>1</th>\n",
       "      <td>2</td>\n",
       "      <td>0738700797</td>\n",
       "      <td>Candlemas: Feast of Flames</td>\n",
       "      <td>Book</td>\n",
       "      <td>168596</td>\n",
       "      <td>5</td>\n",
       "      <td>2</td>\n",
       "      <td>12</td>\n",
       "      <td>12</td>\n",
       "      <td>4.5</td>\n",
       "    </tr>\n",
       "    <tr>\n",
       "      <th>2</th>\n",
       "      <td>3</td>\n",
       "      <td>0486287785</td>\n",
       "      <td>World War II Allied Fighter Planes Trading Cards</td>\n",
       "      <td>Book</td>\n",
       "      <td>1270652</td>\n",
       "      <td>0</td>\n",
       "      <td>1</td>\n",
       "      <td>1</td>\n",
       "      <td>1</td>\n",
       "      <td>5.0</td>\n",
       "    </tr>\n",
       "    <tr>\n",
       "      <th>3</th>\n",
       "      <td>4</td>\n",
       "      <td>0842328327</td>\n",
       "      <td>Life Application Bible Commentary: 1 and 2 Tim...</td>\n",
       "      <td>Book</td>\n",
       "      <td>631289</td>\n",
       "      <td>5</td>\n",
       "      <td>5</td>\n",
       "      <td>1</td>\n",
       "      <td>1</td>\n",
       "      <td>4.0</td>\n",
       "    </tr>\n",
       "    <tr>\n",
       "      <th>4</th>\n",
       "      <td>5</td>\n",
       "      <td>1577943082</td>\n",
       "      <td>Prayers That Avail Much for Business: Executive</td>\n",
       "      <td>Book</td>\n",
       "      <td>455160</td>\n",
       "      <td>5</td>\n",
       "      <td>2</td>\n",
       "      <td>0</td>\n",
       "      <td>0</td>\n",
       "      <td>0.0</td>\n",
       "    </tr>\n",
       "  </tbody>\n",
       "</table>\n",
       "</div>"
      ],
      "text/plain": [
       "   Id        ASIN                                              Title Group  \\\n",
       "0   1  0827229534            Patterns of Preaching: A Sermon Sampler  Book   \n",
       "1   2  0738700797                         Candlemas: Feast of Flames  Book   \n",
       "2   3  0486287785   World War II Allied Fighter Planes Trading Cards  Book   \n",
       "3   4  0842328327  Life Application Bible Commentary: 1 and 2 Tim...  Book   \n",
       "4   5  1577943082    Prayers That Avail Much for Business: Executive  Book   \n",
       "\n",
       "   Salesrank  NbrOfSimilar  NbrOfCategories  TotalReviews  Downloaded  \\\n",
       "0     396585             5                2             2           2   \n",
       "1     168596             5                2            12          12   \n",
       "2    1270652             0                1             1           1   \n",
       "3     631289             5                5             1           1   \n",
       "4     455160             5                2             0           0   \n",
       "\n",
       "   AvgRating  \n",
       "0        5.0  \n",
       "1        4.5  \n",
       "2        5.0  \n",
       "3        4.0  \n",
       "4        0.0  "
      ]
     },
     "execution_count": 8,
     "metadata": {},
     "output_type": "execute_result"
    }
   ],
   "source": [
    "normrev = pd.json_normalize(df['reviews']) # 'total', 'downloaded' and 'avg rating' are first level data \n",
    "df_main = df[['Id','ASIN','title','group','salesrank','no_sim','categories']]\n",
    "df_main = df_main.join(normrev)\n",
    "df_main[\"salesrank\"] = df_main[\"salesrank\"].fillna(0).replace(\"\",0)\n",
    "df_main[\"no_sim\"] = df_main[\"no_sim\"].fillna(0).replace(\"\",0)\n",
    "df_main[\"categories\"] = df_main[\"categories\"].fillna(0).replace(\"\",0)\n",
    "df_main[\"total\"] = df_main[\"total\"].fillna(0)\n",
    "df_main[\"downloaded\"] = df_main[\"downloaded\"].fillna(0)\n",
    "df_main[\"salesrank\"] = df_main[\"salesrank\"].astype(int)\n",
    "df_main[\"no_sim\"] = df_main[\"no_sim\"].astype(int)\n",
    "df_main[\"categories\"] = df_main[\"categories\"].astype(int)\n",
    "df_main['total'] = df_main['total'].astype(int)\n",
    "df_main['downloaded'] = df_main['downloaded'].astype(int)\n",
    "df_main.columns = [\"Id\",\"ASIN\",\"Title\",\"Group\",\"Salesrank\",\"NbrOfSimilar\",\"NbrOfCategories\",\"TotalReviews\",\"Downloaded\",\"AvgRating\"]\n",
    "df_main.head()"
   ]
  },
  {
   "cell_type": "code",
   "execution_count": 9,
   "metadata": {},
   "outputs": [],
   "source": [
    "df_main.to_csv('data/main.csv',index=False)"
   ]
  },
  {
   "cell_type": "markdown",
   "metadata": {},
   "source": [
    "#### Table **df_reviews**:"
   ]
  },
  {
   "cell_type": "code",
   "execution_count": 10,
   "metadata": {},
   "outputs": [
    {
     "data": {
      "text/html": [
       "<div>\n",
       "<style scoped>\n",
       "    .dataframe tbody tr th:only-of-type {\n",
       "        vertical-align: middle;\n",
       "    }\n",
       "\n",
       "    .dataframe tbody tr th {\n",
       "        vertical-align: top;\n",
       "    }\n",
       "\n",
       "    .dataframe thead th {\n",
       "        text-align: right;\n",
       "    }\n",
       "</style>\n",
       "<table border=\"1\" class=\"dataframe\">\n",
       "  <thead>\n",
       "    <tr style=\"text-align: right;\">\n",
       "      <th></th>\n",
       "      <th>Id</th>\n",
       "      <th>ASIN</th>\n",
       "      <th>Date</th>\n",
       "      <th>Customer</th>\n",
       "      <th>Rating</th>\n",
       "      <th>Votes</th>\n",
       "      <th>Helpful</th>\n",
       "    </tr>\n",
       "  </thead>\n",
       "  <tbody>\n",
       "    <tr>\n",
       "      <th>0</th>\n",
       "      <td>1</td>\n",
       "      <td>0827229534</td>\n",
       "      <td>2000-07-28</td>\n",
       "      <td>A2JW67OY8U6HHK</td>\n",
       "      <td>5.0</td>\n",
       "      <td>10</td>\n",
       "      <td>9</td>\n",
       "    </tr>\n",
       "    <tr>\n",
       "      <th>0</th>\n",
       "      <td>1</td>\n",
       "      <td>0827229534</td>\n",
       "      <td>2000-07-28</td>\n",
       "      <td>A2JW67OY8U6HHK</td>\n",
       "      <td>5.0</td>\n",
       "      <td>10</td>\n",
       "      <td>9</td>\n",
       "    </tr>\n",
       "    <tr>\n",
       "      <th>1</th>\n",
       "      <td>2</td>\n",
       "      <td>0738700797</td>\n",
       "      <td>2003-12-14</td>\n",
       "      <td>A2VE83MZF98ITY</td>\n",
       "      <td>5.0</td>\n",
       "      <td>6</td>\n",
       "      <td>5</td>\n",
       "    </tr>\n",
       "    <tr>\n",
       "      <th>1</th>\n",
       "      <td>2</td>\n",
       "      <td>0738700797</td>\n",
       "      <td>2003-12-14</td>\n",
       "      <td>A2VE83MZF98ITY</td>\n",
       "      <td>5.0</td>\n",
       "      <td>6</td>\n",
       "      <td>5</td>\n",
       "    </tr>\n",
       "    <tr>\n",
       "      <th>1</th>\n",
       "      <td>2</td>\n",
       "      <td>0738700797</td>\n",
       "      <td>2003-12-14</td>\n",
       "      <td>A2VE83MZF98ITY</td>\n",
       "      <td>5.0</td>\n",
       "      <td>6</td>\n",
       "      <td>5</td>\n",
       "    </tr>\n",
       "  </tbody>\n",
       "</table>\n",
       "</div>"
      ],
      "text/plain": [
       "   Id        ASIN       Date        Customer  Rating  Votes  Helpful\n",
       "0   1  0827229534 2000-07-28  A2JW67OY8U6HHK     5.0     10        9\n",
       "0   1  0827229534 2000-07-28  A2JW67OY8U6HHK     5.0     10        9\n",
       "1   2  0738700797 2003-12-14  A2VE83MZF98ITY     5.0      6        5\n",
       "1   2  0738700797 2003-12-14  A2VE83MZF98ITY     5.0      6        5\n",
       "1   2  0738700797 2003-12-14  A2VE83MZF98ITY     5.0      6        5"
      ]
     },
     "execution_count": 10,
     "metadata": {},
     "output_type": "execute_result"
    }
   ],
   "source": [
    "df_reviews = df[['Id','ASIN','revdicts']]\n",
    "rev_explode = pd.DataFrame(df_reviews.apply(lambda row: row['revdicts'],axis=1).explode(),columns=[\"reviews\"])\n",
    "df_reviews = df_reviews.join(rev_explode)\n",
    "df_rev = df_reviews.join(pd.json_normalize(df_reviews[\"reviews\"]))\n",
    "df_rev = df_rev[['Id','ASIN','date','customer','rating','votes','helpful']]\n",
    "df_rev[\"votes\"] = df_rev[\"votes\"].fillna(0)\n",
    "df_rev[\"helpful\"] = df_rev[\"helpful\"].fillna(0)\n",
    "df_rev[\"votes\"] = df_rev[\"votes\"].astype(int)\n",
    "df_rev[\"helpful\"] = df_rev[\"helpful\"].astype(int)\n",
    "df_rev['date'] = pd.to_datetime(df_rev['date'], infer_datetime_format=True)\n",
    "df_rev.columns = [\"Id\",\"ASIN\",\"Date\",\"Customer\",\"Rating\",\"Votes\",\"Helpful\"]\n",
    "df_rev.head()"
   ]
  },
  {
   "cell_type": "code",
   "execution_count": 11,
   "metadata": {},
   "outputs": [],
   "source": [
    "df_rev.to_csv('data/reviews.csv',index=False)"
   ]
  },
  {
   "cell_type": "markdown",
   "metadata": {},
   "source": [
    "#### Table **df_categories**:"
   ]
  },
  {
   "cell_type": "code",
   "execution_count": 12,
   "metadata": {},
   "outputs": [
    {
     "data": {
      "text/html": [
       "<div>\n",
       "<style scoped>\n",
       "    .dataframe tbody tr th:only-of-type {\n",
       "        vertical-align: middle;\n",
       "    }\n",
       "\n",
       "    .dataframe tbody tr th {\n",
       "        vertical-align: top;\n",
       "    }\n",
       "\n",
       "    .dataframe thead th {\n",
       "        text-align: right;\n",
       "    }\n",
       "</style>\n",
       "<table border=\"1\" class=\"dataframe\">\n",
       "  <thead>\n",
       "    <tr style=\"text-align: right;\">\n",
       "      <th></th>\n",
       "      <th>Id</th>\n",
       "      <th>ASIN</th>\n",
       "      <th>L1</th>\n",
       "      <th>L2</th>\n",
       "      <th>L3</th>\n",
       "      <th>L4</th>\n",
       "    </tr>\n",
       "  </thead>\n",
       "  <tbody>\n",
       "    <tr>\n",
       "      <th>0</th>\n",
       "      <td>1</td>\n",
       "      <td>0827229534</td>\n",
       "      <td>Books[283155]</td>\n",
       "      <td>Subjects[1000]</td>\n",
       "      <td>Religion &amp; Spirituality[22]</td>\n",
       "      <td>Christianity[12290]</td>\n",
       "    </tr>\n",
       "    <tr>\n",
       "      <th>0</th>\n",
       "      <td>1</td>\n",
       "      <td>0827229534</td>\n",
       "      <td>Books[283155]</td>\n",
       "      <td>Subjects[1000]</td>\n",
       "      <td>Religion &amp; Spirituality[22]</td>\n",
       "      <td>Christianity[12290]</td>\n",
       "    </tr>\n",
       "    <tr>\n",
       "      <th>1</th>\n",
       "      <td>2</td>\n",
       "      <td>0738700797</td>\n",
       "      <td>Books[283155]</td>\n",
       "      <td>Subjects[1000]</td>\n",
       "      <td>Religion &amp; Spirituality[22]</td>\n",
       "      <td>Earth-Based Religions[12472]</td>\n",
       "    </tr>\n",
       "    <tr>\n",
       "      <th>1</th>\n",
       "      <td>2</td>\n",
       "      <td>0738700797</td>\n",
       "      <td>Books[283155]</td>\n",
       "      <td>Subjects[1000]</td>\n",
       "      <td>Religion &amp; Spirituality[22]</td>\n",
       "      <td>Earth-Based Religions[12472]</td>\n",
       "    </tr>\n",
       "    <tr>\n",
       "      <th>2</th>\n",
       "      <td>3</td>\n",
       "      <td>0486287785</td>\n",
       "      <td>Books[283155]</td>\n",
       "      <td>Subjects[1000]</td>\n",
       "      <td>Home &amp; Garden[48]</td>\n",
       "      <td>Crafts &amp; Hobbies[5126]</td>\n",
       "    </tr>\n",
       "  </tbody>\n",
       "</table>\n",
       "</div>"
      ],
      "text/plain": [
       "   Id        ASIN             L1               L2  \\\n",
       "0   1  0827229534  Books[283155]   Subjects[1000]   \n",
       "0   1  0827229534  Books[283155]   Subjects[1000]   \n",
       "1   2  0738700797  Books[283155]   Subjects[1000]   \n",
       "1   2  0738700797  Books[283155]   Subjects[1000]   \n",
       "2   3  0486287785  Books[283155]   Subjects[1000]   \n",
       "\n",
       "                             L3                             L4  \n",
       "0   Religion & Spirituality[22]            Christianity[12290]  \n",
       "0   Religion & Spirituality[22]            Christianity[12290]  \n",
       "1   Religion & Spirituality[22]   Earth-Based Religions[12472]  \n",
       "1   Religion & Spirituality[22]   Earth-Based Religions[12472]  \n",
       "2             Home & Garden[48]         Crafts & Hobbies[5126]  "
      ]
     },
     "execution_count": 12,
     "metadata": {},
     "output_type": "execute_result"
    }
   ],
   "source": [
    "df_categories = df[['Id','ASIN','catlists']]\n",
    "df_cat = pd.DataFrame(df_categories.apply(lambda row: row[\"catlists\"],axis=1).explode(),columns=[\"levels\"])\n",
    "df_cat[\"levels2\"] = df_cat.apply(lambda row: str(row[\"levels\"])[1:-1],axis=1)\n",
    "df_cat[\"L1\"] = df_cat.apply(lambda row: row[\"levels2\"].split(\",\")[0].replace(\"'\",\"\") if len(row[\"levels2\"].split(\",\"))>0 else \"\",axis=1)\n",
    "df_cat[\"L2\"] = df_cat.apply(lambda row: row[\"levels2\"].split(\",\")[1].replace(\"'\",\"\") if len(row[\"levels2\"].split(\",\"))>1 else \"\",axis=1)\n",
    "df_cat[\"L3\"] = df_cat.apply(lambda row: row[\"levels2\"].split(\",\")[2].replace(\"'\",\"\") if len(row[\"levels2\"].split(\",\"))>2 else \"\",axis=1)\n",
    "df_cat[\"L4\"] = df_cat.apply(lambda row: row[\"levels2\"].split(\",\")[3].replace(\"'\",\"\") if len(row[\"levels2\"].split(\",\"))>3 else \"\",axis=1)\n",
    "# for i in range(13):\n",
    "#     df_cat[f\"L{i+1}\"] = df_cat.apply(lambda row: row[\"levels2\"].split(\",\")[i].replace(\"'\",\"\") if len(row[\"levels2\"].split(\",\"))>i else np.nan,axis=1)\n",
    "df_cat.drop([\"levels\",\"levels2\"],axis=1,inplace=True)\n",
    "df_cat = df_categories.join(df_cat)\n",
    "# df_cat.drop(\"catlists\",axis=1,inplace=True)\n",
    "df_cat = df_cat[['Id','ASIN','L1','L2','L3','L4']]\n",
    "df_cat.head()"
   ]
  },
  {
   "cell_type": "code",
   "execution_count": null,
   "metadata": {},
   "outputs": [],
   "source": [
    "df_cat = df_cat[df_cat.L1!=\"a\"]\n",
    "Category = df_cat.apply(\n",
    "    lambda row: str(row[\"L1\"])+str(row[\"L2\"])+str(row[\"L3\"])+str(row[\"L4\"]),axis=1)\n",
    "\n",
    "enc = LabelEncoder()\n",
    "\n",
    "CatId = pd.DataFrame(enc.fit_transform(Category),columns=[\"CatId\"],index=df_cat.index)\n",
    "\n",
    "df_cat = pd.concat([df_cat,CatId],axis=1)"
   ]
  },
  {
   "cell_type": "code",
   "execution_count": 13,
   "metadata": {},
   "outputs": [],
   "source": [
    "df_cat.to_csv('data/categories.csv',index=False)"
   ]
  },
  {
   "cell_type": "markdown",
   "metadata": {},
   "source": [
    "#### Table **df_similar**:"
   ]
  },
  {
   "cell_type": "code",
   "execution_count": 14,
   "metadata": {},
   "outputs": [
    {
     "data": {
      "text/html": [
       "<div>\n",
       "<style scoped>\n",
       "    .dataframe tbody tr th:only-of-type {\n",
       "        vertical-align: middle;\n",
       "    }\n",
       "\n",
       "    .dataframe tbody tr th {\n",
       "        vertical-align: top;\n",
       "    }\n",
       "\n",
       "    .dataframe thead th {\n",
       "        text-align: right;\n",
       "    }\n",
       "</style>\n",
       "<table border=\"1\" class=\"dataframe\">\n",
       "  <thead>\n",
       "    <tr style=\"text-align: right;\">\n",
       "      <th></th>\n",
       "      <th>Id</th>\n",
       "      <th>ASIN</th>\n",
       "      <th>Similar</th>\n",
       "    </tr>\n",
       "  </thead>\n",
       "  <tbody>\n",
       "    <tr>\n",
       "      <th>0</th>\n",
       "      <td>1</td>\n",
       "      <td>0827229534</td>\n",
       "      <td>0804215715</td>\n",
       "    </tr>\n",
       "    <tr>\n",
       "      <th>0</th>\n",
       "      <td>1</td>\n",
       "      <td>0827229534</td>\n",
       "      <td>156101074X</td>\n",
       "    </tr>\n",
       "    <tr>\n",
       "      <th>0</th>\n",
       "      <td>1</td>\n",
       "      <td>0827229534</td>\n",
       "      <td>0687023955</td>\n",
       "    </tr>\n",
       "    <tr>\n",
       "      <th>0</th>\n",
       "      <td>1</td>\n",
       "      <td>0827229534</td>\n",
       "      <td>0687074231</td>\n",
       "    </tr>\n",
       "    <tr>\n",
       "      <th>0</th>\n",
       "      <td>1</td>\n",
       "      <td>0827229534</td>\n",
       "      <td>082721619X</td>\n",
       "    </tr>\n",
       "  </tbody>\n",
       "</table>\n",
       "</div>"
      ],
      "text/plain": [
       "   Id        ASIN      Similar\n",
       "0   1  0827229534   0804215715\n",
       "0   1  0827229534   156101074X\n",
       "0   1  0827229534   0687023955\n",
       "0   1  0827229534   0687074231\n",
       "0   1  0827229534   082721619X"
      ]
     },
     "execution_count": 14,
     "metadata": {},
     "output_type": "execute_result"
    }
   ],
   "source": [
    "df_similar = df[['Id','ASIN','similar']]\n",
    "sim_explode = df_similar.apply(lambda row:\n",
    "    str(row['similar']).replace(\"[\",\"\").replace(\"]\",\"\").split(\",\"), axis=1).explode()\n",
    "df_sim = df_similar.join(pd.DataFrame(sim_explode,columns=['Similar']))\n",
    "df_sim.drop(\"similar\",axis=1,inplace=True)\n",
    "df_sim['Similar'] = df_sim['Similar'].apply(lambda x: str(x).replace(\"'\",\"\"))\n",
    "df_sim.head()"
   ]
  },
  {
   "cell_type": "code",
   "execution_count": 15,
   "metadata": {},
   "outputs": [],
   "source": [
    "df_sim.to_csv('data/similars.csv',index=False)"
   ]
  },
  {
   "cell_type": "markdown",
   "metadata": {},
   "source": [
    "### **Analyse the data**"
   ]
  },
  {
   "cell_type": "markdown",
   "metadata": {},
   "source": [
    "When starting from this section, load the data to DataFrames:"
   ]
  },
  {
   "cell_type": "code",
   "execution_count": 16,
   "metadata": {},
   "outputs": [],
   "source": [
    "# df_main = pd.read_csv('data/main.csv')\n",
    "# df_cat = pd.read_csv('data/categories.csv')\n",
    "# df_sim = pd.read_csv('data/similars.csv')\n",
    "# df_rev = pd.read_csv('data/reviews.csv')"
   ]
  },
  {
   "cell_type": "markdown",
   "metadata": {},
   "source": [
    "#### **df_main**:"
   ]
  },
  {
   "cell_type": "code",
   "execution_count": 17,
   "metadata": {},
   "outputs": [
    {
     "data": {
      "text/html": [
       "<div>\n",
       "<style scoped>\n",
       "    .dataframe tbody tr th:only-of-type {\n",
       "        vertical-align: middle;\n",
       "    }\n",
       "\n",
       "    .dataframe tbody tr th {\n",
       "        vertical-align: top;\n",
       "    }\n",
       "\n",
       "    .dataframe thead th {\n",
       "        text-align: right;\n",
       "    }\n",
       "</style>\n",
       "<table border=\"1\" class=\"dataframe\">\n",
       "  <thead>\n",
       "    <tr style=\"text-align: right;\">\n",
       "      <th></th>\n",
       "      <th>Id</th>\n",
       "      <th>ASIN</th>\n",
       "      <th>Title</th>\n",
       "      <th>Group</th>\n",
       "      <th>Salesrank</th>\n",
       "      <th>NbrOfSimilar</th>\n",
       "      <th>NbrOfCategories</th>\n",
       "      <th>TotalReviews</th>\n",
       "      <th>Downloaded</th>\n",
       "      <th>AvgRating</th>\n",
       "    </tr>\n",
       "  </thead>\n",
       "  <tbody>\n",
       "    <tr>\n",
       "      <th>0</th>\n",
       "      <td>1</td>\n",
       "      <td>0827229534</td>\n",
       "      <td>Patterns of Preaching: A Sermon Sampler</td>\n",
       "      <td>Book</td>\n",
       "      <td>396585</td>\n",
       "      <td>5</td>\n",
       "      <td>2</td>\n",
       "      <td>2</td>\n",
       "      <td>2</td>\n",
       "      <td>5.0</td>\n",
       "    </tr>\n",
       "    <tr>\n",
       "      <th>1</th>\n",
       "      <td>2</td>\n",
       "      <td>0738700797</td>\n",
       "      <td>Candlemas: Feast of Flames</td>\n",
       "      <td>Book</td>\n",
       "      <td>168596</td>\n",
       "      <td>5</td>\n",
       "      <td>2</td>\n",
       "      <td>12</td>\n",
       "      <td>12</td>\n",
       "      <td>4.5</td>\n",
       "    </tr>\n",
       "    <tr>\n",
       "      <th>2</th>\n",
       "      <td>3</td>\n",
       "      <td>0486287785</td>\n",
       "      <td>World War II Allied Fighter Planes Trading Cards</td>\n",
       "      <td>Book</td>\n",
       "      <td>1270652</td>\n",
       "      <td>0</td>\n",
       "      <td>1</td>\n",
       "      <td>1</td>\n",
       "      <td>1</td>\n",
       "      <td>5.0</td>\n",
       "    </tr>\n",
       "    <tr>\n",
       "      <th>3</th>\n",
       "      <td>4</td>\n",
       "      <td>0842328327</td>\n",
       "      <td>Life Application Bible Commentary: 1 and 2 Tim...</td>\n",
       "      <td>Book</td>\n",
       "      <td>631289</td>\n",
       "      <td>5</td>\n",
       "      <td>5</td>\n",
       "      <td>1</td>\n",
       "      <td>1</td>\n",
       "      <td>4.0</td>\n",
       "    </tr>\n",
       "    <tr>\n",
       "      <th>4</th>\n",
       "      <td>5</td>\n",
       "      <td>1577943082</td>\n",
       "      <td>Prayers That Avail Much for Business: Executive</td>\n",
       "      <td>Book</td>\n",
       "      <td>455160</td>\n",
       "      <td>5</td>\n",
       "      <td>2</td>\n",
       "      <td>0</td>\n",
       "      <td>0</td>\n",
       "      <td>0.0</td>\n",
       "    </tr>\n",
       "  </tbody>\n",
       "</table>\n",
       "</div>"
      ],
      "text/plain": [
       "   Id        ASIN                                              Title Group  \\\n",
       "0   1  0827229534            Patterns of Preaching: A Sermon Sampler  Book   \n",
       "1   2  0738700797                         Candlemas: Feast of Flames  Book   \n",
       "2   3  0486287785   World War II Allied Fighter Planes Trading Cards  Book   \n",
       "3   4  0842328327  Life Application Bible Commentary: 1 and 2 Tim...  Book   \n",
       "4   5  1577943082    Prayers That Avail Much for Business: Executive  Book   \n",
       "\n",
       "   Salesrank  NbrOfSimilar  NbrOfCategories  TotalReviews  Downloaded  \\\n",
       "0     396585             5                2             2           2   \n",
       "1     168596             5                2            12          12   \n",
       "2    1270652             0                1             1           1   \n",
       "3     631289             5                5             1           1   \n",
       "4     455160             5                2             0           0   \n",
       "\n",
       "   AvgRating  \n",
       "0        5.0  \n",
       "1        4.5  \n",
       "2        5.0  \n",
       "3        4.0  \n",
       "4        0.0  "
      ]
     },
     "execution_count": 17,
     "metadata": {},
     "output_type": "execute_result"
    }
   ],
   "source": [
    "df_main.head()"
   ]
  },
  {
   "cell_type": "code",
   "execution_count": 18,
   "metadata": {},
   "outputs": [
    {
     "data": {
      "text/plain": [
       "Id                   int64\n",
       "ASIN                object\n",
       "Title               object\n",
       "Group               object\n",
       "Salesrank            int64\n",
       "NbrOfSimilar         int64\n",
       "NbrOfCategories      int64\n",
       "TotalReviews         int64\n",
       "Downloaded           int64\n",
       "AvgRating          float64\n",
       "dtype: object"
      ]
     },
     "execution_count": 18,
     "metadata": {},
     "output_type": "execute_result"
    }
   ],
   "source": [
    "df_main.dtypes"
   ]
  },
  {
   "cell_type": "code",
   "execution_count": 19,
   "metadata": {},
   "outputs": [
    {
     "data": {
      "text/plain": [
       "Group\n",
       "                  5867\n",
       "Baby Product         1\n",
       "Book            393561\n",
       "CE                   4\n",
       "DVD              19828\n",
       "Music           103144\n",
       "Software             5\n",
       "Sports               1\n",
       "Toy                  8\n",
       "Video            26131\n",
       "Video Games          1\n",
       "Name: Id, dtype: int64"
      ]
     },
     "execution_count": 19,
     "metadata": {},
     "output_type": "execute_result"
    }
   ],
   "source": [
    "df_main.groupby(\"Group\")['Id'].count()"
   ]
  },
  {
   "cell_type": "code",
   "execution_count": 20,
   "metadata": {},
   "outputs": [
    {
     "data": {
      "image/png": "[encoded data removed]",
      "text/plain": [
       "<Figure size 432x288 with 1 Axes>"
      ]
     },
     "metadata": {
      "needs_background": "light"
     },
     "output_type": "display_data"
    }
   ],
   "source": [
    "df_main.NbrOfSimilar.value_counts().plot(kind=\"bar\")\n",
    "plt.show()"
   ]
  },
  {
   "cell_type": "code",
   "execution_count": 21,
   "metadata": {},
   "outputs": [
    {
     "data": {
      "image/png": "[encoded data removed]",
      "text/plain": [
       "<Figure size 432x288 with 1 Axes>"
      ]
     },
     "metadata": {
      "needs_background": "light"
     },
     "output_type": "display_data"
    }
   ],
   "source": [
    "df_main[\"NbrOfCategories\"].hist(bins=120)\n",
    "plt.show()"
   ]
  },
  {
   "cell_type": "code",
   "execution_count": 22,
   "metadata": {},
   "outputs": [
    {
     "data": {
      "text/html": [
       "<div>\n",
       "<style scoped>\n",
       "    .dataframe tbody tr th:only-of-type {\n",
       "        vertical-align: middle;\n",
       "    }\n",
       "\n",
       "    .dataframe tbody tr th {\n",
       "        vertical-align: top;\n",
       "    }\n",
       "\n",
       "    .dataframe thead th {\n",
       "        text-align: right;\n",
       "    }\n",
       "</style>\n",
       "<table border=\"1\" class=\"dataframe\">\n",
       "  <thead>\n",
       "    <tr style=\"text-align: right;\">\n",
       "      <th></th>\n",
       "      <th>Id</th>\n",
       "      <th>Salesrank</th>\n",
       "      <th>NbrOfSimilar</th>\n",
       "      <th>NbrOfCategories</th>\n",
       "      <th>TotalReviews</th>\n",
       "      <th>Downloaded</th>\n",
       "      <th>AvgRating</th>\n",
       "    </tr>\n",
       "  </thead>\n",
       "  <tbody>\n",
       "    <tr>\n",
       "      <th>count</th>\n",
       "      <td>548551.000000</td>\n",
       "      <td>5.485510e+05</td>\n",
       "      <td>548551.000000</td>\n",
       "      <td>548551.000000</td>\n",
       "      <td>548551.000000</td>\n",
       "      <td>548551.000000</td>\n",
       "      <td>542684.000000</td>\n",
       "    </tr>\n",
       "    <tr>\n",
       "      <th>mean</th>\n",
       "      <td>274276.000000</td>\n",
       "      <td>4.840907e+05</td>\n",
       "      <td>3.260818</td>\n",
       "      <td>4.575143</td>\n",
       "      <td>14.186448</td>\n",
       "      <td>13.842367</td>\n",
       "      <td>3.209534</td>\n",
       "    </tr>\n",
       "    <tr>\n",
       "      <th>std</th>\n",
       "      <td>158353.178094</td>\n",
       "      <td>5.669177e+05</td>\n",
       "      <td>2.300150</td>\n",
       "      <td>4.452269</td>\n",
       "      <td>74.382080</td>\n",
       "      <td>71.537312</td>\n",
       "      <td>1.996296</td>\n",
       "    </tr>\n",
       "    <tr>\n",
       "      <th>min</th>\n",
       "      <td>1.000000</td>\n",
       "      <td>-1.000000e+00</td>\n",
       "      <td>0.000000</td>\n",
       "      <td>0.000000</td>\n",
       "      <td>0.000000</td>\n",
       "      <td>0.000000</td>\n",
       "      <td>0.000000</td>\n",
       "    </tr>\n",
       "    <tr>\n",
       "      <th>25%</th>\n",
       "      <td>137138.500000</td>\n",
       "      <td>8.573300e+04</td>\n",
       "      <td>0.000000</td>\n",
       "      <td>2.000000</td>\n",
       "      <td>0.000000</td>\n",
       "      <td>0.000000</td>\n",
       "      <td>0.000000</td>\n",
       "    </tr>\n",
       "    <tr>\n",
       "      <th>50%</th>\n",
       "      <td>274276.000000</td>\n",
       "      <td>2.942890e+05</td>\n",
       "      <td>5.000000</td>\n",
       "      <td>3.000000</td>\n",
       "      <td>2.000000</td>\n",
       "      <td>2.000000</td>\n",
       "      <td>4.000000</td>\n",
       "    </tr>\n",
       "    <tr>\n",
       "      <th>75%</th>\n",
       "      <td>411413.500000</td>\n",
       "      <td>6.659595e+05</td>\n",
       "      <td>5.000000</td>\n",
       "      <td>6.000000</td>\n",
       "      <td>8.000000</td>\n",
       "      <td>7.000000</td>\n",
       "      <td>5.000000</td>\n",
       "    </tr>\n",
       "    <tr>\n",
       "      <th>max</th>\n",
       "      <td>548551.000000</td>\n",
       "      <td>3.798351e+06</td>\n",
       "      <td>5.000000</td>\n",
       "      <td>116.000000</td>\n",
       "      <td>5545.000000</td>\n",
       "      <td>4995.000000</td>\n",
       "      <td>5.000000</td>\n",
       "    </tr>\n",
       "  </tbody>\n",
       "</table>\n",
       "</div>"
      ],
      "text/plain": [
       "                  Id     Salesrank   NbrOfSimilar  NbrOfCategories  \\\n",
       "count  548551.000000  5.485510e+05  548551.000000    548551.000000   \n",
       "mean   274276.000000  4.840907e+05       3.260818         4.575143   \n",
       "std    158353.178094  5.669177e+05       2.300150         4.452269   \n",
       "min         1.000000 -1.000000e+00       0.000000         0.000000   \n",
       "25%    137138.500000  8.573300e+04       0.000000         2.000000   \n",
       "50%    274276.000000  2.942890e+05       5.000000         3.000000   \n",
       "75%    411413.500000  6.659595e+05       5.000000         6.000000   \n",
       "max    548551.000000  3.798351e+06       5.000000       116.000000   \n",
       "\n",
       "        TotalReviews     Downloaded      AvgRating  \n",
       "count  548551.000000  548551.000000  542684.000000  \n",
       "mean       14.186448      13.842367       3.209534  \n",
       "std        74.382080      71.537312       1.996296  \n",
       "min         0.000000       0.000000       0.000000  \n",
       "25%         0.000000       0.000000       0.000000  \n",
       "50%         2.000000       2.000000       4.000000  \n",
       "75%         8.000000       7.000000       5.000000  \n",
       "max      5545.000000    4995.000000       5.000000  "
      ]
     },
     "execution_count": 22,
     "metadata": {},
     "output_type": "execute_result"
    }
   ],
   "source": [
    "df_main.describe()"
   ]
  },
  {
   "cell_type": "markdown",
   "metadata": {},
   "source": [
    "#### for graph:"
   ]
  },
  {
   "cell_type": "markdown",
   "metadata": {},
   "source": [
    "Based on what we have seen:\n",
    "- We keep only Books, Music, DVD and Videos\n",
    "\n",
    "We make analysis again:"
   ]
  },
  {
   "cell_type": "code",
   "execution_count": 23,
   "metadata": {},
   "outputs": [
    {
     "data": {
      "text/plain": [
       "array(['Book', 'Music', 'DVD', 'Video', '', 'Toy', 'Video Games',\n",
       "       'Software', 'Baby Product', 'CE', 'Sports'], dtype=object)"
      ]
     },
     "execution_count": 23,
     "metadata": {},
     "output_type": "execute_result"
    }
   ],
   "source": [
    "df_main.Group.unique()"
   ]
  },
  {
   "cell_type": "code",
   "execution_count": 24,
   "metadata": {},
   "outputs": [
    {
     "data": {
      "text/plain": [
       "(542664, 10)"
      ]
     },
     "execution_count": 24,
     "metadata": {},
     "output_type": "execute_result"
    }
   ],
   "source": [
    "data = df_main[df_main.Group.isin([\"Book\",\"Music\",\"DVD\",\"Video\"])]\n",
    "data.shape"
   ]
  },
  {
   "cell_type": "code",
   "execution_count": 25,
   "metadata": {},
   "outputs": [],
   "source": [
    "data.to_csv(\"data/nodes.csv\",index=False)"
   ]
  },
  {
   "cell_type": "markdown",
   "metadata": {},
   "source": [
    "#### **df_cat**:"
   ]
  },
  {
   "cell_type": "code",
   "execution_count": 26,
   "metadata": {},
   "outputs": [
    {
     "data": {
      "text/html": [
       "<div>\n",
       "<style scoped>\n",
       "    .dataframe tbody tr th:only-of-type {\n",
       "        vertical-align: middle;\n",
       "    }\n",
       "\n",
       "    .dataframe tbody tr th {\n",
       "        vertical-align: top;\n",
       "    }\n",
       "\n",
       "    .dataframe thead th {\n",
       "        text-align: right;\n",
       "    }\n",
       "</style>\n",
       "<table border=\"1\" class=\"dataframe\">\n",
       "  <thead>\n",
       "    <tr style=\"text-align: right;\">\n",
       "      <th></th>\n",
       "      <th>Id</th>\n",
       "      <th>ASIN</th>\n",
       "      <th>L1</th>\n",
       "      <th>L2</th>\n",
       "      <th>L3</th>\n",
       "      <th>L4</th>\n",
       "    </tr>\n",
       "  </thead>\n",
       "  <tbody>\n",
       "    <tr>\n",
       "      <th>0</th>\n",
       "      <td>1</td>\n",
       "      <td>0827229534</td>\n",
       "      <td>Books[283155]</td>\n",
       "      <td>Subjects[1000]</td>\n",
       "      <td>Religion &amp; Spirituality[22]</td>\n",
       "      <td>Christianity[12290]</td>\n",
       "    </tr>\n",
       "    <tr>\n",
       "      <th>0</th>\n",
       "      <td>1</td>\n",
       "      <td>0827229534</td>\n",
       "      <td>Books[283155]</td>\n",
       "      <td>Subjects[1000]</td>\n",
       "      <td>Religion &amp; Spirituality[22]</td>\n",
       "      <td>Christianity[12290]</td>\n",
       "    </tr>\n",
       "    <tr>\n",
       "      <th>1</th>\n",
       "      <td>2</td>\n",
       "      <td>0738700797</td>\n",
       "      <td>Books[283155]</td>\n",
       "      <td>Subjects[1000]</td>\n",
       "      <td>Religion &amp; Spirituality[22]</td>\n",
       "      <td>Earth-Based Religions[12472]</td>\n",
       "    </tr>\n",
       "    <tr>\n",
       "      <th>1</th>\n",
       "      <td>2</td>\n",
       "      <td>0738700797</td>\n",
       "      <td>Books[283155]</td>\n",
       "      <td>Subjects[1000]</td>\n",
       "      <td>Religion &amp; Spirituality[22]</td>\n",
       "      <td>Earth-Based Religions[12472]</td>\n",
       "    </tr>\n",
       "    <tr>\n",
       "      <th>2</th>\n",
       "      <td>3</td>\n",
       "      <td>0486287785</td>\n",
       "      <td>Books[283155]</td>\n",
       "      <td>Subjects[1000]</td>\n",
       "      <td>Home &amp; Garden[48]</td>\n",
       "      <td>Crafts &amp; Hobbies[5126]</td>\n",
       "    </tr>\n",
       "  </tbody>\n",
       "</table>\n",
       "</div>"
      ],
      "text/plain": [
       "   Id        ASIN             L1               L2  \\\n",
       "0   1  0827229534  Books[283155]   Subjects[1000]   \n",
       "0   1  0827229534  Books[283155]   Subjects[1000]   \n",
       "1   2  0738700797  Books[283155]   Subjects[1000]   \n",
       "1   2  0738700797  Books[283155]   Subjects[1000]   \n",
       "2   3  0486287785  Books[283155]   Subjects[1000]   \n",
       "\n",
       "                             L3                             L4  \n",
       "0   Religion & Spirituality[22]            Christianity[12290]  \n",
       "0   Religion & Spirituality[22]            Christianity[12290]  \n",
       "1   Religion & Spirituality[22]   Earth-Based Religions[12472]  \n",
       "1   Religion & Spirituality[22]   Earth-Based Religions[12472]  \n",
       "2             Home & Garden[48]         Crafts & Hobbies[5126]  "
      ]
     },
     "execution_count": 26,
     "metadata": {},
     "output_type": "execute_result"
    }
   ],
   "source": [
    "df_cat.head()"
   ]
  },
  {
   "cell_type": "code",
   "execution_count": 27,
   "metadata": {},
   "outputs": [
    {
     "data": {
      "text/plain": [
       "Id      0\n",
       "ASIN    0\n",
       "L1      0\n",
       "L2      0\n",
       "L3      0\n",
       "L4      0\n",
       "dtype: int64"
      ]
     },
     "execution_count": 27,
     "metadata": {},
     "output_type": "execute_result"
    }
   ],
   "source": [
    "df_cat.isnull().sum()"
   ]
  },
  {
   "cell_type": "code",
   "execution_count": 28,
   "metadata": {},
   "outputs": [
    {
     "data": {
      "text/plain": [
       "Id      548551\n",
       "ASIN    548551\n",
       "L1          16\n",
       "L2          38\n",
       "L3         168\n",
       "L4        1206\n",
       "dtype: int64"
      ]
     },
     "execution_count": 28,
     "metadata": {},
     "output_type": "execute_result"
    }
   ],
   "source": [
    "df_cat.nunique()"
   ]
  },
  {
   "cell_type": "code",
   "execution_count": 29,
   "metadata": {},
   "outputs": [
    {
     "data": {
      "text/plain": [
       "array(['Books[283155]', '[172282]', 'Music[5174]', '[265523]', '[139452]',\n",
       "       'a', '[540744]', '[468642]', '[229534]', '[229220]', '[171280]',\n",
       "       '[700060]', '[1055398]', 'Sports & Outdoor[3375251]',\n",
       "       'Sportsrus.com[3489201]', '[1064952]'], dtype=object)"
      ]
     },
     "execution_count": 29,
     "metadata": {},
     "output_type": "execute_result"
    }
   ],
   "source": [
    "df_cat.L1.unique()"
   ]
  },
  {
   "cell_type": "code",
   "execution_count": 30,
   "metadata": {},
   "outputs": [],
   "source": [
    "df_cat = df_cat[df_cat.Id.isin(data.Id.values)]"
   ]
  },
  {
   "cell_type": "code",
   "execution_count": 31,
   "metadata": {},
   "outputs": [
    {
     "data": {
      "text/plain": [
       "Id      542664\n",
       "ASIN    542664\n",
       "L1          14\n",
       "L2          33\n",
       "L3         153\n",
       "L4        1175\n",
       "dtype: int64"
      ]
     },
     "execution_count": 31,
     "metadata": {},
     "output_type": "execute_result"
    }
   ],
   "source": [
    "df_cat.nunique()"
   ]
  },
  {
   "cell_type": "code",
   "execution_count": 32,
   "metadata": {},
   "outputs": [
    {
     "data": {
      "text/plain": [
       "array(['Books[283155]', '[172282]', 'Music[5174]', '[265523]', '[139452]',\n",
       "       'a', '[540744]', '[468642]', '[229534]', '[229220]', '[700060]',\n",
       "       '[1055398]', '[171280]', '[1064952]'], dtype=object)"
      ]
     },
     "execution_count": 32,
     "metadata": {},
     "output_type": "execute_result"
    }
   ],
   "source": [
    "df_cat.L1.unique()"
   ]
  },
  {
   "cell_type": "code",
   "execution_count": 33,
   "metadata": {},
   "outputs": [
    {
     "data": {
      "text/plain": [
       "(Id      0\n",
       " ASIN    0\n",
       " L1      0\n",
       " L2      0\n",
       " L3      0\n",
       " L4      0\n",
       " dtype: int64,\n",
       " (22903, 6))"
      ]
     },
     "execution_count": 33,
     "metadata": {},
     "output_type": "execute_result"
    }
   ],
   "source": [
    "df_cat[df_cat.L1=='a'].isnull().sum(), df_cat[df_cat.L1=='a'].shape"
   ]
  },
  {
   "cell_type": "markdown",
   "metadata": {},
   "source": [
    "These values are actually empty values, we will drop them:"
   ]
  },
  {
   "cell_type": "code",
   "execution_count": 34,
   "metadata": {},
   "outputs": [
    {
     "data": {
      "text/plain": [
       "Id      0\n",
       "ASIN    0\n",
       "L1      0\n",
       "L2      0\n",
       "L3      0\n",
       "L4      0\n",
       "dtype: int64"
      ]
     },
     "execution_count": 34,
     "metadata": {},
     "output_type": "execute_result"
    }
   ],
   "source": [
    "df_cat = df_cat[df_cat.L1!='a']\n",
    "df_cat.isnull().sum()"
   ]
  },
  {
   "cell_type": "code",
   "execution_count": 35,
   "metadata": {},
   "outputs": [
    {
     "data": {
      "text/html": [
       "<div>\n",
       "<style scoped>\n",
       "    .dataframe tbody tr th:only-of-type {\n",
       "        vertical-align: middle;\n",
       "    }\n",
       "\n",
       "    .dataframe tbody tr th {\n",
       "        vertical-align: top;\n",
       "    }\n",
       "\n",
       "    .dataframe thead th {\n",
       "        text-align: right;\n",
       "    }\n",
       "</style>\n",
       "<table border=\"1\" class=\"dataframe\">\n",
       "  <thead>\n",
       "    <tr style=\"text-align: right;\">\n",
       "      <th></th>\n",
       "      <th>Id</th>\n",
       "      <th>ASIN</th>\n",
       "      <th>L1</th>\n",
       "      <th>L2</th>\n",
       "      <th>L3</th>\n",
       "      <th>L4</th>\n",
       "    </tr>\n",
       "  </thead>\n",
       "  <tbody>\n",
       "  </tbody>\n",
       "</table>\n",
       "</div>"
      ],
      "text/plain": [
       "Empty DataFrame\n",
       "Columns: [Id, ASIN, L1, L2, L3, L4]\n",
       "Index: []"
      ]
     },
     "execution_count": 35,
     "metadata": {},
     "output_type": "execute_result"
    }
   ],
   "source": [
    "df_cat[df_cat.L3.isnull()]"
   ]
  },
  {
   "cell_type": "code",
   "execution_count": 36,
   "metadata": {},
   "outputs": [
    {
     "data": {
      "text/plain": [
       "Id      519761\n",
       "ASIN    519761\n",
       "L1          13\n",
       "L2          32\n",
       "L3         153\n",
       "L4        1175\n",
       "dtype: int64"
      ]
     },
     "execution_count": 36,
     "metadata": {},
     "output_type": "execute_result"
    }
   ],
   "source": [
    "df_cat.nunique()"
   ]
  },
  {
   "cell_type": "code",
   "execution_count": 37,
   "metadata": {},
   "outputs": [
    {
     "data": {
      "text/plain": [
       "array([' Subjects[1000]', ' Categories[493964]', ' Styles[301668]',\n",
       "       ' Specialty Stores[468040]', ' Specialty Stores[504360]',\n",
       "       ' Amazon.com Stores[285080]', ' DVD[130]', ' Formats[504358]',\n",
       "       ' VHS[404272]', ' Categories[540988]', ' Specialty Stores[547930]',\n",
       "       ' Labels[892976]', ' By Publisher[298531]', ' Formats[468038]',\n",
       "       ' Specialty Stores[471282]', ' Specialty Stores[509348]',\n",
       "       ' Special Features[301756]', ' Our Favorites[510958]',\n",
       "       ' Brands[409488]', ' New Categories[13458191]',\n",
       "       ' Categories[712210]', ' Categories[1063498]',\n",
       "       ' Specialty Stores[491294]', ' Brands[171457]',\n",
       "       ' Favorite Characters[194007]', ' Electronics Features[13900851]',\n",
       "       ' Specialty Stores[769106]', ' Categories[491290]',\n",
       "       ' Categories[491286]', ' Brands[540996]',\n",
       "       ' Camera & Photo Features[13900861]', ' Categories[1084654]'],\n",
       "      dtype=object)"
      ]
     },
     "execution_count": 37,
     "metadata": {},
     "output_type": "execute_result"
    }
   ],
   "source": [
    "df_cat.L2.unique()"
   ]
  },
  {
   "cell_type": "code",
   "execution_count": 38,
   "metadata": {},
   "outputs": [
    {
     "name": "stderr",
     "output_type": "stream",
     "text": [
      "/var/folders/hk/kbn1q_sj4jz4lh0m7x05vff80000gn/T/ipykernel_7124/4248942510.py:1: FutureWarning: As the xlwt package is no longer maintained, the xlwt engine will be removed in a future version of pandas. This is the only engine in pandas that supports writing in the xls format. Install openpyxl and write to an xlsx file instead. You can set the option io.excel.xls.writer to 'xlwt' to silence this warning. While this option is deprecated and will also raise a warning, it can be globally set and the warning suppressed.\n",
      "  df_cat.groupby([\"L1\",\"L2\",\"L3\"]).count().to_excel('statistics.xls')\n"
     ]
    }
   ],
   "source": [
    "df_cat.groupby([\"L1\",\"L2\",\"L3\"]).count().to_excel('statistics.xls')"
   ]
  },
  {
   "cell_type": "markdown",
   "metadata": {},
   "source": [
    "#### **df_sim**:"
   ]
  },
  {
   "cell_type": "markdown",
   "metadata": {},
   "source": [
    "From the df_sim we can get the links between nodes:"
   ]
  },
  {
   "cell_type": "code",
   "execution_count": 39,
   "metadata": {},
   "outputs": [
    {
     "data": {
      "text/html": [
       "<div>\n",
       "<style scoped>\n",
       "    .dataframe tbody tr th:only-of-type {\n",
       "        vertical-align: middle;\n",
       "    }\n",
       "\n",
       "    .dataframe tbody tr th {\n",
       "        vertical-align: top;\n",
       "    }\n",
       "\n",
       "    .dataframe thead th {\n",
       "        text-align: right;\n",
       "    }\n",
       "</style>\n",
       "<table border=\"1\" class=\"dataframe\">\n",
       "  <thead>\n",
       "    <tr style=\"text-align: right;\">\n",
       "      <th></th>\n",
       "      <th>Id</th>\n",
       "      <th>ASIN</th>\n",
       "      <th>Similar</th>\n",
       "    </tr>\n",
       "  </thead>\n",
       "  <tbody>\n",
       "    <tr>\n",
       "      <th>0</th>\n",
       "      <td>1</td>\n",
       "      <td>0827229534</td>\n",
       "      <td>0804215715</td>\n",
       "    </tr>\n",
       "    <tr>\n",
       "      <th>0</th>\n",
       "      <td>1</td>\n",
       "      <td>0827229534</td>\n",
       "      <td>156101074X</td>\n",
       "    </tr>\n",
       "    <tr>\n",
       "      <th>0</th>\n",
       "      <td>1</td>\n",
       "      <td>0827229534</td>\n",
       "      <td>0687023955</td>\n",
       "    </tr>\n",
       "    <tr>\n",
       "      <th>0</th>\n",
       "      <td>1</td>\n",
       "      <td>0827229534</td>\n",
       "      <td>0687074231</td>\n",
       "    </tr>\n",
       "    <tr>\n",
       "      <th>0</th>\n",
       "      <td>1</td>\n",
       "      <td>0827229534</td>\n",
       "      <td>082721619X</td>\n",
       "    </tr>\n",
       "  </tbody>\n",
       "</table>\n",
       "</div>"
      ],
      "text/plain": [
       "   Id        ASIN      Similar\n",
       "0   1  0827229534   0804215715\n",
       "0   1  0827229534   156101074X\n",
       "0   1  0827229534   0687023955\n",
       "0   1  0827229534   0687074231\n",
       "0   1  0827229534   082721619X"
      ]
     },
     "execution_count": 39,
     "metadata": {},
     "output_type": "execute_result"
    }
   ],
   "source": [
    "df_sim.head()"
   ]
  },
  {
   "cell_type": "code",
   "execution_count": 40,
   "metadata": {},
   "outputs": [
    {
     "data": {
      "text/plain": [
       "(1958183, 3)"
      ]
     },
     "execution_count": 40,
     "metadata": {},
     "output_type": "execute_result"
    }
   ],
   "source": [
    "df_sim.shape"
   ]
  },
  {
   "cell_type": "markdown",
   "metadata": {},
   "source": [
    "#### for graph:"
   ]
  },
  {
   "cell_type": "markdown",
   "metadata": {},
   "source": [
    "Let's represent the node with Id's:"
   ]
  },
  {
   "cell_type": "code",
   "execution_count": 41,
   "metadata": {},
   "outputs": [
    {
     "data": {
      "text/html": [
       "<div>\n",
       "<style scoped>\n",
       "    .dataframe tbody tr th:only-of-type {\n",
       "        vertical-align: middle;\n",
       "    }\n",
       "\n",
       "    .dataframe tbody tr th {\n",
       "        vertical-align: top;\n",
       "    }\n",
       "\n",
       "    .dataframe thead th {\n",
       "        text-align: right;\n",
       "    }\n",
       "</style>\n",
       "<table border=\"1\" class=\"dataframe\">\n",
       "  <thead>\n",
       "    <tr style=\"text-align: right;\">\n",
       "      <th></th>\n",
       "      <th>Id</th>\n",
       "      <th>ASIN</th>\n",
       "      <th>Id_2</th>\n",
       "      <th>Title</th>\n",
       "      <th>Group</th>\n",
       "      <th>Salesrank</th>\n",
       "      <th>NbrOfSimilar</th>\n",
       "      <th>NbrOfCategories</th>\n",
       "      <th>TotalReviews</th>\n",
       "      <th>Downloaded</th>\n",
       "      <th>AvgRating</th>\n",
       "    </tr>\n",
       "  </thead>\n",
       "  <tbody>\n",
       "    <tr>\n",
       "      <th>0001515195</th>\n",
       "      <td>185002</td>\n",
       "      <td>0005310075</td>\n",
       "      <td>96102</td>\n",
       "      <td>Go to the Ant</td>\n",
       "      <td>Book</td>\n",
       "      <td>770150</td>\n",
       "      <td>4</td>\n",
       "      <td>0</td>\n",
       "      <td>0</td>\n",
       "      <td>0</td>\n",
       "      <td>0.0</td>\n",
       "    </tr>\n",
       "    <tr>\n",
       "      <th>0002154129</th>\n",
       "      <td>275265</td>\n",
       "      <td>0002154463</td>\n",
       "      <td>299097</td>\n",
       "      <td>France the Beautiful Cookbook</td>\n",
       "      <td>Book</td>\n",
       "      <td>76171</td>\n",
       "      <td>5</td>\n",
       "      <td>4</td>\n",
       "      <td>4</td>\n",
       "      <td>4</td>\n",
       "      <td>5.0</td>\n",
       "    </tr>\n",
       "    <tr>\n",
       "      <th>0002154129</th>\n",
       "      <td>309702</td>\n",
       "      <td>0002551543</td>\n",
       "      <td>299097</td>\n",
       "      <td>France the Beautiful Cookbook</td>\n",
       "      <td>Book</td>\n",
       "      <td>76171</td>\n",
       "      <td>5</td>\n",
       "      <td>4</td>\n",
       "      <td>4</td>\n",
       "      <td>4</td>\n",
       "      <td>5.0</td>\n",
       "    </tr>\n",
       "    <tr>\n",
       "      <th>0002154463</th>\n",
       "      <td>178882</td>\n",
       "      <td>0002550326</td>\n",
       "      <td>275265</td>\n",
       "      <td>Italy : The Beautiful Cookbook (Beautiful Cook...</td>\n",
       "      <td>Book</td>\n",
       "      <td>34654</td>\n",
       "      <td>5</td>\n",
       "      <td>2</td>\n",
       "      <td>3</td>\n",
       "      <td>3</td>\n",
       "      <td>4.0</td>\n",
       "    </tr>\n",
       "    <tr>\n",
       "      <th>0002154463</th>\n",
       "      <td>299097</td>\n",
       "      <td>0002154129</td>\n",
       "      <td>275265</td>\n",
       "      <td>Italy : The Beautiful Cookbook (Beautiful Cook...</td>\n",
       "      <td>Book</td>\n",
       "      <td>34654</td>\n",
       "      <td>5</td>\n",
       "      <td>2</td>\n",
       "      <td>3</td>\n",
       "      <td>3</td>\n",
       "      <td>4.0</td>\n",
       "    </tr>\n",
       "  </tbody>\n",
       "</table>\n",
       "</div>"
      ],
      "text/plain": [
       "                Id        ASIN    Id_2  \\\n",
       "0001515195  185002  0005310075   96102   \n",
       "0002154129  275265  0002154463  299097   \n",
       "0002154129  309702  0002551543  299097   \n",
       "0002154463  178882  0002550326  275265   \n",
       "0002154463  299097  0002154129  275265   \n",
       "\n",
       "                                                        Title Group  \\\n",
       "0001515195                                      Go to the Ant  Book   \n",
       "0002154129                      France the Beautiful Cookbook  Book   \n",
       "0002154129                      France the Beautiful Cookbook  Book   \n",
       "0002154463  Italy : The Beautiful Cookbook (Beautiful Cook...  Book   \n",
       "0002154463  Italy : The Beautiful Cookbook (Beautiful Cook...  Book   \n",
       "\n",
       "            Salesrank  NbrOfSimilar  NbrOfCategories  TotalReviews  \\\n",
       "0001515195     770150             4                0             0   \n",
       "0002154129      76171             5                4             4   \n",
       "0002154129      76171             5                4             4   \n",
       "0002154463      34654             5                2             3   \n",
       "0002154463      34654             5                2             3   \n",
       "\n",
       "            Downloaded  AvgRating  \n",
       "0001515195           0        0.0  \n",
       "0002154129           4        5.0  \n",
       "0002154129           4        5.0  \n",
       "0002154463           3        4.0  \n",
       "0002154463           3        4.0  "
      ]
     },
     "execution_count": 41,
     "metadata": {},
     "output_type": "execute_result"
    }
   ],
   "source": [
    "df1 = df_sim.set_index('Similar')\n",
    "df2 = data.set_index('ASIN')\n",
    "df3 = df1.join(df2,rsuffix='_2',how='inner') # Id_2 only from data\n",
    "df3 = df3[df3.Id.isin(data.Id.values)] # Id only from data\n",
    "df3.head()"
   ]
  },
  {
   "cell_type": "code",
   "execution_count": 42,
   "metadata": {},
   "outputs": [
    {
     "data": {
      "text/plain": [
       "(275230, 2)"
      ]
     },
     "execution_count": 42,
     "metadata": {},
     "output_type": "execute_result"
    }
   ],
   "source": [
    "alinks = df3[['Id','Id_2']].reset_index(drop=True)\n",
    "#links2 = df3[['Id_2','Id']].reset_index(drop=True)\n",
    "#links = links1.append(links2)\n",
    "alinks.drop_duplicates(inplace=True)\n",
    "alinks.columns = [\"source\",\"target\"]\n",
    "alinks.shape"
   ]
  },
  {
   "cell_type": "code",
   "execution_count": 43,
   "metadata": {},
   "outputs": [
    {
     "data": {
      "text/html": [
       "<div>\n",
       "<style scoped>\n",
       "    .dataframe tbody tr th:only-of-type {\n",
       "        vertical-align: middle;\n",
       "    }\n",
       "\n",
       "    .dataframe tbody tr th {\n",
       "        vertical-align: top;\n",
       "    }\n",
       "\n",
       "    .dataframe thead th {\n",
       "        text-align: right;\n",
       "    }\n",
       "</style>\n",
       "<table border=\"1\" class=\"dataframe\">\n",
       "  <thead>\n",
       "    <tr style=\"text-align: right;\">\n",
       "      <th></th>\n",
       "      <th>from</th>\n",
       "      <th>to</th>\n",
       "    </tr>\n",
       "  </thead>\n",
       "  <tbody>\n",
       "    <tr>\n",
       "      <th>0</th>\n",
       "      <td>185002</td>\n",
       "      <td>96102</td>\n",
       "    </tr>\n",
       "    <tr>\n",
       "      <th>1</th>\n",
       "      <td>275265</td>\n",
       "      <td>299097</td>\n",
       "    </tr>\n",
       "    <tr>\n",
       "      <th>2</th>\n",
       "      <td>309702</td>\n",
       "      <td>299097</td>\n",
       "    </tr>\n",
       "    <tr>\n",
       "      <th>3</th>\n",
       "      <td>178882</td>\n",
       "      <td>275265</td>\n",
       "    </tr>\n",
       "    <tr>\n",
       "      <th>4</th>\n",
       "      <td>299097</td>\n",
       "      <td>275265</td>\n",
       "    </tr>\n",
       "  </tbody>\n",
       "</table>\n",
       "</div>"
      ],
      "text/plain": [
       "     from      to\n",
       "0  185002   96102\n",
       "1  275265  299097\n",
       "2  309702  299097\n",
       "3  178882  275265\n",
       "4  299097  275265"
      ]
     },
     "execution_count": 43,
     "metadata": {},
     "output_type": "execute_result"
    }
   ],
   "source": [
    "alinks.head()"
   ]
  },
  {
   "cell_type": "code",
   "execution_count": 44,
   "metadata": {},
   "outputs": [],
   "source": [
    "alinks.to_csv('data/links.csv',index=False)"
   ]
  },
  {
   "cell_type": "markdown",
   "metadata": {},
   "source": [
    "Create types for edges/links:"
   ]
  },
  {
   "cell_type": "code",
   "execution_count": 45,
   "metadata": {},
   "outputs": [
    {
     "name": "stderr",
     "output_type": "stream",
     "text": [
      "/var/folders/hk/kbn1q_sj4jz4lh0m7x05vff80000gn/T/ipykernel_7124/842213600.py:12: SettingWithCopyWarning: \n",
      "A value is trying to be set on a copy of a slice from a DataFrame.\n",
      "Try using .loc[row_indexer,col_indexer] = value instead\n",
      "\n",
      "See the caveats in the documentation: https://pandas.pydata.org/pandas-docs/stable/user_guide/indexing.html#returning-a-view-versus-a-copy\n",
      "  df_links[\"connection\"] = df_links.apply(lambda row: str(row[\"fromGr\"])+str(row[\"toGr\"]), axis=1)\n"
     ]
    },
    {
     "data": {
      "text/html": [
       "<div>\n",
       "<style scoped>\n",
       "    .dataframe tbody tr th:only-of-type {\n",
       "        vertical-align: middle;\n",
       "    }\n",
       "\n",
       "    .dataframe tbody tr th {\n",
       "        vertical-align: top;\n",
       "    }\n",
       "\n",
       "    .dataframe thead th {\n",
       "        text-align: right;\n",
       "    }\n",
       "</style>\n",
       "<table border=\"1\" class=\"dataframe\">\n",
       "  <thead>\n",
       "    <tr style=\"text-align: right;\">\n",
       "      <th></th>\n",
       "      <th>from</th>\n",
       "      <th>to</th>\n",
       "      <th>connection</th>\n",
       "    </tr>\n",
       "  </thead>\n",
       "  <tbody>\n",
       "    <tr>\n",
       "      <th>0</th>\n",
       "      <td>500600</td>\n",
       "      <td>1</td>\n",
       "      <td>BookBook</td>\n",
       "    </tr>\n",
       "    <tr>\n",
       "      <th>1</th>\n",
       "      <td>454888</td>\n",
       "      <td>2</td>\n",
       "      <td>BookBook</td>\n",
       "    </tr>\n",
       "    <tr>\n",
       "      <th>2</th>\n",
       "      <td>355935</td>\n",
       "      <td>7</td>\n",
       "      <td>MusicMusic</td>\n",
       "    </tr>\n",
       "    <tr>\n",
       "      <th>3</th>\n",
       "      <td>55461</td>\n",
       "      <td>8</td>\n",
       "      <td>BookBook</td>\n",
       "    </tr>\n",
       "    <tr>\n",
       "      <th>4</th>\n",
       "      <td>445607</td>\n",
       "      <td>8</td>\n",
       "      <td>BookBook</td>\n",
       "    </tr>\n",
       "  </tbody>\n",
       "</table>\n",
       "</div>"
      ],
      "text/plain": [
       "     from  to  connection\n",
       "0  500600   1    BookBook\n",
       "1  454888   2    BookBook\n",
       "2  355935   7  MusicMusic\n",
       "3   55461   8    BookBook\n",
       "4  445607   8    BookBook"
      ]
     },
     "execution_count": 45,
     "metadata": {},
     "output_type": "execute_result"
    }
   ],
   "source": [
    "df1 = alinks.set_index(\"from\")\n",
    "df3 = data.set_index(\"Id\")\n",
    "df1_attr = df1.join(df3)\n",
    "df1_attr = df1_attr[[\"to\",\"Group\"]]\n",
    "df2_attr = df1_attr.reset_index().set_index(\"to\")\n",
    "df2_attr.columns = [\"from\",\"fromGr\"]\n",
    "df2 = df2_attr.join(df3)\n",
    "df2 = df2[[\"from\",\"fromGr\",\"Group\"]]\n",
    "df2 = df2.reset_index()\n",
    "df2.columns = [\"to\",\"from\",\"fromGr\",\"toGr\"]\n",
    "df_links = df2[[\"from\",\"to\",\"fromGr\",\"toGr\"]]\n",
    "df_links[\"connection\"] = df_links.apply(lambda row: str(row[\"fromGr\"])+str(row[\"toGr\"]), axis=1)\n",
    "df_links = df_links[[\"from\",\"to\",\"connection\"]]\n",
    "df_links.head()"
   ]
  },
  {
   "cell_type": "code",
   "execution_count": 46,
   "metadata": {},
   "outputs": [],
   "source": [
    "types = {'BookBook': 'BookBook', 'MusicMusic': 'MusicMusic', 'DVDDVD': 'DVDDVD', 'VideoVideo': 'VideoVideo',\n",
    "         'BookVideo': 'BookVideo', \n",
    "         'VideoBook': 'BookVideo', \n",
    "         'BookDVD': 'BookDVD', \n",
    "         'DVDBook': 'BookDVD',\n",
    "         'BookMusic': 'BookMusic', \n",
    "         'MusicBook': 'BookMusic', \n",
    "         'MusicDVD': 'MusicDVD', \n",
    "         'DVDMusic': 'MusicDVD',\n",
    "         'MusicVideo': 'MusicVideo', \n",
    "         'VideoMusic': 'MusicVideo', \n",
    "         'DVDVideo': 'DVDVideo',\n",
    "         'VideoDVD': 'DVDVideo'}"
   ]
  },
  {
   "cell_type": "code",
   "execution_count": 47,
   "metadata": {},
   "outputs": [],
   "source": [
    "df_links[\"conn_type\"] = df_links[\"connection\"].apply(lambda x: types[x])"
   ]
  },
  {
   "cell_type": "code",
   "execution_count": 48,
   "metadata": {},
   "outputs": [],
   "source": [
    "df_links = df_links[[\"from\",\"to\",\"conn_type\"]]"
   ]
  },
  {
   "cell_type": "code",
   "execution_count": 49,
   "metadata": {},
   "outputs": [
    {
     "data": {
      "text/html": [
       "<div>\n",
       "<style scoped>\n",
       "    .dataframe tbody tr th:only-of-type {\n",
       "        vertical-align: middle;\n",
       "    }\n",
       "\n",
       "    .dataframe tbody tr th {\n",
       "        vertical-align: top;\n",
       "    }\n",
       "\n",
       "    .dataframe thead th {\n",
       "        text-align: right;\n",
       "    }\n",
       "</style>\n",
       "<table border=\"1\" class=\"dataframe\">\n",
       "  <thead>\n",
       "    <tr style=\"text-align: right;\">\n",
       "      <th></th>\n",
       "      <th>from</th>\n",
       "      <th>to</th>\n",
       "    </tr>\n",
       "    <tr>\n",
       "      <th>conn_type</th>\n",
       "      <th></th>\n",
       "      <th></th>\n",
       "    </tr>\n",
       "  </thead>\n",
       "  <tbody>\n",
       "    <tr>\n",
       "      <th>BookBook</th>\n",
       "      <td>202903</td>\n",
       "      <td>202903</td>\n",
       "    </tr>\n",
       "    <tr>\n",
       "      <th>BookDVD</th>\n",
       "      <td>540</td>\n",
       "      <td>540</td>\n",
       "    </tr>\n",
       "    <tr>\n",
       "      <th>BookMusic</th>\n",
       "      <td>326</td>\n",
       "      <td>326</td>\n",
       "    </tr>\n",
       "    <tr>\n",
       "      <th>BookVideo</th>\n",
       "      <td>452</td>\n",
       "      <td>452</td>\n",
       "    </tr>\n",
       "    <tr>\n",
       "      <th>DVDDVD</th>\n",
       "      <td>11755</td>\n",
       "      <td>11755</td>\n",
       "    </tr>\n",
       "    <tr>\n",
       "      <th>DVDVideo</th>\n",
       "      <td>7070</td>\n",
       "      <td>7070</td>\n",
       "    </tr>\n",
       "    <tr>\n",
       "      <th>MusicDVD</th>\n",
       "      <td>793</td>\n",
       "      <td>793</td>\n",
       "    </tr>\n",
       "    <tr>\n",
       "      <th>MusicMusic</th>\n",
       "      <td>45755</td>\n",
       "      <td>45755</td>\n",
       "    </tr>\n",
       "    <tr>\n",
       "      <th>MusicVideo</th>\n",
       "      <td>165</td>\n",
       "      <td>165</td>\n",
       "    </tr>\n",
       "    <tr>\n",
       "      <th>VideoVideo</th>\n",
       "      <td>5471</td>\n",
       "      <td>5471</td>\n",
       "    </tr>\n",
       "  </tbody>\n",
       "</table>\n",
       "</div>"
      ],
      "text/plain": [
       "              from      to\n",
       "conn_type                 \n",
       "BookBook    202903  202903\n",
       "BookDVD        540     540\n",
       "BookMusic      326     326\n",
       "BookVideo      452     452\n",
       "DVDDVD       11755   11755\n",
       "DVDVideo      7070    7070\n",
       "MusicDVD       793     793\n",
       "MusicMusic   45755   45755\n",
       "MusicVideo     165     165\n",
       "VideoVideo    5471    5471"
      ]
     },
     "execution_count": 49,
     "metadata": {},
     "output_type": "execute_result"
    }
   ],
   "source": [
    "df_links.groupby(\"conn_type\").count()"
   ]
  },
  {
   "cell_type": "code",
   "execution_count": 50,
   "metadata": {},
   "outputs": [],
   "source": [
    "df_links.to_csv(\"data/links_type.csv\",index=False)"
   ]
  },
  {
   "cell_type": "markdown",
   "metadata": {},
   "source": [
    "#### **df_rev**:"
   ]
  },
  {
   "cell_type": "code",
   "execution_count": 51,
   "metadata": {},
   "outputs": [
    {
     "data": {
      "text/html": [
       "<div>\n",
       "<style scoped>\n",
       "    .dataframe tbody tr th:only-of-type {\n",
       "        vertical-align: middle;\n",
       "    }\n",
       "\n",
       "    .dataframe tbody tr th {\n",
       "        vertical-align: top;\n",
       "    }\n",
       "\n",
       "    .dataframe thead th {\n",
       "        text-align: right;\n",
       "    }\n",
       "</style>\n",
       "<table border=\"1\" class=\"dataframe\">\n",
       "  <thead>\n",
       "    <tr style=\"text-align: right;\">\n",
       "      <th></th>\n",
       "      <th>Id</th>\n",
       "      <th>ASIN</th>\n",
       "      <th>Date</th>\n",
       "      <th>Customer</th>\n",
       "      <th>Rating</th>\n",
       "      <th>Votes</th>\n",
       "      <th>Helpful</th>\n",
       "    </tr>\n",
       "  </thead>\n",
       "  <tbody>\n",
       "    <tr>\n",
       "      <th>0</th>\n",
       "      <td>1</td>\n",
       "      <td>0827229534</td>\n",
       "      <td>2000-07-28</td>\n",
       "      <td>A2JW67OY8U6HHK</td>\n",
       "      <td>5.0</td>\n",
       "      <td>10</td>\n",
       "      <td>9</td>\n",
       "    </tr>\n",
       "    <tr>\n",
       "      <th>0</th>\n",
       "      <td>1</td>\n",
       "      <td>0827229534</td>\n",
       "      <td>2000-07-28</td>\n",
       "      <td>A2JW67OY8U6HHK</td>\n",
       "      <td>5.0</td>\n",
       "      <td>10</td>\n",
       "      <td>9</td>\n",
       "    </tr>\n",
       "    <tr>\n",
       "      <th>1</th>\n",
       "      <td>2</td>\n",
       "      <td>0738700797</td>\n",
       "      <td>2003-12-14</td>\n",
       "      <td>A2VE83MZF98ITY</td>\n",
       "      <td>5.0</td>\n",
       "      <td>6</td>\n",
       "      <td>5</td>\n",
       "    </tr>\n",
       "    <tr>\n",
       "      <th>1</th>\n",
       "      <td>2</td>\n",
       "      <td>0738700797</td>\n",
       "      <td>2003-12-14</td>\n",
       "      <td>A2VE83MZF98ITY</td>\n",
       "      <td>5.0</td>\n",
       "      <td>6</td>\n",
       "      <td>5</td>\n",
       "    </tr>\n",
       "    <tr>\n",
       "      <th>1</th>\n",
       "      <td>2</td>\n",
       "      <td>0738700797</td>\n",
       "      <td>2003-12-14</td>\n",
       "      <td>A2VE83MZF98ITY</td>\n",
       "      <td>5.0</td>\n",
       "      <td>6</td>\n",
       "      <td>5</td>\n",
       "    </tr>\n",
       "  </tbody>\n",
       "</table>\n",
       "</div>"
      ],
      "text/plain": [
       "   Id        ASIN       Date        Customer  Rating  Votes  Helpful\n",
       "0   1  0827229534 2000-07-28  A2JW67OY8U6HHK     5.0     10        9\n",
       "0   1  0827229534 2000-07-28  A2JW67OY8U6HHK     5.0     10        9\n",
       "1   2  0738700797 2003-12-14  A2VE83MZF98ITY     5.0      6        5\n",
       "1   2  0738700797 2003-12-14  A2VE83MZF98ITY     5.0      6        5\n",
       "1   2  0738700797 2003-12-14  A2VE83MZF98ITY     5.0      6        5"
      ]
     },
     "execution_count": 51,
     "metadata": {},
     "output_type": "execute_result"
    }
   ],
   "source": [
    "df_rev.head()"
   ]
  },
  {
   "cell_type": "code",
   "execution_count": 52,
   "metadata": {},
   "outputs": [
    {
     "data": {
      "text/plain": [
       "270201"
      ]
     },
     "execution_count": 52,
     "metadata": {},
     "output_type": "execute_result"
    }
   ],
   "source": [
    "df_rev.Customer.nunique()"
   ]
  },
  {
   "cell_type": "markdown",
   "metadata": {},
   "source": [
    "#### for graph:"
   ]
  },
  {
   "cell_type": "code",
   "execution_count": 53,
   "metadata": {},
   "outputs": [
    {
     "data": {
      "text/html": [
       "<div>\n",
       "<style scoped>\n",
       "    .dataframe tbody tr th:only-of-type {\n",
       "        vertical-align: middle;\n",
       "    }\n",
       "\n",
       "    .dataframe tbody tr th {\n",
       "        vertical-align: top;\n",
       "    }\n",
       "\n",
       "    .dataframe thead th {\n",
       "        text-align: right;\n",
       "    }\n",
       "</style>\n",
       "<table border=\"1\" class=\"dataframe\">\n",
       "  <thead>\n",
       "    <tr style=\"text-align: right;\">\n",
       "      <th></th>\n",
       "      <th>Id</th>\n",
       "      <th>ASIN</th>\n",
       "      <th>Date</th>\n",
       "      <th>Customer</th>\n",
       "      <th>Rating</th>\n",
       "      <th>Votes</th>\n",
       "      <th>Helpful</th>\n",
       "      <th>CId</th>\n",
       "    </tr>\n",
       "  </thead>\n",
       "  <tbody>\n",
       "    <tr>\n",
       "      <th>0</th>\n",
       "      <td>1</td>\n",
       "      <td>0827229534</td>\n",
       "      <td>2000-07-28</td>\n",
       "      <td>A2JW67OY8U6HHK</td>\n",
       "      <td>5.0</td>\n",
       "      <td>10</td>\n",
       "      <td>9</td>\n",
       "      <td>110643</td>\n",
       "    </tr>\n",
       "    <tr>\n",
       "      <th>0</th>\n",
       "      <td>1</td>\n",
       "      <td>0827229534</td>\n",
       "      <td>2000-07-28</td>\n",
       "      <td>A2JW67OY8U6HHK</td>\n",
       "      <td>5.0</td>\n",
       "      <td>10</td>\n",
       "      <td>9</td>\n",
       "      <td>110643</td>\n",
       "    </tr>\n",
       "    <tr>\n",
       "      <th>1</th>\n",
       "      <td>2</td>\n",
       "      <td>0738700797</td>\n",
       "      <td>2003-12-14</td>\n",
       "      <td>A2VE83MZF98ITY</td>\n",
       "      <td>5.0</td>\n",
       "      <td>6</td>\n",
       "      <td>5</td>\n",
       "      <td>133242</td>\n",
       "    </tr>\n",
       "    <tr>\n",
       "      <th>1</th>\n",
       "      <td>2</td>\n",
       "      <td>0738700797</td>\n",
       "      <td>2003-12-14</td>\n",
       "      <td>A2VE83MZF98ITY</td>\n",
       "      <td>5.0</td>\n",
       "      <td>6</td>\n",
       "      <td>5</td>\n",
       "      <td>133242</td>\n",
       "    </tr>\n",
       "    <tr>\n",
       "      <th>1</th>\n",
       "      <td>2</td>\n",
       "      <td>0738700797</td>\n",
       "      <td>2003-12-14</td>\n",
       "      <td>A2VE83MZF98ITY</td>\n",
       "      <td>5.0</td>\n",
       "      <td>6</td>\n",
       "      <td>5</td>\n",
       "      <td>133242</td>\n",
       "    </tr>\n",
       "  </tbody>\n",
       "</table>\n",
       "</div>"
      ],
      "text/plain": [
       "   Id        ASIN       Date        Customer  Rating  Votes  Helpful     CId\n",
       "0   1  0827229534 2000-07-28  A2JW67OY8U6HHK     5.0     10        9  110643\n",
       "0   1  0827229534 2000-07-28  A2JW67OY8U6HHK     5.0     10        9  110643\n",
       "1   2  0738700797 2003-12-14  A2VE83MZF98ITY     5.0      6        5  133242\n",
       "1   2  0738700797 2003-12-14  A2VE83MZF98ITY     5.0      6        5  133242\n",
       "1   2  0738700797 2003-12-14  A2VE83MZF98ITY     5.0      6        5  133242"
      ]
     },
     "execution_count": 53,
     "metadata": {},
     "output_type": "execute_result"
    }
   ],
   "source": [
    "cust_enc = LabelEncoder()\n",
    "\n",
    "df_rev[\"CId\"] = cust_enc.fit_transform(df_rev[\"Customer\"])\n",
    "df_rev.head()"
   ]
  },
  {
   "cell_type": "code",
   "execution_count": 87,
   "metadata": {},
   "outputs": [],
   "source": [
    "df_rev[\"CId\"] = df_rev[\"CId\"].apply(lambda x: \"C\"+str(x)) # for the sake of different Id-s of customers and products"
   ]
  },
  {
   "cell_type": "code",
   "execution_count": 88,
   "metadata": {},
   "outputs": [
    {
     "data": {
      "text/html": [
       "<div>\n",
       "<style scoped>\n",
       "    .dataframe tbody tr th:only-of-type {\n",
       "        vertical-align: middle;\n",
       "    }\n",
       "\n",
       "    .dataframe tbody tr th {\n",
       "        vertical-align: top;\n",
       "    }\n",
       "\n",
       "    .dataframe thead th {\n",
       "        text-align: right;\n",
       "    }\n",
       "</style>\n",
       "<table border=\"1\" class=\"dataframe\">\n",
       "  <thead>\n",
       "    <tr style=\"text-align: right;\">\n",
       "      <th></th>\n",
       "      <th>Id</th>\n",
       "      <th>CId</th>\n",
       "      <th>Date</th>\n",
       "      <th>Rating</th>\n",
       "    </tr>\n",
       "  </thead>\n",
       "  <tbody>\n",
       "    <tr>\n",
       "      <th>0</th>\n",
       "      <td>1</td>\n",
       "      <td>C110643</td>\n",
       "      <td>2000-07-28</td>\n",
       "      <td>5.0</td>\n",
       "    </tr>\n",
       "    <tr>\n",
       "      <th>0</th>\n",
       "      <td>1</td>\n",
       "      <td>C110643</td>\n",
       "      <td>2000-07-28</td>\n",
       "      <td>5.0</td>\n",
       "    </tr>\n",
       "    <tr>\n",
       "      <th>1</th>\n",
       "      <td>2</td>\n",
       "      <td>C133242</td>\n",
       "      <td>2003-12-14</td>\n",
       "      <td>5.0</td>\n",
       "    </tr>\n",
       "    <tr>\n",
       "      <th>1</th>\n",
       "      <td>2</td>\n",
       "      <td>C133242</td>\n",
       "      <td>2003-12-14</td>\n",
       "      <td>5.0</td>\n",
       "    </tr>\n",
       "    <tr>\n",
       "      <th>1</th>\n",
       "      <td>2</td>\n",
       "      <td>C133242</td>\n",
       "      <td>2003-12-14</td>\n",
       "      <td>5.0</td>\n",
       "    </tr>\n",
       "  </tbody>\n",
       "</table>\n",
       "</div>"
      ],
      "text/plain": [
       "   Id      CId       Date  Rating\n",
       "0   1  C110643 2000-07-28     5.0\n",
       "0   1  C110643 2000-07-28     5.0\n",
       "1   2  C133242 2003-12-14     5.0\n",
       "1   2  C133242 2003-12-14     5.0\n",
       "1   2  C133242 2003-12-14     5.0"
      ]
     },
     "execution_count": 88,
     "metadata": {},
     "output_type": "execute_result"
    }
   ],
   "source": [
    "bilinks_time = df_rev[['Id','CId','Date','Rating']]\n",
    "bilinks_time.head()"
   ]
  },
  {
   "cell_type": "code",
   "execution_count": 89,
   "metadata": {},
   "outputs": [
    {
     "data": {
      "image/png": "[encoded data removed]",
      "text/plain": [
       "<Figure size 432x288 with 1 Axes>"
      ]
     },
     "metadata": {
      "needs_background": "light"
     },
     "output_type": "display_data"
    }
   ],
   "source": [
    "bilinks_time.Rating.value_counts(sort=False).plot(kind=\"bar\")\n",
    "plt.show()"
   ]
  },
  {
   "cell_type": "code",
   "execution_count": 90,
   "metadata": {},
   "outputs": [
    {
     "data": {
      "image/png": "[encoded data removed]",
      "text/plain": [
       "<Figure size 1152x432 with 1 Axes>"
      ]
     },
     "metadata": {
      "needs_background": "light"
     },
     "output_type": "display_data"
    }
   ],
   "source": [
    "plt.figure(figsize=(16,6))\n",
    "bilinks_time.groupby(\"Date\")['Id'].count().plot(kind=\"line\")\n",
    "plt.show()"
   ]
  },
  {
   "cell_type": "code",
   "execution_count": 91,
   "metadata": {},
   "outputs": [
    {
     "data": {
      "image/png": "[encoded data removed]",
      "text/plain": [
       "<Figure size 1152x432 with 1 Axes>"
      ]
     },
     "metadata": {
      "needs_background": "light"
     },
     "output_type": "display_data"
    }
   ],
   "source": [
    "plt.figure(figsize=(16,6))\n",
    "bilinks_time.groupby(\"Date\")['Rating'].mean().plot(kind=\"line\")\n",
    "plt.show()"
   ]
  },
  {
   "cell_type": "code",
   "execution_count": 92,
   "metadata": {},
   "outputs": [
    {
     "data": {
      "text/plain": [
       "(7739071, 4)"
      ]
     },
     "execution_count": 92,
     "metadata": {},
     "output_type": "execute_result"
    }
   ],
   "source": [
    "bilinks_time.shape"
   ]
  },
  {
   "cell_type": "code",
   "execution_count": 93,
   "metadata": {},
   "outputs": [
    {
     "data": {
      "image/png": "[encoded data removed]",
      "text/plain": [
       "<Figure size 432x288 with 1 Axes>"
      ]
     },
     "metadata": {
      "needs_background": "light"
     },
     "output_type": "display_data"
    }
   ],
   "source": [
    "newer_bilinks = bilinks_time[bilinks_time.Date>='2000-01-01']\n",
    "newer_bilinks.Rating.value_counts(sort=False).plot(kind=\"bar\")\n",
    "plt.show()"
   ]
  },
  {
   "cell_type": "code",
   "execution_count": 94,
   "metadata": {},
   "outputs": [
    {
     "data": {
      "text/plain": [
       "(410480, 3)"
      ]
     },
     "execution_count": 94,
     "metadata": {},
     "output_type": "execute_result"
    }
   ],
   "source": [
    "bilinks = pd.DataFrame(newer_bilinks.groupby([\"Id\",\"CId\"])[\"Rating\"].mean()).reset_index()\n",
    "bilinks.shape"
   ]
  },
  {
   "cell_type": "code",
   "execution_count": 95,
   "metadata": {},
   "outputs": [],
   "source": [
    "bilinks.to_csv(\"data/bilinks.csv\",index=False)"
   ]
  },
  {
   "cell_type": "code",
   "execution_count": 96,
   "metadata": {},
   "outputs": [
    {
     "data": {
      "image/png": "[encoded data removed]",
      "text/plain": [
       "<Figure size 432x288 with 1 Axes>"
      ]
     },
     "metadata": {
      "needs_background": "light"
     },
     "output_type": "display_data"
    }
   ],
   "source": [
    "bilinks.Rating.value_counts(sort=False).plot(kind=\"bar\")\n",
    "plt.show()"
   ]
  },
  {
   "cell_type": "code",
   "execution_count": 97,
   "metadata": {},
   "outputs": [
    {
     "data": {
      "image/png": "[encoded data removed]",
      "text/plain": [
       "<Figure size 1152x432 with 1 Axes>"
      ]
     },
     "metadata": {
      "needs_background": "light"
     },
     "output_type": "display_data"
    }
   ],
   "source": [
    "plt.figure(figsize=(16,6))\n",
    "bilinks.groupby(\"CId\")['Id'].count().value_counts(sort=False).plot(kind=\"bar\")\n",
    "plt.yscale(\"log\")\n",
    "plt.xticks()\n",
    "plt.show()"
   ]
  },
  {
   "cell_type": "code",
   "execution_count": 98,
   "metadata": {},
   "outputs": [
    {
     "data": {
      "image/png": "[encoded data removed]",
      "text/plain": [
       "<Figure size 432x288 with 1 Axes>"
      ]
     },
     "metadata": {
      "needs_background": "light"
     },
     "output_type": "display_data"
    }
   ],
   "source": [
    "bilinks.groupby(\"Id\")['CId'].count().value_counts().plot(kind=\"bar\")\n",
    "plt.show()"
   ]
  },
  {
   "cell_type": "markdown",
   "metadata": {},
   "source": [
    "#### more for graph:\n",
    "Customer relation links between products"
   ]
  },
  {
   "cell_type": "code",
   "execution_count": 3,
   "metadata": {},
   "outputs": [],
   "source": [
    "bilinks = pd.read_csv(\"data/bilinks.csv\")\n",
    "nodes = pd.read_csv(\"data/nodes.csv\")"
   ]
  },
  {
   "cell_type": "code",
   "execution_count": 4,
   "metadata": {},
   "outputs": [
    {
     "name": "stdout",
     "output_type": "stream",
     "text": [
      "Good ratings:  (237756, 3)\n",
      "Nbr of links:  (71680770, 4)\n",
      "Nbr of links after dupl removed:  (71680770, 2)\n"
     ]
    },
    {
     "name": "stderr",
     "output_type": "stream",
     "text": [
      "/var/folders/hk/kbn1q_sj4jz4lh0m7x05vff80000gn/T/ipykernel_14962/146860781.py:14: SettingWithCopyWarning: \n",
      "A value is trying to be set on a copy of a slice from a DataFrame\n",
      "\n",
      "See the caveats in the documentation: https://pandas.pydata.org/pandas-docs/stable/user_guide/indexing.html#returning-a-view-versus-a-copy\n",
      "  df_links.drop_duplicates(inplace=True)\n"
     ]
    },
    {
     "data": {
      "text/html": [
       "<div>\n",
       "<style scoped>\n",
       "    .dataframe tbody tr th:only-of-type {\n",
       "        vertical-align: middle;\n",
       "    }\n",
       "\n",
       "    .dataframe tbody tr th {\n",
       "        vertical-align: top;\n",
       "    }\n",
       "\n",
       "    .dataframe thead th {\n",
       "        text-align: right;\n",
       "    }\n",
       "</style>\n",
       "<table border=\"1\" class=\"dataframe\">\n",
       "  <thead>\n",
       "    <tr style=\"text-align: right;\">\n",
       "      <th></th>\n",
       "      <th>source</th>\n",
       "      <th>target</th>\n",
       "    </tr>\n",
       "  </thead>\n",
       "  <tbody>\n",
       "    <tr>\n",
       "      <th>0</th>\n",
       "      <td>154695</td>\n",
       "      <td>234721</td>\n",
       "    </tr>\n",
       "    <tr>\n",
       "      <th>1</th>\n",
       "      <td>234721</td>\n",
       "      <td>154695</td>\n",
       "    </tr>\n",
       "    <tr>\n",
       "      <th>2</th>\n",
       "      <td>338609</td>\n",
       "      <td>478139</td>\n",
       "    </tr>\n",
       "    <tr>\n",
       "      <th>3</th>\n",
       "      <td>478139</td>\n",
       "      <td>338609</td>\n",
       "    </tr>\n",
       "    <tr>\n",
       "      <th>4</th>\n",
       "      <td>462849</td>\n",
       "      <td>462850</td>\n",
       "    </tr>\n",
       "  </tbody>\n",
       "</table>\n",
       "</div>"
      ],
      "text/plain": [
       "   source  target\n",
       "0  154695  234721\n",
       "1  234721  154695\n",
       "2  338609  478139\n",
       "3  478139  338609\n",
       "4  462849  462850"
      ]
     },
     "execution_count": 4,
     "metadata": {},
     "output_type": "execute_result"
    }
   ],
   "source": [
    "\"\"\" Also as function in preprocessor.py \"\"\"\n",
    "# only the best ratings are considered for recommendation:\n",
    "good_ratings = bilinks[bilinks.Rating>4]\n",
    "print(\"Good ratings: \", good_ratings.shape)\n",
    "\n",
    "# join the products through THE SAME CUSTOMER:\n",
    "one = good_ratings.set_index(\"CId\")\n",
    "two = good_ratings.set_index(\"CId\")\n",
    "all_links = one.join(two,lsuffix=\"_1\",rsuffix=\"_2\")\n",
    "diff_nodes = all_links[all_links.Id_1 != all_links.Id_2]\n",
    "print(\"Nbr of links: \", diff_nodes.shape)\n",
    "\n",
    "# select only the source and target node id columns:\n",
    "clinks = diff_nodes[[\"Id_1\",\"Id_2\"]]\n",
    "clinks.drop_duplicates(inplace=True)\n",
    "clinks.reset_index(drop=True,inplace=True)\n",
    "print(\"Nbr of links after dupl removed: \", clinks.shape)\n",
    "\n",
    "# Check that all nodes exists in nodes\n",
    "clinks = clinks[(clinks[\"Id_1\"].isin(nodes.index)) & \n",
    "                (clinks[\"Id_2\"].isin(nodes.index))]\n",
    "\n",
    "# show:\n",
    "clinks.columns = [\"source\",\"target\"]\n",
    "clinks.head()"
   ]
  }
 ],
 "metadata": {
  "interpreter": {
   "hash": "bdc8687d8d6dbe19d9fb3ab8a3c1b4cf8d9b0b1677a9be6df582fe49a179ef2b"
  },
  "kernelspec": {
   "display_name": "Python 3.8.13 ('NS')",
   "language": "python",
   "name": "python3"
  },
  "language_info": {
   "codemirror_mode": {
    "name": "ipython",
    "version": 3
   },
   "file_extension": ".py",
   "mimetype": "text/x-python",
   "name": "python",
   "nbconvert_exporter": "python",
   "pygments_lexer": "ipython3",
   "version": "3.8.13"
  },
  "orig_nbformat": 4
 },
 "nbformat": 4,
 "nbformat_minor": 2
}
